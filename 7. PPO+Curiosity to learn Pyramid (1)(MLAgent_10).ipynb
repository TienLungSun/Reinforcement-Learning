{
  "nbformat": 4,
  "nbformat_minor": 0,
  "metadata": {
    "colab": {
      "name": "2. NN with policy interacts with 3D Ball (MLAgent 10).ipynb",
      "provenance": [],
      "include_colab_link": true
    },
    "kernelspec": {
      "display_name": "Python 3",
      "language": "python",
      "name": "python3"
    },
    "language_info": {
      "codemirror_mode": {
        "name": "ipython",
        "version": 3
      },
      "file_extension": ".py",
      "mimetype": "text/x-python",
      "name": "python",
      "nbconvert_exporter": "python",
      "pygments_lexer": "ipython3",
      "version": "3.6.13"
    }
  },
  "cells": [
    {
      "cell_type": "markdown",
      "metadata": {
        "id": "view-in-github",
        "colab_type": "text"
      },
      "source": [
        "<a href=\"https://colab.research.google.com/github/TienLungSun/RL-Unity-ML-Agent/blob/main/7.%20PPO%2BCuriosity%20to%20learn%20Pyramid%20(1)(MLAgent_10).ipynb\" target=\"_parent\"><img src=\"https://colab.research.google.com/assets/colab-badge.svg\" alt=\"Open In Colab\"/></a>"
      ]
    },
    {
      "cell_type": "code",
      "metadata": {
        "id": "GRObB0mXmZhq"
      },
      "source": [
        "import torch\n",
        "import torch.nn as nn\n",
        "import torch.nn.functional as F\n",
        "from torch.distributions import Normal\n",
        "import numpy as np\n",
        "\n",
        "from mlagents_envs.environment import UnityEnvironment"
      ],
      "execution_count": null,
      "outputs": []
    },
    {
      "cell_type": "code",
      "metadata": {
        "id": "JTDJ8jn3mZh5",
        "outputId": "2903d42b-7074-42d1-baaa-9fd1da0b86da"
      },
      "source": [
        "if(torch.cuda.is_available()):\n",
        "    device = torch.device(\"cuda\")\n",
        "    print(device, torch.cuda.get_device_name(0))\n",
        "else:\n",
        "    device= torch.device(\"cpu\")\n",
        "    print(device)"
      ],
      "execution_count": null,
      "outputs": [
        {
          "name": "stdout",
          "output_type": "stream",
          "text": [
            "cuda GeForce GTX 1660 SUPER\n"
          ]
        }
      ]
    },
    {
      "cell_type": "markdown",
      "metadata": {
        "id": "6UMZgTod1J5S"
      },
      "source": [
        "### Connect to Unity to examine behavior, state and action design "
      ]
    },
    {
      "cell_type": "code",
      "metadata": {
        "id": "jE3zm83L1J5V"
      },
      "source": [
        "env = UnityEnvironment(file_name= None, base_port=5004)"
      ],
      "execution_count": null,
      "outputs": []
    },
    {
      "cell_type": "code",
      "metadata": {
        "id": "spq2Ribd1J5V",
        "outputId": "0bb18aa2-3579-47f3-afd9-d3778967af9d"
      },
      "source": [
        "# we see only one behavior name at first time\n",
        "env.reset()\n",
        "behaviorNames = list(env.behavior_specs.keys())\n",
        "print(behaviorNames)\n",
        "for behaviorName in behaviorNames:\n",
        "    behavior_spec = env.behavior_specs[behaviorName]\n",
        "    print(behaviorName, behavior_spec)"
      ],
      "execution_count": null,
      "outputs": [
        {
          "name": "stdout",
          "output_type": "stream",
          "text": [
            "['Pyramids?team=0']\n",
            "Pyramids?team=0 BehaviorSpec(observation_shapes=[(56,), (56,), (56,), (4,)], action_spec=ActionSpec(continuous_size=0, discrete_branches=(5,)))\n"
          ]
        }
      ]
    },
    {
      "cell_type": "code",
      "metadata": {
        "id": "g1z69og_1J5W"
      },
      "source": [
        "env.close()"
      ],
      "execution_count": null,
      "outputs": []
    },
    {
      "cell_type": "markdown",
      "metadata": {
        "id": "0oSWFyQp1J5W"
      },
      "source": [
        "### Define and generate NN "
      ]
    },
    {
      "cell_type": "code",
      "metadata": {
        "id": "wrBlsgb_mZh9"
      },
      "source": [
        "N_STATES  = 172  # 56+56+56+4\n",
        "N_ACTIONS = 1     # 1 branch with 5 values\n",
        "N_AGENTS = 3\n",
        "hidden_units = 512"
      ],
      "execution_count": null,
      "outputs": []
    },
    {
      "cell_type": "code",
      "metadata": {
        "id": "FGhCm8MkmZiJ"
      },
      "source": [
        "def init_weights(m):\n",
        "    if isinstance(m, nn.Linear):\n",
        "        nn.init.normal_(m.weight, mean=0., std=0.1)\n",
        "        nn.init.constant_(m.bias, 0.1)"
      ],
      "execution_count": null,
      "outputs": []
    },
    {
      "cell_type": "code",
      "metadata": {
        "id": "g8myd-uUmZiK"
      },
      "source": [
        "class Net(nn.Module):\n",
        "    def __init__(self, ):\n",
        "        super(Net, self).__init__()\n",
        "        \n",
        "        self.actor = nn.Sequential(\n",
        "            nn.Linear(N_STATES, hidden_units),\n",
        "            nn.LayerNorm(hidden_units),\n",
        "            nn.Linear(hidden_units, hidden_units),\n",
        "            nn.LayerNorm(hidden_units),\n",
        "            nn.Linear(hidden_units, N_ACTIONS)\n",
        "        )\n",
        "        self.log_std = nn.Parameter(torch.ones(1, N_ACTIONS) * 0.0)\n",
        "        self.apply(init_weights)\n",
        "    \n",
        "    def forward(self, x):\n",
        "        mu    = self.actor(x)\n",
        "        std   = self.log_std.exp().expand_as(mu)\n",
        "        dist  = Normal(mu, std)\n",
        "        return dist"
      ],
      "execution_count": null,
      "outputs": []
    },
    {
      "cell_type": "code",
      "metadata": {
        "id": "B827GoiQmZiL"
      },
      "source": [
        "net = Net().to(device)"
      ],
      "execution_count": null,
      "outputs": []
    },
    {
      "cell_type": "markdown",
      "metadata": {
        "id": "O9utBxEvmZiM"
      },
      "source": [
        "### NN interacts with Unity scene for one step "
      ]
    },
    {
      "cell_type": "code",
      "metadata": {
        "id": "tDAQoSNrmZiO"
      },
      "source": [
        "env = UnityEnvironment(file_name= None, base_port=5004)"
      ],
      "execution_count": null,
      "outputs": []
    },
    {
      "cell_type": "code",
      "metadata": {
        "id": "rY2NB7VmmZiR",
        "outputId": "4d76d811-f2d7-488f-c0d0-660176a92d3e"
      },
      "source": [
        "env.reset()\n",
        "behaviorNames = list(env.behavior_specs.keys())\n",
        "behaviorName = behaviorNames[0]\n",
        "print(behaviorName)"
      ],
      "execution_count": null,
      "outputs": [
        {
          "name": "stdout",
          "output_type": "stream",
          "text": [
            "Pyramids?team=0\n"
          ]
        }
      ]
    },
    {
      "cell_type": "code",
      "metadata": {
        "id": "st-Zc2ACmZiS",
        "outputId": "eb1ab3b6-6ea7-410c-c482-a64bbfde6f28"
      },
      "source": [
        "DecisionSteps, TerminalSteps = env.get_steps(behaviorName)\n",
        "print(DecisionSteps.agent_id, TerminalSteps.agent_id)\n",
        "for i in range(4):\n",
        "    print(DecisionSteps.obs[i].shape, end = \", \")"
      ],
      "execution_count": null,
      "outputs": [
        {
          "name": "stdout",
          "output_type": "stream",
          "text": [
            "[0 1 2] []\n",
            "(3, 56), (3, 56), (3, 56), (3, 4), "
          ]
        }
      ]
    },
    {
      "cell_type": "code",
      "metadata": {
        "id": "r8eNonDO1J5Y",
        "outputId": "db2b924f-15f3-401e-ddac-979b35b6e690"
      },
      "source": [
        "# merge vector observatin, perception \n",
        "s = torch.FloatTensor(DecisionSteps.obs[0])\n",
        "for i in range(1, 4):\n",
        "    s = torch.cat((s, torch.FloatTensor(DecisionSteps.obs[i])), 1)\n",
        "    print(s.shape)"
      ],
      "execution_count": null,
      "outputs": [
        {
          "name": "stdout",
          "output_type": "stream",
          "text": [
            "torch.Size([3, 112])\n",
            "torch.Size([3, 168])\n",
            "torch.Size([3, 172])\n"
          ]
        }
      ]
    },
    {
      "cell_type": "code",
      "metadata": {
        "id": "8vEN_XjQmZiW",
        "outputId": "11633cae-7c2a-4472-93ad-32e4a724d697"
      },
      "source": [
        "# send state to NN\n",
        "dist = net(s.to(device))\n",
        "print(dist)"
      ],
      "execution_count": null,
      "outputs": [
        {
          "name": "stdout",
          "output_type": "stream",
          "text": [
            "Normal(loc: torch.Size([3, 1]), scale: torch.Size([3, 1]))\n"
          ]
        }
      ]
    },
    {
      "cell_type": "code",
      "metadata": {
        "id": "oSZXtwOcmZiW",
        "outputId": "a406d082-dc85-4122-8a2f-5b6e4e7a71d1"
      },
      "source": [
        "actions = dist.sample()\n",
        "print(actions)"
      ],
      "execution_count": null,
      "outputs": [
        {
          "name": "stdout",
          "output_type": "stream",
          "text": [
            "tensor([[-2.3393],\n",
            "        [-0.5947],\n",
            "        [-5.3377]], device='cuda:0')\n"
          ]
        }
      ]
    },
    {
      "cell_type": "markdown",
      "metadata": {
        "id": "R8HkxUJD1J5a"
      },
      "source": [
        "#### Convert sampled action values to action indices <br />\n",
        "action = act[0]  => 0, 1(forward), 2(backward), 3(up), 4(down)<br />"
      ]
    },
    {
      "cell_type": "code",
      "metadata": {
        "id": "oBYRRJhp1J5a",
        "outputId": "6fd2de0e-2543-4446-93d6-c774d75bacb6"
      },
      "source": [
        "# find the cumulative density function evaluated at the sampled value\n",
        "actionCFD = dist.cdf(actions)\n",
        "print(actionCFD)"
      ],
      "execution_count": null,
      "outputs": [
        {
          "name": "stdout",
          "output_type": "stream",
          "text": [
            "tensor([[0.4723],\n",
            "        [0.9226],\n",
            "        [0.1825]], device='cuda:0', grad_fn=<MulBackward0>)\n"
          ]
        }
      ]
    },
    {
      "cell_type": "code",
      "metadata": {
        "id": "tB6aRzy71J5a",
        "outputId": "3cde923f-2b44-47c5-b14e-1093f86c44ea"
      },
      "source": [
        "# convert sampled value to index\n",
        "actionIdx = []\n",
        "for agentID in range(N_AGENTS):\n",
        "    agentActionIdx = []\n",
        "    for idx, value in enumerate(actions[agentID]):\n",
        "        cfd = float(actionCFD[agentID][idx])\n",
        "        if(cfd<0.2):\n",
        "            agentActionIdx.append(0)\n",
        "        elif(cfd<0.4):\n",
        "            agentActionIdx.append(1)\n",
        "        elif(cfd<0.6):\n",
        "            agentActionIdx.append(2)\n",
        "        elif(cfd<0.8):\n",
        "            agentActionIdx.append(3)\n",
        "        else:\n",
        "            agentActionIdx.append(4)\n",
        "    actionIdx.append(agentActionIdx)\n",
        "print(actionIdx)"
      ],
      "execution_count": null,
      "outputs": [
        {
          "name": "stdout",
          "output_type": "stream",
          "text": [
            "[[2], [4], [0]]\n"
          ]
        }
      ]
    },
    {
      "cell_type": "code",
      "metadata": {
        "id": "gQidfAWk1J5b",
        "outputId": "218bcfb6-d918-46f4-cb57-38b718cd4226"
      },
      "source": [
        "actionIdx = np.array(actionIdx)\n",
        "print(actionIdx.shape)"
      ],
      "execution_count": null,
      "outputs": [
        {
          "name": "stdout",
          "output_type": "stream",
          "text": [
            "(3, 1)\n"
          ]
        }
      ]
    },
    {
      "cell_type": "code",
      "metadata": {
        "id": "e3Zz91S91J5c"
      },
      "source": [
        "# send action indices to Unity\n",
        "env.set_actions(behaviorName, actionIdx)"
      ],
      "execution_count": null,
      "outputs": []
    },
    {
      "cell_type": "code",
      "metadata": {
        "id": "jsPx8EqFmZiZ"
      },
      "source": [
        "env.close()"
      ],
      "execution_count": null,
      "outputs": []
    },
    {
      "cell_type": "code",
      "metadata": {
        "id": "pwzkgjc01J5d"
      },
      "source": [
        "def GenerateActionIndex(DecisionAgentNo, actions):\n",
        "    actionCFD = dist.cdf(actions)    \n",
        "    actionIdx = []\n",
        "    for agentID in range(N_AGENTS):\n",
        "        agentActionIdx = []\n",
        "        for idx, value in enumerate(actions[agentID]):\n",
        "            cfd = float(actionCFD[agentID][idx])\n",
        "            if(cfd<0.2):\n",
        "                agentActionIdx.append(0)\n",
        "            elif(cfd<0.4):\n",
        "                agentActionIdx.append(1)\n",
        "            elif(cfd<0.6):\n",
        "                agentActionIdx.append(2)\n",
        "            elif(cfd<0.8):\n",
        "                agentActionIdx.append(3)\n",
        "            else:\n",
        "                agentActionIdx.append(4)\n",
        "        actionIdx.append(agentActionIdx)\n",
        "    return np.array(actionIdx)"
      ],
      "execution_count": null,
      "outputs": []
    },
    {
      "cell_type": "markdown",
      "metadata": {
        "id": "s2z_K1TgmZiZ"
      },
      "source": [
        "# Interact with Unity for multiple steps"
      ]
    },
    {
      "cell_type": "code",
      "metadata": {
        "id": "enqzAfnCmZia"
      },
      "source": [
        "env = UnityEnvironment(file_name= None, base_port=5004)"
      ],
      "execution_count": null,
      "outputs": []
    },
    {
      "cell_type": "code",
      "metadata": {
        "id": "jyDcZFp71J5d"
      },
      "source": [
        "env.reset()\n",
        "behaviorNames = list(env.behavior_specs.keys())\n",
        "behaviorName = behaviorNames[0]"
      ],
      "execution_count": null,
      "outputs": []
    },
    {
      "cell_type": "code",
      "metadata": {
        "id": "JuymApgvmZia"
      },
      "source": [
        "env.reset()\n",
        "for frame in range(500):\n",
        "    DecisionSteps, TerminalSteps = env.get_steps(behaviorName)    \n",
        "    if(len(DecisionSteps)==0):\n",
        "        print(\"Step\", frame, \": no decision steps, reset!\")\n",
        "        env.reset()\n",
        "    else:  #len(DecisionSteps)>0\n",
        "        s = torch.FloatTensor(DecisionSteps.obs[0])\n",
        "        for i in range(1, 4):\n",
        "            s = torch.cat((s, torch.FloatTensor(DecisionSteps.obs[i])), 1)\n",
        "        dist = net(s.to(device))\n",
        "        action = dist.sample()\n",
        "        actionIdx = GenerateActionIndex(len(DecisionSteps), action)  \n",
        "        env.set_actions(behaviorName, actionIdx)   \n",
        "        env.step()"
      ],
      "execution_count": null,
      "outputs": []
    },
    {
      "cell_type": "code",
      "metadata": {
        "id": "ksJ0aS0pmZib"
      },
      "source": [
        "env.close()"
      ],
      "execution_count": null,
      "outputs": []
    },
    {
      "cell_type": "code",
      "metadata": {
        "id": "73684jBm1J5e"
      },
      "source": [
        ""
      ],
      "execution_count": null,
      "outputs": []
    }
  ]
}