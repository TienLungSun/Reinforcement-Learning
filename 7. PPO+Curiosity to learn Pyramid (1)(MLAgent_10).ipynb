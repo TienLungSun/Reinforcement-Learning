{
 "cells": [
  {
   "cell_type": "code",
   "execution_count": 1,
   "metadata": {
    "id": "GRObB0mXmZhq"
   },
   "outputs": [],
   "source": [
    "import torch\n",
    "import torch.nn as nn\n",
    "import torch.nn.functional as F\n",
    "from torch.distributions import Normal\n",
    "import numpy as np\n",
    "\n",
    "from mlagents_envs.environment import UnityEnvironment"
   ]
  },
  {
   "cell_type": "code",
   "execution_count": 2,
   "metadata": {
    "id": "JTDJ8jn3mZh5",
    "outputId": "2903d42b-7074-42d1-baaa-9fd1da0b86da"
   },
   "outputs": [
    {
     "name": "stdout",
     "output_type": "stream",
     "text": [
      "cuda GeForce GTX 1660 SUPER\n"
     ]
    }
   ],
   "source": [
    "if(torch.cuda.is_available()):\n",
    "    device = torch.device(\"cuda\")\n",
    "    print(device, torch.cuda.get_device_name(0))\n",
    "else:\n",
    "    device= torch.device(\"cpu\")\n",
    "    print(device)"
   ]
  },
  {
   "cell_type": "markdown",
   "metadata": {},
   "source": [
    "### Connect to Unity to examine behavior, state and action design "
   ]
  },
  {
   "cell_type": "code",
   "execution_count": 3,
   "metadata": {},
   "outputs": [],
   "source": [
    "env = UnityEnvironment(file_name= None, base_port=5004)"
   ]
  },
  {
   "cell_type": "code",
   "execution_count": 4,
   "metadata": {},
   "outputs": [
    {
     "name": "stdout",
     "output_type": "stream",
     "text": [
      "['Pyramids?team=0']\n",
      "Pyramids?team=0 BehaviorSpec(observation_shapes=[(56,), (56,), (56,), (4,)], action_spec=ActionSpec(continuous_size=0, discrete_branches=(5,)))\n"
     ]
    }
   ],
   "source": [
    "# we see only one behavior name at first time\n",
    "env.reset()\n",
    "behaviorNames = list(env.behavior_specs.keys())\n",
    "print(behaviorNames)\n",
    "for behaviorName in behaviorNames:\n",
    "    behavior_spec = env.behavior_specs[behaviorName]\n",
    "    print(behaviorName, behavior_spec)"
   ]
  },
  {
   "cell_type": "code",
   "execution_count": 5,
   "metadata": {},
   "outputs": [],
   "source": [
    "env.close()"
   ]
  },
  {
   "cell_type": "markdown",
   "metadata": {},
   "source": [
    "### Define and generate NN "
   ]
  },
  {
   "cell_type": "code",
   "execution_count": 6,
   "metadata": {
    "id": "wrBlsgb_mZh9"
   },
   "outputs": [],
   "source": [
    "N_STATES  = 172  # 56+56+56+4\n",
    "N_ACTIONS = 1     # 1 branch with 5 values\n",
    "N_AGENTS = 3\n",
    "hidden_units = 512"
   ]
  },
  {
   "cell_type": "code",
   "execution_count": 7,
   "metadata": {
    "id": "FGhCm8MkmZiJ"
   },
   "outputs": [],
   "source": [
    "def init_weights(m):\n",
    "    if isinstance(m, nn.Linear):\n",
    "        nn.init.normal_(m.weight, mean=0., std=0.1)\n",
    "        nn.init.constant_(m.bias, 0.1)"
   ]
  },
  {
   "cell_type": "code",
   "execution_count": 8,
   "metadata": {
    "id": "g8myd-uUmZiK"
   },
   "outputs": [],
   "source": [
    "class Net(nn.Module):\n",
    "    def __init__(self, ):\n",
    "        super(Net, self).__init__()\n",
    "        \n",
    "        self.actor = nn.Sequential(\n",
    "            nn.Linear(N_STATES, hidden_units),\n",
    "            nn.LayerNorm(hidden_units),\n",
    "            nn.Linear(hidden_units, hidden_units),\n",
    "            nn.LayerNorm(hidden_units),\n",
    "            nn.Linear(hidden_units, N_ACTIONS)\n",
    "        )\n",
    "        self.log_std = nn.Parameter(torch.ones(1, N_ACTIONS) * 0.0)\n",
    "        self.apply(init_weights)\n",
    "    \n",
    "    def forward(self, x):\n",
    "        mu    = self.actor(x)\n",
    "        std   = self.log_std.exp().expand_as(mu)\n",
    "        dist  = Normal(mu, std)\n",
    "        return dist"
   ]
  },
  {
   "cell_type": "code",
   "execution_count": 9,
   "metadata": {
    "id": "B827GoiQmZiL"
   },
   "outputs": [],
   "source": [
    "net = Net().to(device)"
   ]
  },
  {
   "cell_type": "markdown",
   "metadata": {
    "id": "O9utBxEvmZiM"
   },
   "source": [
    "### NN interacts with Unity scene for one step "
   ]
  },
  {
   "cell_type": "code",
   "execution_count": 10,
   "metadata": {
    "id": "tDAQoSNrmZiO",
    "outputId": "67f2842d-90ef-4390-ca4e-b520c794cc14"
   },
   "outputs": [],
   "source": [
    "env = UnityEnvironment(file_name= None, base_port=5004)"
   ]
  },
  {
   "cell_type": "code",
   "execution_count": 11,
   "metadata": {
    "id": "rY2NB7VmmZiR"
   },
   "outputs": [
    {
     "name": "stdout",
     "output_type": "stream",
     "text": [
      "Pyramids?team=0\n"
     ]
    }
   ],
   "source": [
    "env.reset()\n",
    "behaviorNames = list(env.behavior_specs.keys())\n",
    "behaviorName = behaviorNames[0]\n",
    "print(behaviorName)"
   ]
  },
  {
   "cell_type": "code",
   "execution_count": 12,
   "metadata": {
    "id": "st-Zc2ACmZiS"
   },
   "outputs": [
    {
     "name": "stdout",
     "output_type": "stream",
     "text": [
      "[0 1 2] []\n",
      "(3, 56), (3, 56), (3, 56), (3, 4), "
     ]
    }
   ],
   "source": [
    "DecisionSteps, TerminalSteps = env.get_steps(behaviorName)\n",
    "print(DecisionSteps.agent_id, TerminalSteps.agent_id)\n",
    "for i in range(4):\n",
    "    print(DecisionSteps.obs[i].shape, end = \", \")"
   ]
  },
  {
   "cell_type": "code",
   "execution_count": 13,
   "metadata": {},
   "outputs": [
    {
     "name": "stdout",
     "output_type": "stream",
     "text": [
      "torch.Size([3, 112])\n",
      "torch.Size([3, 168])\n",
      "torch.Size([3, 172])\n"
     ]
    }
   ],
   "source": [
    "# merge vector observatin, perception \n",
    "s = torch.FloatTensor(DecisionSteps.obs[0])\n",
    "for i in range(1, 4):\n",
    "    s = torch.cat((s, torch.FloatTensor(DecisionSteps.obs[i])), 1)\n",
    "    print(s.shape)"
   ]
  },
  {
   "cell_type": "code",
   "execution_count": 14,
   "metadata": {
    "id": "8vEN_XjQmZiW",
    "outputId": "11633cae-7c2a-4472-93ad-32e4a724d697"
   },
   "outputs": [
    {
     "name": "stdout",
     "output_type": "stream",
     "text": [
      "Normal(loc: torch.Size([3, 1]), scale: torch.Size([3, 1]))\n"
     ]
    }
   ],
   "source": [
    "# send state to NN\n",
    "dist = net(s.to(device))\n",
    "print(dist)"
   ]
  },
  {
   "cell_type": "code",
   "execution_count": 15,
   "metadata": {
    "id": "oSZXtwOcmZiW",
    "outputId": "a406d082-dc85-4122-8a2f-5b6e4e7a71d1"
   },
   "outputs": [
    {
     "name": "stdout",
     "output_type": "stream",
     "text": [
      "tensor([[-2.3393],\n",
      "        [-0.5947],\n",
      "        [-5.3377]], device='cuda:0')\n"
     ]
    }
   ],
   "source": [
    "actions = dist.sample()\n",
    "print(actions)"
   ]
  },
  {
   "cell_type": "markdown",
   "metadata": {},
   "source": [
    "#### Convert sampled action values to action indices <br />\n",
    "action = act[0]  => 0, 1(forward), 2(backward), 3(up), 4(down)<br />"
   ]
  },
  {
   "cell_type": "code",
   "execution_count": 16,
   "metadata": {},
   "outputs": [
    {
     "name": "stdout",
     "output_type": "stream",
     "text": [
      "tensor([[0.4723],\n",
      "        [0.9226],\n",
      "        [0.1825]], device='cuda:0', grad_fn=<MulBackward0>)\n"
     ]
    }
   ],
   "source": [
    "# find the cumulative density function evaluated at the sampled value\n",
    "actionCFD = dist.cdf(actions)\n",
    "print(actionCFD)"
   ]
  },
  {
   "cell_type": "code",
   "execution_count": 17,
   "metadata": {},
   "outputs": [
    {
     "name": "stdout",
     "output_type": "stream",
     "text": [
      "[[2], [4], [0]]\n"
     ]
    }
   ],
   "source": [
    "# convert sampled value to index\n",
    "actionIdx = []\n",
    "for agentID in range(N_AGENTS):\n",
    "    agentActionIdx = []\n",
    "    for idx, value in enumerate(actions[agentID]):\n",
    "        cfd = float(actionCFD[agentID][idx])\n",
    "        if(cfd<0.2):\n",
    "            agentActionIdx.append(0)\n",
    "        elif(cfd<0.4):\n",
    "            agentActionIdx.append(1)\n",
    "        elif(cfd<0.6):\n",
    "            agentActionIdx.append(2)\n",
    "        elif(cfd<0.8):\n",
    "            agentActionIdx.append(3)\n",
    "        else:\n",
    "            agentActionIdx.append(4)\n",
    "    actionIdx.append(agentActionIdx)\n",
    "print(actionIdx)"
   ]
  },
  {
   "cell_type": "code",
   "execution_count": 18,
   "metadata": {},
   "outputs": [
    {
     "name": "stdout",
     "output_type": "stream",
     "text": [
      "(3, 1)\n"
     ]
    }
   ],
   "source": [
    "actionIdx = np.array(actionIdx)\n",
    "print(actionIdx.shape)"
   ]
  },
  {
   "cell_type": "code",
   "execution_count": 19,
   "metadata": {},
   "outputs": [],
   "source": [
    "# send action indices to Unity\n",
    "env.set_actions(behaviorName, actionIdx)"
   ]
  },
  {
   "cell_type": "code",
   "execution_count": 20,
   "metadata": {
    "id": "jsPx8EqFmZiZ"
   },
   "outputs": [],
   "source": [
    "env.close()"
   ]
  },
  {
   "cell_type": "code",
   "execution_count": 21,
   "metadata": {},
   "outputs": [],
   "source": [
    "def GenerateActionIndex(DecisionAgentNo, actions):\n",
    "    actionCFD = dist.cdf(actions)    \n",
    "    actionIdx = []\n",
    "    for agentID in range(N_AGENTS):\n",
    "        agentActionIdx = []\n",
    "        for idx, value in enumerate(actions[agentID]):\n",
    "            cfd = float(actionCFD[agentID][idx])\n",
    "            if(cfd<0.2):\n",
    "                agentActionIdx.append(0)\n",
    "            elif(cfd<0.4):\n",
    "                agentActionIdx.append(1)\n",
    "            elif(cfd<0.6):\n",
    "                agentActionIdx.append(2)\n",
    "            elif(cfd<0.8):\n",
    "                agentActionIdx.append(3)\n",
    "            else:\n",
    "                agentActionIdx.append(4)\n",
    "        actionIdx.append(agentActionIdx)\n",
    "    return np.array(actionIdx)"
   ]
  },
  {
   "cell_type": "markdown",
   "metadata": {
    "id": "s2z_K1TgmZiZ"
   },
   "source": [
    "# Interact with Unity for multiple steps"
   ]
  },
  {
   "cell_type": "code",
   "execution_count": 22,
   "metadata": {
    "id": "enqzAfnCmZia",
    "outputId": "080f3e34-f7fe-4a3b-d86b-803638f6f932"
   },
   "outputs": [],
   "source": [
    "env = UnityEnvironment(file_name= None, base_port=5004)"
   ]
  },
  {
   "cell_type": "code",
   "execution_count": 23,
   "metadata": {},
   "outputs": [],
   "source": [
    "env.reset()\n",
    "behaviorNames = list(env.behavior_specs.keys())\n",
    "behaviorName = behaviorNames[0]"
   ]
  },
  {
   "cell_type": "code",
   "execution_count": 26,
   "metadata": {
    "id": "JuymApgvmZia",
    "outputId": "b0cce321-2193-49f2-e466-c0d6a905fe83"
   },
   "outputs": [],
   "source": [
    "env.reset()\n",
    "for frame in range(500):\n",
    "    DecisionSteps, TerminalSteps = env.get_steps(behaviorName)    \n",
    "    if(len(DecisionSteps)==0):\n",
    "        print(\"Step\", frame, \": no decision steps, reset!\")\n",
    "        env.reset()\n",
    "    else:  #len(DecisionSteps)>0\n",
    "        s = torch.FloatTensor(DecisionSteps.obs[0])\n",
    "        for i in range(1, 4):\n",
    "            s = torch.cat((s, torch.FloatTensor(DecisionSteps.obs[i])), 1)\n",
    "        dist = net(s.to(device))\n",
    "        action = dist.sample()\n",
    "        actionIdx = GenerateActionIndex(len(DecisionSteps), action)  \n",
    "        env.set_actions(behaviorName, actionIdx)   \n",
    "        env.step()"
   ]
  },
  {
   "cell_type": "code",
   "execution_count": 27,
   "metadata": {
    "id": "ksJ0aS0pmZib"
   },
   "outputs": [],
   "source": [
    "env.close()"
   ]
  },
  {
   "cell_type": "code",
   "execution_count": null,
   "metadata": {},
   "outputs": [],
   "source": []
  }
 ],
 "metadata": {
  "colab": {
   "name": "2. NN with policy interacts with 3D Ball (MLAgent 10).ipynb",
   "provenance": []
  },
  "kernelspec": {
   "display_name": "Python 3",
   "language": "python",
   "name": "python3"
  },
  "language_info": {
   "codemirror_mode": {
    "name": "ipython",
    "version": 3
   },
   "file_extension": ".py",
   "mimetype": "text/x-python",
   "name": "python",
   "nbconvert_exporter": "python",
   "pygments_lexer": "ipython3",
   "version": "3.6.13"
  }
 },
 "nbformat": 4,
 "nbformat_minor": 1
}
