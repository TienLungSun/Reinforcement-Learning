{
 "cells": [
  {
   "cell_type": "code",
   "execution_count": 1,
   "metadata": {
    "id": "z29hg89Qmg-S"
   },
   "outputs": [],
   "source": [
    "import torch\n",
    "import torch.nn as nn\n",
    "import torch.nn.functional as F\n",
    "import torch.optim as optim\n",
    "from torch.distributions import Normal\n",
    "import numpy as np\n",
    "import matplotlib.pyplot as plt\n",
    "from mlagents_envs.environment import UnityEnvironment"
   ]
  },
  {
   "cell_type": "code",
   "execution_count": 2,
   "metadata": {
    "id": "U5TAt7Mcmg-W",
    "outputId": "6ef7273c-d02b-45b2-9512-a2e57da25817"
   },
   "outputs": [
    {
     "name": "stdout",
     "output_type": "stream",
     "text": [
      "cuda GeForce GTX 1660 SUPER\n"
     ]
    }
   ],
   "source": [
    "if(torch.cuda.is_available()):\n",
    "    device = torch.device(\"cuda\")\n",
    "    print(device, torch.cuda.get_device_name(0))\n",
    "else:\n",
    "    device= torch.device(\"cpu\")\n",
    "    print(device)"
   ]
  },
  {
   "cell_type": "code",
   "execution_count": 3,
   "metadata": {
    "id": "0rHdXcP-mg-X"
   },
   "outputs": [],
   "source": [
    "# state = input of NN, action = output of NN\n",
    "N_STATES  = 8\n",
    "N_ACTIONS =2"
   ]
  },
  {
   "cell_type": "code",
   "execution_count": 4,
   "metadata": {
    "id": "bEjeAPtXmg-Y"
   },
   "outputs": [],
   "source": [
    "def init_weights(m):\n",
    "    if isinstance(m, nn.Linear):\n",
    "        nn.init.normal_(m.weight, mean=0., std=0.1)\n",
    "        nn.init.constant_(m.bias, 0.1)"
   ]
  },
  {
   "cell_type": "code",
   "execution_count": 5,
   "metadata": {
    "id": "9MJKXhTgmg-Y"
   },
   "outputs": [],
   "source": [
    "class Net(nn.Module):\n",
    "    def __init__(self, ):\n",
    "        super(Net, self).__init__()\n",
    "        \n",
    "        self.actor = nn.Sequential(\n",
    "            nn.Linear(N_STATES, 128),\n",
    "            nn.LayerNorm(128),\n",
    "            nn.Linear(128, 128),\n",
    "            nn.LayerNorm(128),\n",
    "            nn.Linear(128, N_ACTIONS)\n",
    "        )\n",
    "        self.log_std = nn.Parameter(torch.ones(1, N_ACTIONS) * 0.0)\n",
    "        self.apply(init_weights)\n",
    "    \n",
    "    def forward(self, x):\n",
    "        mu    = self.actor(x)\n",
    "        std   = self.log_std.exp().expand_as(mu)\n",
    "        dist  = Normal(mu, std)\n",
    "        return dist"
   ]
  },
  {
   "cell_type": "code",
   "execution_count": 6,
   "metadata": {
    "id": "sj7O_oOUmg-Z"
   },
   "outputs": [],
   "source": [
    "net = Net().to(device)"
   ]
  },
  {
   "cell_type": "code",
   "execution_count": 7,
   "metadata": {},
   "outputs": [],
   "source": [
    "optimizer = optim.Adam(net.parameters(), lr=0.001)"
   ]
  },
  {
   "cell_type": "markdown",
   "metadata": {},
   "source": [
    "### Let NN interact with 3D ball to collect 20 steps of (s, a, r, s1) data from all agents"
   ]
  },
  {
   "cell_type": "code",
   "execution_count": 22,
   "metadata": {
    "id": "x2GNW0jsmg-Z",
    "outputId": "5a9937db-f4e6-4ff5-f4f0-35ebedb68d61"
   },
   "outputs": [],
   "source": [
    "env = UnityEnvironment(file_name= None, base_port=5004)"
   ]
  },
  {
   "cell_type": "code",
   "execution_count": 23,
   "metadata": {
    "id": "_SeNL04Fmg-b"
   },
   "outputs": [
    {
     "name": "stdout",
     "output_type": "stream",
     "text": [
      "3DBall?team=0\n"
     ]
    }
   ],
   "source": [
    "env.reset()\n",
    "behaviorNames = list(env.behavior_specs.keys())\n",
    "behaviorName = behaviorNames[0]\n",
    "print(behaviorName)"
   ]
  },
  {
   "cell_type": "code",
   "execution_count": 24,
   "metadata": {},
   "outputs": [],
   "source": [
    "NoAgents = 3 #My Unity scene has three training environment\n",
    "NoSteps = 20"
   ]
  },
  {
   "cell_type": "code",
   "execution_count": 25,
   "metadata": {},
   "outputs": [
    {
     "name": "stdout",
     "output_type": "stream",
     "text": [
      "step  16 has no decision agents !\n",
      "Decisin agents []\n",
      "Terminal agents [1]\n",
      "Reset the training environment!\n"
     ]
    }
   ],
   "source": [
    "# collect (s,a,r,s1) from 20 good interactions with Unity\n",
    "a = torch.FloatTensor([[0]]*NoAgents) #create NoAgents by 1 tensor\n",
    "b = torch.FloatTensor([[0]*N_ACTIONS]*NoAgents) \n",
    "c = torch.FloatTensor([[0]*N_STATES]*NoAgents) \n",
    "values = rewards = masks = [a]*NoSteps\n",
    "log_probs = actions = [b]*NoSteps\n",
    "states =[c]*NoSteps\n",
    "\n",
    "step = 0  #index 0\n",
    "DecisionSteps, TerminalSteps = env.get_steps(behaviorName)\n",
    "while(step < NoSteps): #try to run 20 good steps\n",
    "    if(len(DecisionSteps) == 0): #we have no decision agents\n",
    "        print(\"step \", step, \"has no decision agents !\")\n",
    "        print(\"Decisin agents\", list(DecisionSteps.agent_id))\n",
    "        print(\"Terminal agents\", list(TerminalSteps.agent_id))\n",
    "        print(\"Reset the training environment!\")\n",
    "        env.reset() \n",
    "        DecisionSteps, TerminalSteps = env.get_steps(behaviorName)\n",
    "        #continue next while loop without increase step\n",
    "    else:  # we have decision agents\n",
    "        lst = list(DecisionSteps.agent_id) + list(TerminalSteps.agent_id)\n",
    "        if(len(list(set(lst))) != NoAgents): \n",
    "            #if this step misses some agents, then only interacts with Unity \n",
    "            #but do not collect data\n",
    "            s = DecisionSteps.obs[0]  \n",
    "            s = torch.FloatTensor(s).to(device)    \n",
    "            dist = net(s)\n",
    "            a = dist.sample() \n",
    "            env.set_actions(behaviorName, a.cpu().detach().numpy() )   \n",
    "            env.step()\n",
    "            DecisionSteps, TerminalSteps = env.get_steps(behaviorName)\n",
    "            #continue next while loop without increase step\n",
    "        else: \n",
    "            #this step includes all agents, collect (s, a, r, s1)\n",
    "            s = DecisionSteps.obs[0]  \n",
    "            s = torch.FloatTensor(s).to(device)         \n",
    "            dist = net(s)\n",
    "            a = dist.sample()\n",
    "            log_prob = dist.log_prob(a)\n",
    "            for idx in range(len(DecisionSteps)):\n",
    "                #find decision agents and record their state, value and actions\n",
    "                AgentID = DecisionSteps.agent_id[idx]\n",
    "                states[step][AgentID]=s[idx]\n",
    "                values[step][AgentID]= 0.2 # value will be estimated by critic NN later \n",
    "                actions[step][AgentID]=a[idx]\n",
    "                log_probs[step][AgentID]=log_prob[idx]\n",
    "            env.set_actions(behaviorName, a.cpu().detach().numpy() )   \n",
    "            env.step()\n",
    "            DecisionSteps, TerminalSteps = env.get_steps(behaviorName)\n",
    "            #if next step misses some agents, then do not update step\n",
    "            lst = list(DecisionSteps.agent_id) + list(TerminalSteps.agent_id)\n",
    "            if(len(list(set(lst))) != NoAgents):\n",
    "                continue #skip this step, run next while loop without increase step index\n",
    "            else:\n",
    "                #collect reward of this action from next decision and terminal steps\n",
    "                if(len(TerminalSteps) >0):\n",
    "                    #if next step has terminal agents, then collect terminal agents first\n",
    "                    r = TerminalSteps.reward\n",
    "                    r = torch.FloatTensor(r).unsqueeze(1)\n",
    "                    for idx in range(len(TerminalSteps)):\n",
    "                        AgentID = TerminalSteps.agent_id[idx]\n",
    "                        rewards[step][AgentID]=r[idx]\n",
    "                        masks[step][AgentID]= 0\n",
    "                #collect from decision steps\n",
    "                r = DecisionSteps.reward \n",
    "                r = torch.FloatTensor(r).unsqueeze(1)\n",
    "                for idx in range(len(DecisionSteps)):\n",
    "                    AgentID = DecisionSteps.agent_id[idx] \n",
    "                    if(rewards[step][AgentID] == None): #this agent is not in terminal step\n",
    "                        rewards[step][AgentID]= r[idx]\n",
    "                        masks[step][AgentID]= 1\n",
    "                step = step + 1 #increase step and run next while"
   ]
  },
  {
   "cell_type": "code",
   "execution_count": 26,
   "metadata": {},
   "outputs": [],
   "source": [
    "env.close()"
   ]
  },
  {
   "cell_type": "code",
   "execution_count": 27,
   "metadata": {
    "id": "6mW65NENmg-h",
    "outputId": "4b5c9b0a-dc53-4ae7-fd8d-73f32e0807ad"
   },
   "outputs": [
    {
     "name": "stdout",
     "output_type": "stream",
     "text": [
      "20 torch.Size([3, 2])\n",
      "20 torch.Size([3, 1])\n",
      "20 torch.Size([3, 1])\n",
      "20 torch.Size([3, 1])\n",
      "20 torch.Size([3, 8])\n",
      "20 torch.Size([3, 2])\n"
     ]
    }
   ],
   "source": [
    "print(len(log_probs), log_probs[0].shape)\n",
    "print(len(values), values[0].shape)\n",
    "print(len(rewards), rewards[0].shape)\n",
    "print(len(masks), masks[0].shape)\n",
    "print(len(states), states[0].shape)\n",
    "print(len(actions), actions[0].shape)"
   ]
  },
  {
   "cell_type": "code",
   "execution_count": 28,
   "metadata": {},
   "outputs": [],
   "source": [
    "# we need to know the value of step 21\n",
    "next_v = torch.FloatTensor([[0.2]]*NoAgents) \n",
    "values1 = values + [next_v]"
   ]
  },
  {
   "cell_type": "markdown",
   "metadata": {},
   "source": [
    "### Calculate GAE of this training loop"
   ]
  },
  {
   "cell_type": "code",
   "execution_count": 29,
   "metadata": {},
   "outputs": [],
   "source": [
    "gae = 0\n",
    "gamma=0.99\n",
    "tau=0.95\n",
    "returns = []\n",
    "for step in reversed(range(NoSteps)):\n",
    "    delta = rewards[step] + gamma * values1[step + 1] * masks[step] - values1[step]\n",
    "    gae = delta + gamma * tau * masks[step] * gae\n",
    "    returns.insert(0, gae + values1[step])"
   ]
  },
  {
   "cell_type": "code",
   "execution_count": 30,
   "metadata": {},
   "outputs": [
    {
     "name": "stdout",
     "output_type": "stream",
     "text": [
      "20 torch.Size([3, 1])\n"
     ]
    }
   ],
   "source": [
    "print(len(returns), returns[0].shape)"
   ]
  },
  {
   "cell_type": "markdown",
   "metadata": {},
   "source": [
    "### Use PPO to update NN weights and biases"
   ]
  },
  {
   "cell_type": "code",
   "execution_count": 31,
   "metadata": {},
   "outputs": [],
   "source": [
    "returns   = torch.cat(returns).detach()\n",
    "log_probs = torch.cat(log_probs).detach()\n",
    "values    = torch.cat(values).detach()\n",
    "states    = torch.cat(states) \n",
    "actions   = torch.cat(actions)\n",
    "advantage = returns - values"
   ]
  },
  {
   "cell_type": "code",
   "execution_count": 32,
   "metadata": {},
   "outputs": [
    {
     "name": "stdout",
     "output_type": "stream",
     "text": [
      "60 torch.Size([1])\n",
      "60 torch.Size([2])\n",
      "60 torch.Size([1])\n",
      "60 torch.Size([8])\n",
      "60 torch.Size([2])\n",
      "60 torch.Size([1])\n"
     ]
    }
   ],
   "source": [
    "print(len(returns), returns[0].shape)\n",
    "print(len(log_probs), log_probs[0].shape)\n",
    "print(len(values), values[0].shape)\n",
    "print(len(states), states[0].shape)\n",
    "print(len(actions), actions[0].shape)\n",
    "print(len(advantage), advantage[0].shape)"
   ]
  },
  {
   "cell_type": "markdown",
   "metadata": {},
   "source": [
    "randomly select batches of training data"
   ]
  },
  {
   "cell_type": "code",
   "execution_count": 33,
   "metadata": {},
   "outputs": [
    {
     "data": {
      "text/plain": [
       "torch.Size([60, 8])"
      ]
     },
     "execution_count": 33,
     "metadata": {},
     "output_type": "execute_result"
    }
   ],
   "source": [
    "states.shape"
   ]
  },
  {
   "cell_type": "code",
   "execution_count": 34,
   "metadata": {},
   "outputs": [
    {
     "data": {
      "text/plain": [
       "60"
      ]
     },
     "execution_count": 34,
     "metadata": {},
     "output_type": "execute_result"
    }
   ],
   "source": [
    "states.size(0)"
   ]
  },
  {
   "cell_type": "code",
   "execution_count": 35,
   "metadata": {},
   "outputs": [],
   "source": [
    "batch_size = states.size(0)\n",
    "mini_batch_size  = 5"
   ]
  },
  {
   "cell_type": "code",
   "execution_count": 36,
   "metadata": {},
   "outputs": [
    {
     "data": {
      "text/plain": [
       "12"
      ]
     },
     "execution_count": 36,
     "metadata": {},
     "output_type": "execute_result"
    }
   ],
   "source": [
    "batch_size // mini_batch_size"
   ]
  },
  {
   "cell_type": "code",
   "execution_count": 37,
   "metadata": {},
   "outputs": [
    {
     "data": {
      "text/plain": [
       "array([22, 54, 38, 39, 51])"
      ]
     },
     "execution_count": 37,
     "metadata": {},
     "output_type": "execute_result"
    }
   ],
   "source": [
    "#from [0, batch_size], randomly select mini_batch_size\n",
    "np.random.randint(0, batch_size, mini_batch_size)"
   ]
  },
  {
   "cell_type": "code",
   "execution_count": 38,
   "metadata": {},
   "outputs": [
    {
     "name": "stdout",
     "output_type": "stream",
     "text": [
      "[39 52 11  8 45]\n",
      "torch.Size([5, 8])\n",
      "torch.Size([5, 2])\n",
      "torch.Size([5, 2])\n",
      "torch.Size([5, 1])\n",
      "torch.Size([5, 1])\n"
     ]
    }
   ],
   "source": [
    "batch_size = states.size(0)\n",
    "for _ in range(batch_size // mini_batch_size):\n",
    "    rand_ids = np.random.randint(0, batch_size, mini_batch_size)\n",
    "    break\n",
    "print(rand_ids)\n",
    "print(states[rand_ids, :].shape)\n",
    "print(actions[rand_ids, :].shape) \n",
    "print(log_probs[rand_ids, :].shape) \n",
    "print(returns[rand_ids, :].shape)\n",
    "print(advantage[rand_ids, :].shape)"
   ]
  },
  {
   "cell_type": "code",
   "execution_count": 39,
   "metadata": {},
   "outputs": [],
   "source": [
    "def ppo_iter(mini_batch_size, states, actions, log_probs, returns, advantage):\n",
    "    batch_size = states.size(0)\n",
    "    for _ in range(batch_size // mini_batch_size):\n",
    "        rand_ids = np.random.randint(0, batch_size, mini_batch_size)\n",
    "        yield states[rand_ids, :], actions[rand_ids, :], log_probs[rand_ids, :], returns[rand_ids, :], advantage[rand_ids, :]"
   ]
  },
  {
   "cell_type": "markdown",
   "metadata": {},
   "source": [
    "select one batch and perform PPO optimization"
   ]
  },
  {
   "cell_type": "code",
   "execution_count": 40,
   "metadata": {},
   "outputs": [],
   "source": [
    "for batch_state, batch_action, batch_old_log_probs, batch_return, batch_advantage in ppo_iter(mini_batch_size, states, actions, log_probs, returns, advantage):\n",
    "    break"
   ]
  },
  {
   "cell_type": "code",
   "execution_count": 41,
   "metadata": {},
   "outputs": [
    {
     "name": "stdout",
     "output_type": "stream",
     "text": [
      "torch.Size([5, 8]) torch.Size([5, 2])\n"
     ]
    }
   ],
   "source": [
    "print(batch_state.shape, batch_action.shape)"
   ]
  },
  {
   "cell_type": "code",
   "execution_count": 42,
   "metadata": {},
   "outputs": [
    {
     "name": "stdout",
     "output_type": "stream",
     "text": [
      "Normal(loc: torch.Size([5, 2]), scale: torch.Size([5, 2]))\n"
     ]
    }
   ],
   "source": [
    "dist = net(batch_state.to(device))\n",
    "print(dist)"
   ]
  },
  {
   "cell_type": "code",
   "execution_count": 43,
   "metadata": {},
   "outputs": [
    {
     "name": "stdout",
     "output_type": "stream",
     "text": [
      "torch.Size([5, 2])\n"
     ]
    }
   ],
   "source": [
    "batch_action = dist.sample()\n",
    "batch_new_log_probs = dist.log_prob(batch_action)\n",
    "print(batch_new_log_probs.shape)"
   ]
  },
  {
   "cell_type": "code",
   "execution_count": 44,
   "metadata": {},
   "outputs": [
    {
     "name": "stdout",
     "output_type": "stream",
     "text": [
      "tensor([[1.2427, 0.6327],\n",
      "        [0.4962, 1.2191],\n",
      "        [0.8360, 1.0056],\n",
      "        [1.4339, 0.3089],\n",
      "        [1.3568, 0.3191]], device='cuda:0', grad_fn=<ExpBackward>)\n"
     ]
    }
   ],
   "source": [
    "ratio = (batch_new_log_probs - batch_old_log_probs.to(device)).exp()\n",
    "print(ratio)"
   ]
  },
  {
   "cell_type": "code",
   "execution_count": 45,
   "metadata": {},
   "outputs": [
    {
     "name": "stdout",
     "output_type": "stream",
     "text": [
      "tensor([[0.0606, 0.0309],\n",
      "        [0.0242, 0.0595],\n",
      "        [0.0408, 0.0491],\n",
      "        [0.0699, 0.0151],\n",
      "        [0.0662, 0.0156]], device='cuda:0', grad_fn=<MulBackward0>)\n"
     ]
    }
   ],
   "source": [
    "surr1 = ratio * batch_advantage.to(device)\n",
    "print(surr1)"
   ]
  },
  {
   "cell_type": "code",
   "execution_count": 46,
   "metadata": {
    "scrolled": true
   },
   "outputs": [
    {
     "name": "stdout",
     "output_type": "stream",
     "text": [
      "tensor([[0.0585, 0.0390],\n",
      "        [0.0390, 0.0585],\n",
      "        [0.0408, 0.0491],\n",
      "        [0.0585, 0.0390],\n",
      "        [0.0585, 0.0390]], device='cuda:0', grad_fn=<MulBackward0>)\n"
     ]
    }
   ],
   "source": [
    "clip_param=0.2\n",
    "surr2 = torch.clamp(ratio, 1.0 - clip_param, 1.0 + clip_param) * batch_advantage.to(device)\n",
    "print(surr2)"
   ]
  },
  {
   "cell_type": "code",
   "execution_count": 47,
   "metadata": {},
   "outputs": [
    {
     "name": "stdout",
     "output_type": "stream",
     "text": [
      "tensor(-0.0410, device='cuda:0', grad_fn=<NegBackward>)\n"
     ]
    }
   ],
   "source": [
    "actor_loss  = - torch.min(surr1, surr2).mean()\n",
    "print(actor_loss)"
   ]
  },
  {
   "cell_type": "code",
   "execution_count": 48,
   "metadata": {},
   "outputs": [],
   "source": [
    "optimizer.zero_grad()\n",
    "actor_loss.backward()\n",
    "optimizer.step()"
   ]
  },
  {
   "cell_type": "markdown",
   "metadata": {},
   "source": [
    "### run PPO optimization multiple epochs"
   ]
  },
  {
   "cell_type": "code",
   "execution_count": 49,
   "metadata": {},
   "outputs": [],
   "source": [
    "ppo_epochs = 50\n",
    "clip_param=0.2"
   ]
  },
  {
   "cell_type": "code",
   "execution_count": 50,
   "metadata": {},
   "outputs": [],
   "source": [
    "lossLst = []\n",
    "for _ in range(ppo_epochs):\n",
    "    for batch_state, batch_action, batch_old_log_probs, batch_return, batch_advantage in ppo_iter(mini_batch_size, states, actions, log_probs, returns, advantage):\n",
    "        dist = net(batch_state.to(device))\n",
    "        batch_action = dist.sample()\n",
    "        batch_new_log_probs = dist.log_prob(batch_action)\n",
    "        ratio = (batch_new_log_probs - batch_old_log_probs.to(device)).exp()\n",
    "        surr1 = ratio * batch_advantage.to(device)\n",
    "        surr2 = torch.clamp(ratio, 1.0 - clip_param, 1.0 + clip_param) * batch_advantage.to(device)\n",
    "        actor_loss  = - torch.min(surr1, surr2).mean()\n",
    "        lossLst.append(float(actor_loss))\n",
    "        optimizer.zero_grad()\n",
    "        actor_loss.backward()\n",
    "        optimizer.step()"
   ]
  },
  {
   "cell_type": "code",
   "execution_count": 51,
   "metadata": {},
   "outputs": [
    {
     "data": {
      "image/png": "[encoded data removed]",
      "text/plain": [
       "<Figure size 864x288 with 1 Axes>"
      ]
     },
     "metadata": {
      "needs_background": "light"
     },
     "output_type": "display_data"
    }
   ],
   "source": [
    "plt.figure(figsize=(12, 4))\n",
    "plt.plot(lossLst)\n",
    "plt.show()"
   ]
  },
  {
   "cell_type": "code",
   "execution_count": null,
   "metadata": {},
   "outputs": [],
   "source": []
  }
 ],
 "metadata": {
  "colab": {
   "name": "3. NN with policy interacts with 3D Ball to collect training data (MLAgent 10).ipynb",
   "provenance": []
  },
  "kernelspec": {
   "display_name": "Python 3",
   "language": "python",
   "name": "python3"
  },
  "language_info": {
   "codemirror_mode": {
    "name": "ipython",
    "version": 3
   },
   "file_extension": ".py",
   "mimetype": "text/x-python",
   "name": "python",
   "nbconvert_exporter": "python",
   "pygments_lexer": "ipython3",
   "version": "3.6.13"
  }
 },
 "nbformat": 4,
 "nbformat_minor": 1
}
