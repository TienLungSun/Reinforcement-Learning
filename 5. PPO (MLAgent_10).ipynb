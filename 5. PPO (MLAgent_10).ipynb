{
  "nbformat": 4,
  "nbformat_minor": 0,
  "metadata": {
    "colab": {
      "name": "3. NN with policy interacts with 3D Ball to collect training data (MLAgent 10).ipynb",
      "provenance": [],
      "include_colab_link": true
    },
    "kernelspec": {
      "display_name": "Python 3",
      "language": "python",
      "name": "python3"
    },
    "language_info": {
      "codemirror_mode": {
        "name": "ipython",
        "version": 3
      },
      "file_extension": ".py",
      "mimetype": "text/x-python",
      "name": "python",
      "nbconvert_exporter": "python",
      "pygments_lexer": "ipython3",
      "version": "3.6.13"
    }
  },
  "cells": [
    {
      "cell_type": "markdown",
      "metadata": {
        "id": "view-in-github",
        "colab_type": "text"
      },
      "source": [
        "<a href=\"https://colab.research.google.com/github/TienLungSun/Intelligent-Robot/blob/main/LearnPPO-AC/5.%20PPO%20(MLAgent_10).ipynb\" target=\"_parent\"><img src=\"https://colab.research.google.com/assets/colab-badge.svg\" alt=\"Open In Colab\"/></a>"
      ]
    },
    {
      "cell_type": "code",
      "metadata": {
        "id": "z29hg89Qmg-S"
      },
      "source": [
        "import torch\n",
        "import torch.nn as nn\n",
        "import torch.nn.functional as F\n",
        "import torch.optim as optim\n",
        "from torch.distributions import Normal\n",
        "import numpy as np\n",
        "import matplotlib.pyplot as plt\n",
        "from mlagents_envs.environment import UnityEnvironment"
      ],
      "execution_count": null,
      "outputs": []
    },
    {
      "cell_type": "code",
      "metadata": {
        "id": "U5TAt7Mcmg-W",
        "outputId": "6ef7273c-d02b-45b2-9512-a2e57da25817"
      },
      "source": [
        "if(torch.cuda.is_available()):\n",
        "    device = torch.device(\"cuda\")\n",
        "    print(device, torch.cuda.get_device_name(0))\n",
        "else:\n",
        "    device= torch.device(\"cpu\")\n",
        "    print(device)"
      ],
      "execution_count": null,
      "outputs": [
        {
          "name": "stdout",
          "output_type": "stream",
          "text": [
            "cuda GeForce GTX 1660 SUPER\n"
          ]
        }
      ]
    },
    {
      "cell_type": "code",
      "metadata": {
        "id": "0rHdXcP-mg-X"
      },
      "source": [
        "# state = input of NN, action = output of NN\n",
        "N_STATES  = 8\n",
        "N_ACTIONS =2"
      ],
      "execution_count": null,
      "outputs": []
    },
    {
      "cell_type": "code",
      "metadata": {
        "id": "bEjeAPtXmg-Y"
      },
      "source": [
        "def init_weights(m):\n",
        "    if isinstance(m, nn.Linear):\n",
        "        nn.init.normal_(m.weight, mean=0., std=0.1)\n",
        "        nn.init.constant_(m.bias, 0.1)"
      ],
      "execution_count": null,
      "outputs": []
    },
    {
      "cell_type": "code",
      "metadata": {
        "id": "9MJKXhTgmg-Y"
      },
      "source": [
        "class Net(nn.Module):\n",
        "    def __init__(self, ):\n",
        "        super(Net, self).__init__()\n",
        "        \n",
        "        self.actor = nn.Sequential(\n",
        "            nn.Linear(N_STATES, 128),\n",
        "            nn.LayerNorm(128),\n",
        "            nn.Linear(128, 128),\n",
        "            nn.LayerNorm(128),\n",
        "            nn.Linear(128, N_ACTIONS)\n",
        "        )\n",
        "        self.log_std = nn.Parameter(torch.ones(1, N_ACTIONS) * 0.0)\n",
        "        self.apply(init_weights)\n",
        "    \n",
        "    def forward(self, x):\n",
        "        mu    = self.actor(x)\n",
        "        std   = self.log_std.exp().expand_as(mu)\n",
        "        dist  = Normal(mu, std)\n",
        "        return dist"
      ],
      "execution_count": null,
      "outputs": []
    },
    {
      "cell_type": "code",
      "metadata": {
        "id": "sj7O_oOUmg-Z"
      },
      "source": [
        "net = Net().to(device)"
      ],
      "execution_count": null,
      "outputs": []
    },
    {
      "cell_type": "code",
      "metadata": {
        "id": "_au9JY-3h7rB"
      },
      "source": [
        "optimizer = optim.Adam(net.parameters(), lr=0.001)"
      ],
      "execution_count": null,
      "outputs": []
    },
    {
      "cell_type": "markdown",
      "metadata": {
        "id": "oaPN-n0Rh7rF"
      },
      "source": [
        "### function to interacts with Unity 20 steps"
      ]
    },
    {
      "cell_type": "code",
      "metadata": {
        "id": "ZxNLo6Q6h7rK"
      },
      "source": [
        "NoAgents = 3 #My Unity scene has three training environment\n",
        "NoSteps = 20"
      ],
      "execution_count": null,
      "outputs": []
    },
    {
      "cell_type": "code",
      "metadata": {
        "id": "1-nvM-aYh7rP"
      },
      "source": [
        "def collect_training_data (NoAgents, NoSteps, N_STATES, N_ACTIONS, env, net):\n",
        "    # collect (s,a,r,s1) from 20 good interactions with Unity\n",
        "    a = torch.FloatTensor([[0]]*NoAgents) #create NoAgents by 1 tensor\n",
        "    b = torch.FloatTensor([[0]*N_ACTIONS]*NoAgents) \n",
        "    c = torch.FloatTensor([[0]*N_STATES]*NoAgents) \n",
        "    values = rewards = masks = [a]*NoSteps\n",
        "    log_probs = actions = [b]*NoSteps\n",
        "    states =[c]*NoSteps\n",
        "\n",
        "    step = 0  #index 0\n",
        "    DecisionSteps, TerminalSteps = env.get_steps(behaviorName)\n",
        "    while(step < NoSteps): #try to run 20 good steps\n",
        "        if(len(DecisionSteps) == 0): #we have no decision agents\n",
        "            env.reset() \n",
        "            DecisionSteps, TerminalSteps = env.get_steps(behaviorName)\n",
        "            #continue next while loop without increase step\n",
        "        else:  # we have decision agents\n",
        "            lst = list(DecisionSteps.agent_id) + list(TerminalSteps.agent_id)\n",
        "            if(len(list(set(lst))) != NoAgents): \n",
        "                #if this step misses some agents, then only interacts with Unity \n",
        "                #but do not collect data\n",
        "                s = DecisionSteps.obs[0]  \n",
        "                s = torch.FloatTensor(s).to(device)    \n",
        "                dist = net(s)\n",
        "                a = dist.sample() \n",
        "                env.set_actions(behaviorName, a.cpu().detach().numpy() )   \n",
        "                env.step()\n",
        "                DecisionSteps, TerminalSteps = env.get_steps(behaviorName)\n",
        "                #continue next while loop without increase step\n",
        "            else: \n",
        "                #this step includes all agents, collect (s, a, r, s1)\n",
        "                s = DecisionSteps.obs[0]  \n",
        "                s = torch.FloatTensor(s).to(device)         \n",
        "                dist = net(s)\n",
        "                a = dist.sample()\n",
        "                log_prob = dist.log_prob(a)\n",
        "                for idx in range(len(DecisionSteps)):\n",
        "                    #find decision agents and record their state, value and actions\n",
        "                    AgentID = DecisionSteps.agent_id[idx]\n",
        "                    states[step][AgentID]=s[idx]\n",
        "                    values[step][AgentID]= 0.2 # value will be estimated by critic NN later \n",
        "                    actions[step][AgentID]=a[idx]\n",
        "                    log_probs[step][AgentID]=log_prob[idx]\n",
        "                env.set_actions(behaviorName, a.cpu().detach().numpy() )   \n",
        "                env.step()\n",
        "                DecisionSteps, TerminalSteps = env.get_steps(behaviorName)\n",
        "                #if next step misses some agents, then do not update step\n",
        "                lst = list(DecisionSteps.agent_id) + list(TerminalSteps.agent_id)\n",
        "                if(len(list(set(lst))) != NoAgents):\n",
        "                    continue #skip this step, run next while loop without increase step index\n",
        "                else:\n",
        "                    #collect reward of this action from next decision and terminal steps\n",
        "                    if(len(TerminalSteps) >0):\n",
        "                        #if next step has terminal agents, then collect terminal agents first\n",
        "                        r = TerminalSteps.reward\n",
        "                        r = torch.FloatTensor(r).unsqueeze(1)\n",
        "                        for idx in range(len(TerminalSteps)):\n",
        "                            AgentID = TerminalSteps.agent_id[idx]\n",
        "                            rewards[step][AgentID]=r[idx]\n",
        "                            masks[step][AgentID]= 0\n",
        "                    #collect from decision steps\n",
        "                    r = DecisionSteps.reward \n",
        "                    r = torch.FloatTensor(r).unsqueeze(1)\n",
        "                    for idx in range(len(DecisionSteps)):\n",
        "                        AgentID = DecisionSteps.agent_id[idx] \n",
        "                        if(rewards[step][AgentID] == None): #this agent is not in terminal step\n",
        "                            rewards[step][AgentID]= r[idx]\n",
        "                            masks[step][AgentID]= 1\n",
        "                    step = step + 1 #increase step and run next while\n",
        "    return  states, actions, log_probs, values, rewards, masks"
      ],
      "execution_count": null,
      "outputs": []
    },
    {
      "cell_type": "markdown",
      "metadata": {
        "id": "IK8lINV_h7rd"
      },
      "source": [
        "### GAE"
      ]
    },
    {
      "cell_type": "code",
      "metadata": {
        "id": "OU0TElaLh7rf"
      },
      "source": [
        "def compute_gae(NoSteps, next_value, rewards, masks, values, gamma=0.99, tau=0.95):\n",
        "    values = values + [next_value]\n",
        "    gae = 0\n",
        "    returns = []\n",
        "    for step in reversed(range(NoSteps)):\n",
        "        delta = rewards[step] + gamma * values[step + 1] * masks[step] - values[step]\n",
        "        gae = delta + gamma * tau * masks[step] * gae\n",
        "        returns.insert(0, gae + values[step])\n",
        "    return returns"
      ],
      "execution_count": null,
      "outputs": []
    },
    {
      "cell_type": "markdown",
      "metadata": {
        "id": "28advgZnh7rg"
      },
      "source": [
        "### PPO optimization"
      ]
    },
    {
      "cell_type": "code",
      "metadata": {
        "id": "OAYQtPJLh7rg"
      },
      "source": [
        "def ppo_iter(mini_batch_size, states, actions, log_probs, returns, advantages):\n",
        "    batch_size = states.size(0)\n",
        "    for _ in range(batch_size // mini_batch_size):\n",
        "        rand_ids = np.random.randint(0, batch_size, mini_batch_size)\n",
        "        yield states[rand_ids, :], actions[rand_ids, :], log_probs[rand_ids, :], returns[rand_ids, :], advantages[rand_ids, :]"
      ],
      "execution_count": null,
      "outputs": []
    },
    {
      "cell_type": "code",
      "metadata": {
        "id": "m54W9AJSh7rh"
      },
      "source": [
        "def ppo_update(ppo_epochs, mini_batch_size, states, actions, log_probs, returns, advantages, clip_param=0.2):\n",
        "    print(\"epoch:\")\n",
        "    for epoch in range(ppo_epochs):\n",
        "        print(epoch, end = \", \")\n",
        "        for batch_state, batch_action, batch_old_log_probs, batch_return, batch_advantage in ppo_iter(mini_batch_size, states, actions, log_probs, returns, advantages):\n",
        "            dist = net(batch_state.to(device))\n",
        "            batch_action = dist.sample()\n",
        "            batch_new_log_probs = dist.log_prob(batch_action)\n",
        "            ratio = (batch_new_log_probs - batch_old_log_probs.to(device)).exp()\n",
        "            surr1 = ratio * batch_advantage.to(device)\n",
        "            surr2 = torch.clamp(ratio, 1.0 - clip_param, 1.0 + clip_param) * batch_advantage.to(device)\n",
        "            actor_loss  = - torch.min(surr1, surr2).mean()\n",
        "            optimizer.zero_grad()\n",
        "            actor_loss.backward()\n",
        "            optimizer.step()\n",
        "    return float(actor_loss)"
      ],
      "execution_count": null,
      "outputs": []
    },
    {
      "cell_type": "markdown",
      "metadata": {
        "id": "BIiTcfVdh7ri"
      },
      "source": [
        "### try one iteration"
      ]
    },
    {
      "cell_type": "code",
      "metadata": {
        "id": "x2GNW0jsmg-Z"
      },
      "source": [
        "env = UnityEnvironment(file_name= None, base_port=5004)"
      ],
      "execution_count": null,
      "outputs": []
    },
    {
      "cell_type": "code",
      "metadata": {
        "id": "_SeNL04Fmg-b",
        "outputId": "81d4cdcd-e077-4a3f-cb40-0c047fea182c"
      },
      "source": [
        "env.reset()\n",
        "behaviorNames = list(env.behavior_specs.keys())\n",
        "behaviorName = behaviorNames[0]\n",
        "print(behaviorName)"
      ],
      "execution_count": null,
      "outputs": [
        {
          "name": "stdout",
          "output_type": "stream",
          "text": [
            "3DBall?team=0\n"
          ]
        }
      ]
    },
    {
      "cell_type": "code",
      "metadata": {
        "id": "GIZmzFTkh7rl",
        "outputId": "1ae842c9-f17b-4b74-c0a6-282c4c34b8dc"
      },
      "source": [
        "states, actions, log_probs, values, rewards, masks = collect_training_data (NoAgents, NoSteps, N_STATES, N_ACTIONS, env, net)\n",
        "print(len(log_probs), log_probs[0].shape)\n",
        "print(len(values), values[0].shape)\n",
        "print(len(rewards), rewards[0].shape)\n",
        "print(len(masks), masks[0].shape)\n",
        "print(len(states), states[0].shape)\n",
        "print(len(actions), actions[0].shape)"
      ],
      "execution_count": null,
      "outputs": [
        {
          "name": "stdout",
          "output_type": "stream",
          "text": [
            "20 torch.Size([3, 2])\n",
            "20 torch.Size([3, 1])\n",
            "20 torch.Size([3, 1])\n",
            "20 torch.Size([3, 1])\n",
            "20 torch.Size([3, 8])\n",
            "20 torch.Size([3, 2])\n"
          ]
        }
      ]
    },
    {
      "cell_type": "code",
      "metadata": {
        "id": "ByYj2fpYh7rm"
      },
      "source": [
        "next_value = torch.FloatTensor([[0.2]]*NoAgents) \n",
        "returns = compute_gae(NoSteps, next_value, rewards, masks, values, gamma=0.99, tau=0.95)"
      ],
      "execution_count": null,
      "outputs": []
    },
    {
      "cell_type": "code",
      "metadata": {
        "id": "G25C11-Jh7rm"
      },
      "source": [
        "returns   = torch.cat(returns).detach()\n",
        "log_probs = torch.cat(log_probs).detach()\n",
        "values    = torch.cat(values).detach()\n",
        "states    = torch.cat(states) \n",
        "actions   = torch.cat(actions)\n",
        "advantages = returns - values"
      ],
      "execution_count": null,
      "outputs": []
    },
    {
      "cell_type": "code",
      "metadata": {
        "id": "HRmBClOYh7rn",
        "outputId": "61372e51-244b-4ce3-fc5f-a280722eee29"
      },
      "source": [
        "print(len(returns), returns[0].shape)\n",
        "print(len(log_probs), log_probs[0].shape)\n",
        "print(len(values), values[0].shape)\n",
        "print(len(states), states[0].shape)\n",
        "print(len(actions), actions[0].shape)\n",
        "print(len(advantages), advantages[0].shape)"
      ],
      "execution_count": null,
      "outputs": [
        {
          "name": "stdout",
          "output_type": "stream",
          "text": [
            "60 torch.Size([1])\n",
            "60 torch.Size([2])\n",
            "60 torch.Size([1])\n",
            "60 torch.Size([8])\n",
            "60 torch.Size([2])\n",
            "60 torch.Size([1])\n"
          ]
        }
      ]
    },
    {
      "cell_type": "code",
      "metadata": {
        "id": "VF1n9zFYh7ro",
        "outputId": "d5cc73f4-84a3-4940-98a9-da3490478099"
      },
      "source": [
        "loss = ppo_update(50, 5, states, actions, log_probs, returns, advantages, clip_param=0.2)"
      ],
      "execution_count": null,
      "outputs": [
        {
          "name": "stdout",
          "output_type": "stream",
          "text": [
            "epoch:\n",
            "0, 1, 2, 3, 4, 5, 6, 7, 8, 9, 10, 11, 12, 13, 14, 15, 16, 17, 18, 19, 20, 21, 22, 23, 24, 25, 26, 27, 28, 29, 30, 31, 32, 33, 34, 35, 36, 37, 38, 39, 40, 41, 42, 43, 44, 45, 46, 47, 48, 49, "
          ]
        }
      ]
    },
    {
      "cell_type": "code",
      "metadata": {
        "id": "1NVm3s9Ih7rp"
      },
      "source": [
        "env.close()"
      ],
      "execution_count": null,
      "outputs": []
    },
    {
      "cell_type": "markdown",
      "metadata": {
        "id": "R3uI07KLh7rp"
      },
      "source": [
        "# run PPO optimization multiple iterations"
      ]
    },
    {
      "cell_type": "code",
      "metadata": {
        "id": "G-vC_bzJh7rq"
      },
      "source": [
        "env = UnityEnvironment(file_name= None, base_port=5004)"
      ],
      "execution_count": null,
      "outputs": []
    },
    {
      "cell_type": "code",
      "metadata": {
        "id": "PBMExzEJh7rq",
        "outputId": "89bb750f-0bcc-47b3-f904-1b9eb310f3d5"
      },
      "source": [
        "env.reset()\n",
        "behaviorNames = list(env.behavior_specs.keys())\n",
        "behaviorName = behaviorNames[0]\n",
        "print(behaviorName)"
      ],
      "execution_count": null,
      "outputs": [
        {
          "name": "stdout",
          "output_type": "stream",
          "text": [
            "3DBall?team=0\n"
          ]
        }
      ]
    },
    {
      "cell_type": "code",
      "metadata": {
        "id": "MIw-rgzfh7rr"
      },
      "source": [
        "NoSteps = 50"
      ],
      "execution_count": null,
      "outputs": []
    },
    {
      "cell_type": "code",
      "metadata": {
        "id": "ZIezEFC7h7rr",
        "outputId": "698c90dd-30cc-4fb2-f5c7-b448245e2d85"
      },
      "source": [
        "lossLst = []\n",
        "frame_idx  = 0\n",
        "max_frames = 200   \n",
        "\n",
        "while (frame_idx < max_frames):\n",
        "    print(\"\\nframe idx = \", frame_idx)\n",
        "    print(\"Interacts with Unity to collect training data\")\n",
        "    states, actions, log_probs, values, rewards, masks = collect_training_data (NoAgents, NoSteps, N_STATES, N_ACTIONS, env, net)\n",
        "    next_value = torch.FloatTensor([[0.2]]*NoAgents) \n",
        "    \n",
        "    print(\"Compute GAE of these training data set\")\n",
        "    returns = compute_gae(NoSteps, next_value, rewards, masks, values, gamma=0.99, tau=0.95)\n",
        "\n",
        "    returns   = torch.cat(returns).detach()\n",
        "    log_probs = torch.cat(log_probs).detach()\n",
        "    values    = torch.cat(values).detach()\n",
        "    states    = torch.cat(states) \n",
        "    actions   = torch.cat(actions)\n",
        "    advantages = returns - values\n",
        "    \n",
        "    print(\"Optimize NN with PPO\")\n",
        "    loss = ppo_update(50, 5, states, actions, log_probs, returns, advantages, clip_param=0.2)\n",
        "    lossLst.append(loss)\n",
        "    \n",
        "    frame_idx += NoSteps"
      ],
      "execution_count": null,
      "outputs": [
        {
          "name": "stdout",
          "output_type": "stream",
          "text": [
            "frame idx =  0\n",
            "Interacts with Unity to collect training data\n",
            "Compute GAE of these training data set\n",
            "Optimize NN with PPO\n",
            "epoch:\n",
            "0, 1, 2, 3, 4, 5, 6, 7, 8, 9, 10, 11, 12, 13, 14, 15, 16, 17, 18, 19, 20, 21, 22, 23, 24, 25, 26, 27, 28, 29, 30, 31, 32, 33, 34, 35, 36, 37, 38, 39, 40, 41, 42, 43, 44, 45, 46, 47, 48, 49, frame idx =  50\n",
            "Interacts with Unity to collect training data\n",
            "Compute GAE of these training data set\n",
            "Optimize NN with PPO\n",
            "epoch:\n",
            "0, 1, 2, 3, 4, 5, 6, 7, 8, 9, 10, 11, 12, 13, 14, 15, 16, 17, 18, 19, 20, 21, 22, 23, 24, 25, 26, 27, 28, 29, 30, 31, 32, 33, 34, 35, 36, 37, 38, 39, 40, 41, 42, 43, 44, 45, 46, 47, 48, 49, frame idx =  100\n",
            "Interacts with Unity to collect training data\n",
            "Compute GAE of these training data set\n",
            "Optimize NN with PPO\n",
            "epoch:\n",
            "0, 1, 2, 3, 4, 5, 6, 7, 8, 9, 10, 11, 12, 13, 14, 15, 16, 17, 18, 19, 20, 21, 22, 23, 24, 25, 26, 27, 28, 29, 30, 31, 32, 33, 34, 35, 36, 37, 38, 39, 40, 41, 42, 43, 44, 45, 46, 47, 48, 49, frame idx =  150\n",
            "Interacts with Unity to collect training data\n",
            "Compute GAE of these training data set\n",
            "Optimize NN with PPO\n",
            "epoch:\n",
            "0, 1, 2, 3, 4, 5, 6, 7, 8, 9, 10, 11, 12, 13, 14, 15, 16, 17, 18, 19, 20, 21, 22, 23, 24, 25, 26, 27, 28, 29, 30, 31, 32, 33, 34, 35, 36, 37, 38, 39, 40, 41, 42, 43, 44, 45, 46, 47, 48, 49, "
          ]
        }
      ]
    },
    {
      "cell_type": "code",
      "metadata": {
        "id": "xdbfxaxGh7rs"
      },
      "source": [
        "env.close()"
      ],
      "execution_count": null,
      "outputs": []
    },
    {
      "cell_type": "code",
      "metadata": {
        "id": "8zw9lO-wh7rt",
        "outputId": "9a3b4026-972e-4c97-ee57-8d83ce5b98e0"
      },
      "source": [
        "plt.figure(figsize=(12, 4))\n",
        "plt.plot(lossLst)\n",
        "plt.show()"
      ],
      "execution_count": null,
      "outputs": [
        {
          "data": {
            "image/png": "[encoded data removed]",
            "text/plain": [
              "<Figure size 864x288 with 1 Axes>"
            ]
          },
          "metadata": {
            "needs_background": "light"
          },
          "output_type": "display_data"
        }
      ]
    },
    {
      "cell_type": "code",
      "metadata": {
        "id": "1GoNjpzZh7rt"
      },
      "source": [
        ""
      ],
      "execution_count": null,
      "outputs": []
    }
  ]
}