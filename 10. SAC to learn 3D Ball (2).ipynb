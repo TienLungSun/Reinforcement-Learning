{
 "cells": [
  {
   "cell_type": "markdown",
   "metadata": {},
   "source": [
    "Code Reference: https://github.com/zhihanyang2022/pytorch-sac\n",
    "I modify the code to handle multiple agents training in Uniyt"
   ]
  },
  {
   "cell_type": "code",
   "execution_count": 1,
   "metadata": {
    "id": "z29hg89Qmg-S"
   },
   "outputs": [],
   "source": [
    "import torch\n",
    "import torch.nn as nn\n",
    "import torch.nn.functional as F\n",
    "import torch.optim as optim\n",
    "from torch.distributions import Normal, Independent\n",
    "import numpy as np\n",
    "import math\n",
    "import random\n",
    "import matplotlib.pyplot as plt\n",
    "from mlagents_envs.environment import UnityEnvironment"
   ]
  },
  {
   "cell_type": "code",
   "execution_count": 2,
   "metadata": {
    "id": "U5TAt7Mcmg-W",
    "outputId": "6ef7273c-d02b-45b2-9512-a2e57da25817"
   },
   "outputs": [
    {
     "name": "stdout",
     "output_type": "stream",
     "text": [
      "cuda NVIDIA GeForce RTX 3060\n"
     ]
    }
   ],
   "source": [
    "if(torch.cuda.is_available()):\n",
    "    device = torch.device(\"cuda\")\n",
    "    print(device, torch.cuda.get_device_name(0))\n",
    "else:\n",
    "    device= torch.device(\"cpu\")\n",
    "    print(device)"
   ]
  },
  {
   "cell_type": "markdown",
   "metadata": {},
   "source": [
    "### Replay Buffer"
   ]
  },
  {
   "cell_type": "code",
   "execution_count": 3,
   "metadata": {},
   "outputs": [],
   "source": [
    "from collections import namedtuple, deque\n",
    "\n",
    "Transition = namedtuple('Transition', 's a r ns d')\n",
    "Batch = namedtuple('Batch', 's a r ns d')\n",
    "\n",
    "class ReplayBuffer(object):\n",
    "\n",
    "    def __init__(self, capacity: int):\n",
    "        self.capacity = capacity\n",
    "        self.memory = deque(maxlen=capacity)\n",
    "\n",
    "    def push(self, transition: Transition) -> None:\n",
    "        self.memory.appendleft(transition)\n",
    "\n",
    "    def ready_for(self, batch_size: int) -> bool:\n",
    "        if len(self.memory) >= batch_size:\n",
    "            return True\n",
    "        return False\n",
    "\n",
    "    def sample(self, batch_size: int) -> Batch:\n",
    "        experiences = random.sample(self.memory, batch_size)\n",
    "        s  = torch.from_numpy(np.vstack([e.s for e in experiences if e is not None])).float().to(device)\n",
    "        a  = torch.from_numpy(np.vstack([e.a for e in experiences if e is not None])).float().to(device)\n",
    "        r  = torch.from_numpy(np.vstack([e.r for e in experiences if e is not None])).float().to(device)\n",
    "        ns  = torch.from_numpy(np.vstack([e.ns for e in experiences if e is not None])).float().to(device)\n",
    "        d  = torch.from_numpy(np.vstack([e.d for e in experiences if e is not None])).float().to(device)\n",
    "        return Batch(s, a, r, ns, d)"
   ]
  },
  {
   "cell_type": "markdown",
   "metadata": {},
   "source": [
    "### NN"
   ]
  },
  {
   "cell_type": "code",
   "execution_count": 4,
   "metadata": {},
   "outputs": [],
   "source": [
    "def get_net(\n",
    "        num_in:int,\n",
    "        num_out:int,\n",
    "        final_activation,  # e.g. nn.Tanh\n",
    "        num_hidden_layers:int=5,\n",
    "        num_neurons_per_hidden_layer:int=64\n",
    "    ) -> nn.Sequential:\n",
    "\n",
    "    layers = []\n",
    "\n",
    "    layers.extend([\n",
    "        nn.Linear(num_in, num_neurons_per_hidden_layer),\n",
    "        nn.ReLU(),\n",
    "    ])\n",
    "\n",
    "    for _ in range(num_hidden_layers):\n",
    "        layers.extend([\n",
    "            nn.Linear(num_neurons_per_hidden_layer, num_neurons_per_hidden_layer),\n",
    "            nn.ReLU(),\n",
    "        ])\n",
    "\n",
    "    layers.append(nn.Linear(num_neurons_per_hidden_layer, num_out))\n",
    "\n",
    "    if final_activation is not None:\n",
    "        layers.append(final_activation)\n",
    "\n",
    "    return nn.Sequential(*layers)"
   ]
  },
  {
   "cell_type": "code",
   "execution_count": 5,
   "metadata": {},
   "outputs": [],
   "source": [
    "class NormalPolicyNet(nn.Module):\n",
    "\n",
    "    \"\"\"Outputs a distribution with parameters learnable by gradient descent.\"\"\"\n",
    "\n",
    "    def __init__(self, input_dim, action_dim):\n",
    "        super(NormalPolicyNet, self).__init__()\n",
    "        self.shared_net   = get_net(num_in=input_dim, num_out=64, final_activation=nn.ReLU())\n",
    "        self.means_net    = nn.Linear(64, action_dim)\n",
    "        self.log_stds_net = nn.Linear(64, action_dim)\n",
    "\n",
    "    def forward(self, states: torch.tensor):\n",
    "\n",
    "        out = self.shared_net(states)\n",
    "        means, log_stds = self.means_net(out), self.log_stds_net(out)\n",
    "\n",
    "        # the gradient of computing log_stds first and then using torch.exp\n",
    "        # is much more well-behaved then computing stds directly using nn.Softplus()\n",
    "        # ref: https://github.com/openai/spinningup/blob/master/spinup/algos/pytorch/sac/core.py#L26\n",
    "\n",
    "        LOG_STD_MAX = 2\n",
    "        LOG_STD_MIN = -20\n",
    "\n",
    "        stds = torch.exp(torch.clamp(log_stds, LOG_STD_MIN, LOG_STD_MAX))\n",
    "\n",
    "        return Independent(Normal(loc=means, scale=stds), reinterpreted_batch_ndims=1)"
   ]
  },
  {
   "cell_type": "code",
   "execution_count": 6,
   "metadata": {},
   "outputs": [],
   "source": [
    "class QNet(nn.Module):\n",
    "\n",
    "    \"\"\"Has little quirks; just a wrapper so that I don't need to call concat many times\"\"\"\n",
    "\n",
    "    def __init__(self, input_dim, action_dim):\n",
    "        super(QNet, self).__init__()\n",
    "        self.net = get_net(num_in=input_dim+action_dim, num_out=1, final_activation=None)\n",
    "\n",
    "    def forward(self, states: torch.tensor, actions: torch.tensor):\n",
    "        return self.net(torch.cat([states, actions], dim=1))"
   ]
  },
  {
   "cell_type": "markdown",
   "metadata": {},
   "source": [
    "### Agent"
   ]
  },
  {
   "cell_type": "code",
   "execution_count": 29,
   "metadata": {},
   "outputs": [],
   "source": [
    "class Agent:\n",
    "\n",
    "    def __init__(self, input_dim, action_dim):\n",
    "\n",
    "        self.Normal   = NormalPolicyNet(input_dim=input_dim, action_dim=action_dim).to(device)\n",
    "        self.Normal_optimizer = optim.Adam(self.Normal.parameters(), lr=1e-3)\n",
    "\n",
    "        self.Q1       = QNet(input_dim=input_dim, action_dim=action_dim).to(device)\n",
    "        self.Q1_targ  = QNet(input_dim=input_dim, action_dim=action_dim).to(device)\n",
    "        self.Q1_targ.load_state_dict(self.Q1.state_dict())\n",
    "        self.Q1_optimizer = optim.Adam(self.Q1.parameters(), lr=1e-3)\n",
    "\n",
    "        self.Q2       = QNet(input_dim=input_dim, action_dim=action_dim).to(device)\n",
    "        self.Q2_targ  = QNet(input_dim=input_dim, action_dim=action_dim).to(device)\n",
    "        self.Q2_targ.load_state_dict(self.Q2.state_dict())\n",
    "        self.Q2_optimizer = optim.Adam(self.Q2.parameters(), lr=1e-3)\n",
    "\n",
    "        self.gamma = 0.99\n",
    "        self.alpha = 0.1\n",
    "        self.polyak = 0.995\n",
    "\n",
    "    # ==================================================================================================================\n",
    "    # Helper methods (it is generally not my style of using helper methods but here they improve readability)\n",
    "    # ==================================================================================================================\n",
    "\n",
    "    def min_i_12(self, a: torch.tensor, b: torch.tensor) -> torch.tensor:\n",
    "        return torch.min(a, b)\n",
    "\n",
    "    def sample_action_and_compute_log_pi(self, state, use_reparametrization_trick):\n",
    "        mu_given_s = self.Normal(state)  # in paper, mu represents the normal distribution\n",
    "        # in paper, u represents the un-squashed action; nu stands for next u's\n",
    "        # actually, we can just use reparametrization trick in both Step 12 and 14, but it might be good to separate\n",
    "        # the two cases for pedagogical purposes, i.e., using reparametrization trick is a must in Step 14\n",
    "        u = mu_given_s.rsample() if use_reparametrization_trick else mu_given_s.sample()\n",
    "        a = torch.tanh(u)\n",
    "        # the following line of code is not numerically stable:\n",
    "        # log_pi_a_given_s = mu_given_s.log_prob(u) - torch.sum(torch.log(1 - torch.tanh(u) ** 2), dim=1)\n",
    "        # ref: https://github.com/vitchyr/rlkit/blob/0073d73235d7b4265cd9abe1683b30786d863ffe/rlkit/torch/distributions.py#L358\n",
    "        # ref: https://github.com/tensorflow/probability/blob/master/tensorflow_probability/python/bijectors/tanh.py#L73\n",
    "        log_pi_a_given_s = mu_given_s.log_prob(u) - (2 * (np.log(2) - u - F.softplus(-2 * u))).sum(dim=1)\n",
    "        return a, log_pi_a_given_s\n",
    "\n",
    "    def clip_gradient(self, net: nn.Module) -> None:\n",
    "        for param in net.parameters():\n",
    "            param.grad.data.clamp_(-1, 1)\n",
    "\n",
    "    def polyak_update(self, old_net: nn.Module, new_net: nn.Module) -> None:\n",
    "        for old_param, new_param in zip(old_net.parameters(), new_net.parameters()):\n",
    "            old_param.data.copy_(old_param.data * self.polyak + new_param.data * (1 - self.polyak))\n",
    "\n",
    "    # ==================================================================================================================\n",
    "    # Methods for learning\n",
    "    # ==================================================================================================================\n",
    "\n",
    "    def update_networks(self, b: Batch):\n",
    "\n",
    "        # ========================================\n",
    "        # Step 12: calculating targets\n",
    "        # ========================================\n",
    "\n",
    "        with torch.no_grad():\n",
    "\n",
    "            na, log_pi_na_given_ns = self.sample_action_and_compute_log_pi(b.ns, use_reparametrization_trick=False)\n",
    "            targets = b.r + self.gamma * (1 - b.d) * \\\n",
    "                      (self.min_i_12(self.Q1_targ(b.ns, na), self.Q2_targ(b.ns, na)) - self.alpha * log_pi_na_given_ns)\n",
    "\n",
    "        # ========================================\n",
    "        # Step 13: learning the Q functions\n",
    "        # ========================================\n",
    "\n",
    "        Q1_predictions = self.Q1(b.s, b.a)\n",
    "        Q1_loss = torch.mean((Q1_predictions - targets) ** 2)\n",
    "\n",
    "        self.Q1_optimizer.zero_grad()\n",
    "        Q1_loss.backward()\n",
    "        self.clip_gradient(net=self.Q1)\n",
    "        self.Q1_optimizer.step()\n",
    "\n",
    "        Q2_predictions = self.Q2(b.s, b.a)\n",
    "        Q2_loss = torch.mean((Q2_predictions - targets) ** 2)\n",
    "\n",
    "        self.Q2_optimizer.zero_grad()\n",
    "        Q2_loss.backward()\n",
    "        self.clip_gradient(net=self.Q2)\n",
    "        self.Q2_optimizer.step()\n",
    "\n",
    "        # ========================================\n",
    "        # Step 14: learning the policy\n",
    "        # ========================================\n",
    "\n",
    "        for param in self.Q1.parameters():\n",
    "            param.requires_grad = False\n",
    "        for param in self.Q2.parameters():\n",
    "            param.requires_grad = False\n",
    "\n",
    "        a, log_pi_a_given_s = self.sample_action_and_compute_log_pi(b.s, use_reparametrization_trick=True)\n",
    "        policy_loss = - torch.mean(self.min_i_12(self.Q1(b.s, a), self.Q2(b.s, a)) - self.alpha * log_pi_a_given_s)\n",
    "\n",
    "        self.Normal_optimizer.zero_grad()\n",
    "        policy_loss.backward()\n",
    "        self.clip_gradient(net=self.Normal)\n",
    "        self.Normal_optimizer.step()\n",
    "\n",
    "        for param in self.Q1.parameters():\n",
    "            param.requires_grad = True\n",
    "        for param in self.Q2.parameters():\n",
    "            param.requires_grad = True\n",
    "\n",
    "        # ========================================\n",
    "        # Step 15: update target networks\n",
    "        # ========================================\n",
    "\n",
    "        with torch.no_grad():\n",
    "            self.polyak_update(old_net=self.Q1_targ, new_net=self.Q1)\n",
    "            self.polyak_update(old_net=self.Q2_targ, new_net=self.Q2)\n",
    "        return float(Q1_loss), float(policy_loss)\n",
    "\n",
    "    def act(self, state)-> np.array:\n",
    "        # state: torch.FloatTensor(s).to(device)\n",
    "        action, _ = self.sample_action_and_compute_log_pi(state, use_reparametrization_trick=False)\n",
    "        return action.detach().cpu().numpy()  # no need to detach first because we are not using the reparametrization trick\n",
    "\n",
    "    def save_actor(self, save_dir: str, filename: str) -> None:\n",
    "        os.makedirs(save_dir, exist_ok=True)\n",
    "        torch.save(self.Normal.state_dict(), os.path.join(save_dir, filename))\n",
    "\n",
    "    def load_actor(self, save_dir: str, filename: str) -> None:\n",
    "        self.Normal.load_state_dict(torch.load(os.path.join(save_dir, filename)))"
   ]
  },
  {
   "cell_type": "markdown",
   "metadata": {},
   "source": [
    "### Instinate agent "
   ]
  },
  {
   "cell_type": "code",
   "execution_count": 30,
   "metadata": {},
   "outputs": [],
   "source": [
    "N_STATES  = 8\n",
    "N_ACTIONS =2\n",
    "\n",
    "N_AGENTS = 3  \n",
    "hidden_units = 256"
   ]
  },
  {
   "cell_type": "code",
   "execution_count": 32,
   "metadata": {},
   "outputs": [],
   "source": [
    "agent = Agent(\n",
    "    input_dim=N_STATES,\n",
    "    action_dim=N_ACTIONS\n",
    ")"
   ]
  },
  {
   "cell_type": "markdown",
   "metadata": {},
   "source": [
    "# Training loop"
   ]
  },
  {
   "cell_type": "code",
   "execution_count": 33,
   "metadata": {},
   "outputs": [],
   "source": [
    "env = UnityEnvironment(file_name= None, base_port=5004)"
   ]
  },
  {
   "cell_type": "code",
   "execution_count": 34,
   "metadata": {},
   "outputs": [
    {
     "name": "stdout",
     "output_type": "stream",
     "text": [
      "3DBall?team=0\n"
     ]
    }
   ],
   "source": [
    "env.reset()\n",
    "behaviorNames = list(env.behavior_specs.keys())\n",
    "behaviorName = behaviorNames[0]\n",
    "print(behaviorName)"
   ]
  },
  {
   "cell_type": "code",
   "execution_count": 38,
   "metadata": {},
   "outputs": [],
   "source": [
    "batch_size = 64\n",
    "max_steps = 1000 #200000 in 3DBall.yaml"
   ]
  },
  {
   "cell_type": "code",
   "execution_count": 39,
   "metadata": {},
   "outputs": [],
   "source": [
    "buf = ReplayBuffer(capacity=int(2e4))  #200000 in 3DBall.yaml"
   ]
  },
  {
   "cell_type": "code",
   "execution_count": 40,
   "metadata": {},
   "outputs": [
    {
     "name": "stdout",
     "output_type": "stream",
     "text": [
      "Agent [1]  goes to Terminal steps. Finish this training episode.\n",
      "Agent [2]  goes to Terminal steps. Finish this training episode.\n",
      "Agent [2]  goes to Terminal steps. Finish this training episode.\n",
      "Agent [1]  goes to Terminal steps. Finish this training episode.\n",
      "Agent [2]  goes to Terminal steps. Finish this training episode.\n",
      "step : 100\n",
      "Agent [0]  goes to Terminal steps. Finish this training episode.\n",
      "Agent [2]  goes to Terminal steps. Finish this training episode.\n",
      "Agent [2]  goes to Terminal steps. Finish this training episode.\n",
      "Agent [0]  goes to Terminal steps. Finish this training episode.\n",
      "Agent [2]  goes to Terminal steps. Finish this training episode.\n",
      "Agent [2]  goes to Terminal steps. Finish this training episode.\n",
      "step : 200\n",
      "Agent [0]  goes to Terminal steps. Finish this training episode.\n",
      "Agent [1]  goes to Terminal steps. Finish this training episode.\n",
      "Agent [1]  goes to Terminal steps. Finish this training episode.\n",
      "Agent [0]  goes to Terminal steps. Finish this training episode.\n",
      "Agent [2]  goes to Terminal steps. Finish this training episode.\n",
      "Agent [1]  goes to Terminal steps. Finish this training episode.\n",
      "step : 300\n",
      "Agent [0]  goes to Terminal steps. Finish this training episode.\n",
      "Agent [0]  goes to Terminal steps. Finish this training episode.\n",
      "Agent [0]  goes to Terminal steps. Finish this training episode.\n",
      "Agent [1]  goes to Terminal steps. Finish this training episode.\n",
      "Agent [2]  goes to Terminal steps. Finish this training episode.\n",
      "Agent [0]  goes to Terminal steps. Finish this training episode.\n",
      "step : 400\n",
      "Agent [0 2]  goes to Terminal steps. Finish this training episode.\n",
      "Agent [0]  goes to Terminal steps. Finish this training episode.\n",
      "Agent [1]  goes to Terminal steps. Finish this training episode.\n",
      "Agent [2]  goes to Terminal steps. Finish this training episode.\n",
      "Agent [1]  goes to Terminal steps. Finish this training episode.\n",
      "Agent [2]  goes to Terminal steps. Finish this training episode.\n",
      "step : 500\n",
      "Agent [2]  goes to Terminal steps. Finish this training episode.\n",
      "Agent [1]  goes to Terminal steps. Finish this training episode.\n",
      "Agent [0 1]  goes to Terminal steps. Finish this training episode.\n",
      "Agent [0]  goes to Terminal steps. Finish this training episode.\n",
      "Agent [2]  goes to Terminal steps. Finish this training episode.\n",
      "Agent [0]  goes to Terminal steps. Finish this training episode.\n",
      "Agent [2]  goes to Terminal steps. Finish this training episode.\n",
      "step : 600\n",
      "Agent [2]  goes to Terminal steps. Finish this training episode.\n",
      "Agent [1]  goes to Terminal steps. Finish this training episode.\n",
      "Agent [2]  goes to Terminal steps. Finish this training episode.\n",
      "Agent [1]  goes to Terminal steps. Finish this training episode.\n",
      "Agent [1]  goes to Terminal steps. Finish this training episode.\n",
      "Agent [1]  goes to Terminal steps. Finish this training episode.\n",
      "step : 700\n",
      "Agent [0]  goes to Terminal steps. Finish this training episode.\n",
      "Agent [0]  goes to Terminal steps. Finish this training episode.\n",
      "Agent [2]  goes to Terminal steps. Finish this training episode.\n",
      "Agent [1]  goes to Terminal steps. Finish this training episode.\n",
      "Agent [0]  goes to Terminal steps. Finish this training episode.\n",
      "Agent [1]  goes to Terminal steps. Finish this training episode.\n",
      "step : 800\n",
      "Agent [2]  goes to Terminal steps. Finish this training episode.\n",
      "Agent [1]  goes to Terminal steps. Finish this training episode.\n",
      "Agent [1]  goes to Terminal steps. Finish this training episode.\n",
      "Agent [0]  goes to Terminal steps. Finish this training episode.\n",
      "Agent [1]  goes to Terminal steps. Finish this training episode.\n",
      "Agent [2]  goes to Terminal steps. Finish this training episode.\n",
      "step : 900\n",
      "Agent [1]  goes to Terminal steps. Finish this training episode.\n",
      "Agent [0 2]  goes to Terminal steps. Finish this training episode.\n",
      "Agent [1]  goes to Terminal steps. Finish this training episode.\n",
      "Agent [0]  goes to Terminal steps. Finish this training episode.\n",
      "Agent [0]  goes to Terminal steps. Finish this training episode.\n",
      "Agent [2]  goes to Terminal steps. Finish this training episode.\n",
      "Agent [0]  goes to Terminal steps. Finish this training episode.\n",
      "step : 1000\n",
      "Agent [1]  goes to Terminal steps. Finish this training episode.\n"
     ]
    }
   ],
   "source": [
    "step = 1\n",
    "total_reward = 0\n",
    "rewardLst = []\n",
    "Q1LossLst = []\n",
    "PolicyLossLst = []\n",
    "\n",
    "while (step < max_steps):\n",
    "    env.reset()  \n",
    "    DecisionSteps, TerminalSteps = env.get_steps(behaviorName)\n",
    "    episode_done = False \n",
    "    \n",
    "    while (not episode_done):\n",
    "        step = step + 1\n",
    "        if(step %100 == 0):\n",
    "            print(\"step :\", step)\n",
    "            rewardLst.append(total_reward)\n",
    "            total_reward = 0\n",
    "            \n",
    "        # ==================================================\n",
    "        # getting the tuple (s, a, r, s', done)\n",
    "        # ==================================================\n",
    "        s = DecisionSteps.obs[0]\n",
    "        a = agent.act(torch.FloatTensor(s).to(device))\n",
    "        env.set_actions(behaviorName, a)\n",
    "        env.step()\n",
    "        NextDecisionSteps, NextTerminalSteps = env.get_steps(behaviorName)    \n",
    "\n",
    "        #if next terminal step has agents, then collect transistions and restart training \n",
    "        if(len(NextTerminalSteps) > 0): \n",
    "            idxLst = []\n",
    "            for idx in NextTerminalSteps.agent_id:  #collect agent idx in Terminal setps\n",
    "                idxLst.append(idx)\n",
    "            s = [s[i] for i in idxLst]\n",
    "            a = [a[i] for i in idxLst]\n",
    "            ns = NextTerminalSteps.obs[0]\n",
    "            reward = NextTerminalSteps.reward\n",
    "            reward = np.expand_dims(reward, axis=1)\n",
    "            done = np.array([[1]]*len(NextTerminalSteps)) \n",
    "            buf.push(Transition(s, a, reward, ns, done))\n",
    "            print(\"Agent\", NextTerminalSteps.agent_id, \" goes to Terminal steps. Finish this training episode.\")\n",
    "            episode_done = True\n",
    "        #if next decision step does not have all agents, then collect transistions and restart training \n",
    "        elif (len(NextDecisionSteps) != N_AGENTS):\n",
    "            idxLst = []\n",
    "            for idx in NextDecisionSteps.agent_id:\n",
    "                idxLst.append(idx)\n",
    "            s = [s[i] for i in idxLst]\n",
    "            a = [a[i] for i in idxLst]\n",
    "            ns = NextDecisionSteps.obs[0]\n",
    "            reward = NextDecisionSteps.reward\n",
    "            reward = np.expand_dims(reward, axis=1)\n",
    "            done = np.array([[0]]*len(NextTerminalSteps)) \n",
    "            buf.push(Transition(s, a, reward, ns, done))\n",
    "            print(\"Agent\", NextDecisionSteps.agent_id, \" are not in Decision steps. Finish this training episode.\")\n",
    "            episode_done = True\n",
    "        else: \n",
    "            ns = NextDecisionSteps.obs[0]\n",
    "            reward = NextDecisionSteps.reward\n",
    "            reward = np.expand_dims(reward, axis=1)\n",
    "            total_reward = total_reward + np.mean(reward)\n",
    "            done = np.array([[0]]*N_AGENTS ) \n",
    "            buf.push(Transition(s, a, reward, ns, done))\n",
    "            DecisionSteps, TerminalSteps = NextDecisionSteps, NextTerminalSteps\n",
    "\n",
    "        # ==================================================\n",
    "        # update the parameters\n",
    "        # ==================================================\n",
    "        if buf.ready_for(batch_size):\n",
    "            Q1_loss, policy_loss = agent.update_networks(buf.sample(batch_size))\n",
    "            if(step %100 == 0):\n",
    "                Q1LossLst.append(Q1_loss)\n",
    "                PolicyLossLst.append(policy_loss)"
   ]
  },
  {
   "cell_type": "code",
   "execution_count": 41,
   "metadata": {},
   "outputs": [],
   "source": [
    "env.close()"
   ]
  },
  {
   "cell_type": "code",
   "execution_count": 43,
   "metadata": {},
   "outputs": [
    {
     "data": {
      "image/png": "[encoded data removed]",
      "text/plain": [
       "<Figure size 1296x432 with 3 Axes>"
      ]
     },
     "metadata": {
      "needs_background": "light"
     },
     "output_type": "display_data"
    }
   ],
   "source": [
    "import matplotlib.pyplot as plt\n",
    "fig=plt.figure(figsize=(18, 6))\n",
    "fig.add_subplot(1, 3, 1)  # 1 row, 3 columns\n",
    "plt.plot(rewardLst)\n",
    "\n",
    "fig.add_subplot(1, 3, 2) \n",
    "plt.plot(Q1LossLst)\n",
    "\n",
    "fig.add_subplot(1, 3, 3) \n",
    "plt.plot(PolicyLossLst)\n",
    "\n",
    "plt.show()"
   ]
  },
  {
   "cell_type": "code",
   "execution_count": null,
   "metadata": {},
   "outputs": [],
   "source": []
  }
 ],
 "metadata": {
  "colab": {
   "name": "3. NN with policy interacts with 3D Ball to collect training data (MLAgent 10).ipynb",
   "provenance": []
  },
  "kernelspec": {
   "display_name": "Python 3",
   "language": "python",
   "name": "python3"
  },
  "language_info": {
   "codemirror_mode": {
    "name": "ipython",
    "version": 3
   },
   "file_extension": ".py",
   "mimetype": "text/x-python",
   "name": "python",
   "nbconvert_exporter": "python",
   "pygments_lexer": "ipython3",
   "version": "3.6.13"
  }
 },
 "nbformat": 4,
 "nbformat_minor": 1
}
