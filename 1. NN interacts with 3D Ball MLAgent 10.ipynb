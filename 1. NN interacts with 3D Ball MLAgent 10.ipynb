{
 "cells": [
  {
   "cell_type": "code",
   "execution_count": 1,
   "metadata": {},
   "outputs": [],
   "source": [
    "import torch\n",
    "import torch.nn as nn\n",
    "import torch.nn.functional as F\n",
    "import numpy as np\n",
    "\n",
    "from mlagents_envs.environment import UnityEnvironment"
   ]
  },
  {
   "cell_type": "code",
   "execution_count": 2,
   "metadata": {},
   "outputs": [
    {
     "name": "stdout",
     "output_type": "stream",
     "text": [
      "cpu\n"
     ]
    },
    {
     "name": "stderr",
     "output_type": "stream",
     "text": [
      "C:\\Users\\admin\\Anaconda3\\envs\\PyTorch-MLAgent\\lib\\site-packages\\torch\\cuda\\__init__.py:52: UserWarning: CUDA initialization: The NVIDIA driver on your system is too old (found version 9010). Please update your GPU driver by downloading and installing a new version from the URL: http://www.nvidia.com/Download/index.aspx Alternatively, go to: https://pytorch.org to install a PyTorch version that has been compiled with your version of the CUDA driver. (Triggered internally at  ..\\c10\\cuda\\CUDAFunctions.cpp:100.)\n",
      "  return torch._C._cuda_getDeviceCount() > 0\n"
     ]
    }
   ],
   "source": [
    "if(torch.cuda.is_available()):\n",
    "    device = torch.device(\"cuda\")\n",
    "    print(device, torch.cuda.get_device_name(0))\n",
    "else:\n",
    "    device= torch.device(\"cpu\")\n",
    "    print(device)"
   ]
  },
  {
   "cell_type": "code",
   "execution_count": 3,
   "metadata": {},
   "outputs": [],
   "source": [
    "N_STATES  = 8\n",
    "N_ACTIONS =2"
   ]
  },
  {
   "cell_type": "code",
   "execution_count": 4,
   "metadata": {},
   "outputs": [],
   "source": [
    "class Net(nn.Module):\n",
    "    def __init__(self, ):\n",
    "        super(Net, self).__init__()\n",
    "        self.layer1 = nn.Linear(N_STATES, 128)\n",
    "        self.layer1.weight.data.normal_(0, 0.2)   # initialization\n",
    "        self.layer2 = nn.Linear(128, 128)\n",
    "        self.layer2.weight.data.normal_(0, 0.2)   # initialization\n",
    "        self.out = nn.Linear(128, N_ACTIONS)\n",
    "        self.out.weight.data.normal_(0, 0.2)   # initialization\n",
    "\n",
    "    def forward(self, x):\n",
    "        x = self.layer1(x)\n",
    "        x = F.relu(x)\n",
    "        x = self.layer2(x)\n",
    "        x = F.relu(x)\n",
    "        actions_value = self.out(x)\n",
    "        return actions_value"
   ]
  },
  {
   "cell_type": "code",
   "execution_count": 5,
   "metadata": {},
   "outputs": [],
   "source": [
    "net = Net().to(device)"
   ]
  },
  {
   "cell_type": "markdown",
   "metadata": {},
   "source": [
    "### Connect to Unity"
   ]
  },
  {
   "cell_type": "code",
   "execution_count": 6,
   "metadata": {},
   "outputs": [
    {
     "name": "stderr",
     "output_type": "stream",
     "text": [
      "WARNING: The communication API versions between Unity and python differ at the minor version level. Python API: 1.2.0, Unity API: 1.5.\n",
      "This means that some features may not work unless you upgrade the package with the lower version.Please find the versions that work best together from our release page.\n",
      "https://github.com/Unity-Technologies/ml-agents/releases\n"
     ]
    }
   ],
   "source": [
    "env = UnityEnvironment(file_name= None, base_port=5004)\n",
    "\n",
    "#Go to Unity and press Play to start"
   ]
  },
  {
   "cell_type": "code",
   "execution_count": 7,
   "metadata": {},
   "outputs": [],
   "source": [
    "env.reset()"
   ]
  },
  {
   "cell_type": "code",
   "execution_count": 8,
   "metadata": {},
   "outputs": [
    {
     "name": "stdout",
     "output_type": "stream",
     "text": [
      "['3DBall?team=0']\n",
      "BehaviorSpec(observation_shapes=[(8,)], action_spec=ActionSpec(continuous_size=2, discrete_branches=()))\n"
     ]
    }
   ],
   "source": [
    "behaviorNames = list(env.behavior_specs.keys())\n",
    "behaviorName = behaviorNames[0]\n",
    "behavior_spec = env.behavior_specs[behaviorName]\n",
    "print(behaviorNames)\n",
    "print(behavior_spec)"
   ]
  },
  {
   "cell_type": "code",
   "execution_count": 9,
   "metadata": {},
   "outputs": [
    {
     "name": "stdout",
     "output_type": "stream",
     "text": [
      "[0 1 2]\n",
      "[]\n"
     ]
    }
   ],
   "source": [
    "DecisionSteps, TerminalSteps = env.get_steps(behaviorName)\n",
    "print(DecisionSteps.agent_id)\n",
    "print(TerminalSteps.agent_id)"
   ]
  },
  {
   "cell_type": "code",
   "execution_count": 10,
   "metadata": {},
   "outputs": [
    {
     "name": "stdout",
     "output_type": "stream",
     "text": [
      "[0, 1, 2] []\n"
     ]
    }
   ],
   "source": [
    "DecisionAgentIDs = list(DecisionSteps.agent_id)\n",
    "TerminalAgentIDs = list(TerminalSteps.agent_id)\n",
    "print(DecisionAgentIDs, TerminalAgentIDs)"
   ]
  },
  {
   "cell_type": "markdown",
   "metadata": {},
   "source": [
    "### Send decision steps to NN to get action"
   ]
  },
  {
   "cell_type": "code",
   "execution_count": 11,
   "metadata": {},
   "outputs": [
    {
     "data": {
      "text/plain": [
       "[array([[-0.01467304, -0.01468306, -0.5208206 ,  4.        , -0.79952097,\n",
       "          0.        ,  0.        ,  0.        ],\n",
       "        [-0.02614026,  0.03401016, -0.45768166,  4.        , -0.0055027 ,\n",
       "          0.        ,  0.        ,  0.        ],\n",
       "        [ 0.06363224,  0.03799658, -1.1360741 ,  4.        , -0.4150591 ,\n",
       "          0.        ,  0.        ,  0.        ]], dtype=float32)]"
      ]
     },
     "execution_count": 11,
     "metadata": {},
     "output_type": "execute_result"
    }
   ],
   "source": [
    "DecisionSteps.obs"
   ]
  },
  {
   "cell_type": "code",
   "execution_count": 12,
   "metadata": {},
   "outputs": [
    {
     "name": "stdout",
     "output_type": "stream",
     "text": [
      "[[-0.01467304 -0.01468306 -0.5208206   4.         -0.79952097  0.\n",
      "   0.          0.        ]\n",
      " [-0.02614026  0.03401016 -0.45768166  4.         -0.0055027   0.\n",
      "   0.          0.        ]\n",
      " [ 0.06363224  0.03799658 -1.1360741   4.         -0.4150591   0.\n",
      "   0.          0.        ]]\n"
     ]
    }
   ],
   "source": [
    "states = DecisionSteps.obs[0]\n",
    "print(states)"
   ]
  },
  {
   "cell_type": "code",
   "execution_count": 13,
   "metadata": {},
   "outputs": [],
   "source": [
    "states = torch.FloatTensor(states).to(device)"
   ]
  },
  {
   "cell_type": "code",
   "execution_count": 14,
   "metadata": {},
   "outputs": [
    {
     "name": "stdout",
     "output_type": "stream",
     "text": [
      "tensor([[-1.1012, -0.6932],\n",
      "        [-0.7616, -0.6634],\n",
      "        [-1.0846, -0.8035]], grad_fn=<AddmmBackward>)\n"
     ]
    }
   ],
   "source": [
    "actions = net(states)\n",
    "print(actions)"
   ]
  },
  {
   "cell_type": "code",
   "execution_count": 15,
   "metadata": {},
   "outputs": [
    {
     "name": "stdout",
     "output_type": "stream",
     "text": [
      "[[-1.1011918  -0.69320214]\n",
      " [-0.7616119  -0.66337574]\n",
      " [-1.084576   -0.8035136 ]]\n"
     ]
    }
   ],
   "source": [
    "actions = actions.cpu().detach().numpy()\n",
    "print(actions)"
   ]
  },
  {
   "cell_type": "code",
   "execution_count": 16,
   "metadata": {},
   "outputs": [],
   "source": [
    "env.set_actions(behaviorName, actions)"
   ]
  },
  {
   "cell_type": "code",
   "execution_count": 17,
   "metadata": {},
   "outputs": [],
   "source": [
    "env.step()"
   ]
  },
  {
   "cell_type": "code",
   "execution_count": 18,
   "metadata": {},
   "outputs": [],
   "source": [
    "env.close()"
   ]
  },
  {
   "cell_type": "markdown",
   "metadata": {},
   "source": [
    "# Play for N steps"
   ]
  },
  {
   "cell_type": "code",
   "execution_count": 19,
   "metadata": {},
   "outputs": [
    {
     "name": "stderr",
     "output_type": "stream",
     "text": [
      "WARNING: The communication API versions between Unity and python differ at the minor version level. Python API: 1.2.0, Unity API: 1.5.\n",
      "This means that some features may not work unless you upgrade the package with the lower version.Please find the versions that work best together from our release page.\n",
      "https://github.com/Unity-Technologies/ml-agents/releases\n"
     ]
    }
   ],
   "source": [
    "env = UnityEnvironment(file_name= None, base_port=5004)"
   ]
  },
  {
   "cell_type": "code",
   "execution_count": 20,
   "metadata": {},
   "outputs": [],
   "source": [
    "env.reset()\n",
    "behaviorNames = list(env.behavior_specs.keys())\n",
    "behaviorName = behaviorNames[0]"
   ]
  },
  {
   "cell_type": "code",
   "execution_count": 21,
   "metadata": {
    "scrolled": true
   },
   "outputs": [
    {
     "name": "stdout",
     "output_type": "stream",
     "text": [
      "step 22 agent  2 has terminal step\n",
      "step 38 agent  1 has terminal step\n",
      "step 49 agent  0 has terminal step\n",
      "step 61 agent  2 has terminal step\n",
      "step 70 agent  1 has terminal step\n",
      "step 83 agent  0 has terminal step\n",
      "step 92 agent  2 has terminal step\n",
      "step 97 agent  1 has terminal step\n"
     ]
    }
   ],
   "source": [
    "for frame in range(100):\n",
    "    DecisionSteps, TerminalSteps = env.get_steps(behaviorName)\n",
    "    for AgentID in TerminalSteps.agent_id:\n",
    "        print(\"step\", frame, \"agent \", AgentID, \"has terminal step\")\n",
    "    \n",
    "    state = DecisionSteps.obs[0]\n",
    "    state = torch.FloatTensor(state).to(device)\n",
    "    action = net(state)\n",
    "    action = action.cpu().detach().numpy()\n",
    "    env.set_actions(behaviorName, action)   \n",
    "    env.step()"
   ]
  },
  {
   "cell_type": "code",
   "execution_count": 22,
   "metadata": {},
   "outputs": [],
   "source": [
    "env.close()"
   ]
  },
  {
   "cell_type": "code",
   "execution_count": null,
   "metadata": {},
   "outputs": [],
   "source": []
  }
 ],
 "metadata": {
  "kernelspec": {
   "display_name": "Python 3",
   "language": "python",
   "name": "python3"
  },
  "language_info": {
   "codemirror_mode": {
    "name": "ipython",
    "version": 3
   },
   "file_extension": ".py",
   "mimetype": "text/x-python",
   "name": "python",
   "nbconvert_exporter": "python",
   "pygments_lexer": "ipython3",
   "version": "3.6.10"
  }
 },
 "nbformat": 4,
 "nbformat_minor": 2
}
