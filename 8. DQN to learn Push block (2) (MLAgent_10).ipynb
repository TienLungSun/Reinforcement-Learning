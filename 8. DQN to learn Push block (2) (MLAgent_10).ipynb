{
  "cells": [
    {
      "cell_type": "markdown",
      "metadata": {
        "id": "view-in-github",
        "colab_type": "text"
      },
      "source": [
        "<a href=\"https://colab.research.google.com/github/TienLungSun/RL-Unity-ML-Agent/blob/main/8.%20DQN%20to%20learn%20Push%20block%20(2)%20(MLAgent_10).ipynb\" target=\"_parent\"><img src=\"https://colab.research.google.com/assets/colab-badge.svg\" alt=\"Open In Colab\"/></a>"
      ]
    },
    {
      "cell_type": "code",
      "execution_count": null,
      "metadata": {
        "id": "GRObB0mXmZhq"
      },
      "outputs": [],
      "source": [
        "import torch\n",
        "import torch.nn as nn\n",
        "import torch.nn.functional as F\n",
        "from torch.distributions import Normal\n",
        "import torch.optim as optim\n",
        "import numpy as np\n",
        "import matplotlib.pyplot as plt\n",
        "from mlagents_envs.environment import UnityEnvironment"
      ]
    },
    {
      "cell_type": "code",
      "execution_count": null,
      "metadata": {
        "id": "JTDJ8jn3mZh5",
        "outputId": "2903d42b-7074-42d1-baaa-9fd1da0b86da"
      },
      "outputs": [
        {
          "name": "stdout",
          "output_type": "stream",
          "text": [
            "cuda NVIDIA GeForce RTX 3060\n"
          ]
        }
      ],
      "source": [
        "if(torch.cuda.is_available()):\n",
        "    device = torch.device(\"cuda\")\n",
        "    print(device, torch.cuda.get_device_name(0))\n",
        "else: \n",
        "    device= torch.device(\"cpu\")\n",
        "    print(device)"
      ]
    },
    {
      "cell_type": "markdown",
      "metadata": {
        "id": "CfJAK75eSup_"
      },
      "source": [
        "### DQN"
      ]
    },
    {
      "cell_type": "code",
      "execution_count": null,
      "metadata": {
        "id": "7_nLb1olSup_"
      },
      "outputs": [],
      "source": [
        "N_STATES  = 210  # 105+105\n",
        "N_ACTIONS = 7  # 1 branch with 7 values, move forward/backward, rotate R/L, move R/L \n",
        "N_AGENTS = 3\n",
        "\n",
        "hidden_units = 256 #from ymal file\n",
        "\n",
        "LEARNING_RATE = 0.0003\n",
        "MEMORY_CAPACITY = 500 #10000"
      ]
    },
    {
      "cell_type": "code",
      "execution_count": null,
      "metadata": {
        "id": "FGhCm8MkmZiJ"
      },
      "outputs": [],
      "source": [
        "class Net(nn.Module):\n",
        "    def __init__(self, ):\n",
        "        super(Net, self).__init__()\n",
        "        self.layer1 = nn.Linear(N_STATES, hidden_units)\n",
        "        self.layer2 = nn.Linear(hidden_units, hidden_units)\n",
        "        self.out = nn.Linear(hidden_units, N_ACTIONS)\n",
        "\n",
        "    def forward(self, x):\n",
        "        x = F.relu(self.layer1(x))\n",
        "        x = F.relu(self.layer2(x))\n",
        "        return self.out(x)"
      ]
    },
    {
      "cell_type": "code",
      "execution_count": null,
      "metadata": {
        "id": "g8myd-uUmZiK"
      },
      "outputs": [],
      "source": [
        "eval_net = Net().to(device)"
      ]
    },
    {
      "cell_type": "code",
      "execution_count": null,
      "metadata": {
        "id": "B827GoiQmZiL"
      },
      "outputs": [],
      "source": [
        "optimizer = torch.optim.Adam(eval_net.parameters(), lr=LEARNING_RATE)\n",
        "loss_func = nn.MSELoss()"
      ]
    },
    {
      "cell_type": "code",
      "execution_count": null,
      "metadata": {
        "id": "0ctT_9lMSuqB"
      },
      "outputs": [],
      "source": [
        "target_net = Net().to(device)"
      ]
    },
    {
      "cell_type": "code",
      "execution_count": null,
      "metadata": {
        "id": "1jMu-oFBSuqC",
        "outputId": "fcf37263-d20e-44ac-82ea-6593f8a16001"
      },
      "outputs": [
        {
          "name": "stdout",
          "output_type": "stream",
          "text": [
            "(500, 422)\n"
          ]
        }
      ],
      "source": [
        "MEMORY = np.zeros((MEMORY_CAPACITY, N_STATES * 2 + 2))  # (s, a, r, s_) \n",
        "print(MEMORY.shape)"
      ]
    },
    {
      "cell_type": "markdown",
      "metadata": {
        "id": "QjAWYwtJSuqC"
      },
      "source": [
        "### Interact with Unity to fill the memory<br /> "
      ]
    },
    {
      "cell_type": "code",
      "execution_count": null,
      "metadata": {
        "id": "CyLyf3bWSuqD"
      },
      "outputs": [],
      "source": [
        "env = UnityEnvironment(file_name= None, base_port=5004)"
      ]
    },
    {
      "cell_type": "code",
      "execution_count": null,
      "metadata": {
        "id": "B14c4XSESuqD",
        "outputId": "c6d90c4e-d8cf-4620-e31c-ed54a7dfa257"
      },
      "outputs": [
        {
          "name": "stdout",
          "output_type": "stream",
          "text": [
            "PushBlock?team=0\n"
          ]
        }
      ],
      "source": [
        "env.reset()\n",
        "behaviorNames = list(env.behavior_specs.keys())\n",
        "behaviorName = behaviorNames[0]\n",
        "print(behaviorName)"
      ]
    },
    {
      "cell_type": "code",
      "execution_count": null,
      "metadata": {
        "id": "6UnqWUtnSuqD"
      },
      "outputs": [],
      "source": [
        "def Interact_with_Unity_one_step (DecisionSteps):\n",
        "    s1 = torch.FloatTensor(DecisionSteps.obs[0])\n",
        "    s2 = torch.FloatTensor(DecisionSteps.obs[1])\n",
        "    s = torch.cat((s1, s2), 1).to(device)\n",
        "    action = eval_net(s)\n",
        "    MaxIdxOfEachAgent = torch.unsqueeze(torch.max(action, 1)[1], 1)\n",
        "    ActionIdxArray = MaxIdxOfEachAgent.cpu().data.numpy()\n",
        "    env.set_actions(behaviorName, ActionIdxArray+1) \n",
        "    env.step()\n",
        "    return s, ActionIdxArray"
      ]
    },
    {
      "cell_type": "code",
      "execution_count": null,
      "metadata": {
        "id": "zFJdPzz_SuqE"
      },
      "outputs": [],
      "source": [
        "MemoryIdx = 0\n",
        "DecisionSteps, TerminalSteps = env.get_steps(behaviorName)\n",
        "while (MemoryIdx < MEMORY_CAPACITY):\n",
        "    if(len(DecisionSteps)==0):\n",
        "        print(\"Step\", MemoryIdx, \": no decision steps, reset!\")\n",
        "        env.reset()\n",
        "        DecisionSteps, TerminalSteps = env.get_steps(behaviorName)\n",
        "        continue\n",
        "\n",
        "    #interacts with Unity one step, but collect data only when all agents\n",
        "    #have decision steps\n",
        "    s, ActionIdxArray = Interact_with_Unity_one_step (DecisionSteps)\n",
        "    \n",
        "    NextDecisionSteps, NextTerminalSteps = env.get_steps(behaviorName)\n",
        "    if(len(DecisionSteps) != N_AGENTS or len(NextDecisionSteps) != N_AGENTS): \n",
        "        print(MemoryIdx, \"not all agents having decision steps\", \\\n",
        "              DecisionSteps.agent_id, \"next: \", NextDecisionSteps.agent_id)\n",
        "    else:\n",
        "        #after one step, if all agents have decision steps then collect data\n",
        "        #collect reward of this action from next decision and terminal steps\n",
        "        s1 = torch.FloatTensor(NextDecisionSteps.obs[0])\n",
        "        s2 = torch.FloatTensor(NextDecisionSteps.obs[1])\n",
        "        s_ = torch.cat((s1, s2), 1).to(device)\n",
        "        r = NextDecisionSteps.reward\n",
        "        for agentIdx in range(N_AGENTS):\n",
        "            transition = np.hstack((s[agentIdx].cpu().numpy(), ActionIdxArray[agentIdx], r[agentIdx], s_[agentIdx].cpu().numpy()))\n",
        "            MEMORY[MemoryIdx, :] = transition\n",
        "            MemoryIdx += 1\n",
        "            if(MemoryIdx == MEMORY_CAPACITY):\n",
        "                break\n",
        "    DecisionSteps, TerminalSteps = NextDecisionSteps, NextTerminalSteps  "
      ]
    },
    {
      "cell_type": "markdown",
      "metadata": {
        "id": "Bo0zSik8SuqE"
      },
      "source": [
        "###  Start to learn when memory is filled. "
      ]
    },
    {
      "cell_type": "code",
      "execution_count": null,
      "metadata": {
        "id": "H1SGsGeESuqE"
      },
      "outputs": [],
      "source": [
        "BATCH_SIZE = 5"
      ]
    },
    {
      "cell_type": "code",
      "execution_count": null,
      "metadata": {
        "id": "4N0Y7W9SSuqE",
        "outputId": "7fc500c2-4cb1-4e35-dcef-e29c547487df"
      },
      "outputs": [
        {
          "name": "stdout",
          "output_type": "stream",
          "text": [
            "[146 362  40 433  63] (5, 422)\n"
          ]
        }
      ],
      "source": [
        "# sample batch transitions\n",
        "sample_index = np.random.choice(MEMORY_CAPACITY, BATCH_SIZE)\n",
        "b_memory = MEMORY[sample_index, :]\n",
        "print(sample_index, b_memory.shape)"
      ]
    },
    {
      "cell_type": "code",
      "execution_count": null,
      "metadata": {
        "id": "3rPJhkuwSuqF",
        "outputId": "27a3741c-eef0-458f-c0b3-c4622b65927c"
      },
      "outputs": [
        {
          "name": "stdout",
          "output_type": "stream",
          "text": [
            "torch.Size([5, 210])\n"
          ]
        }
      ],
      "source": [
        "b_s = torch.FloatTensor(b_memory[:, :N_STATES]).to(device)\n",
        "print(b_s.shape)"
      ]
    },
    {
      "cell_type": "code",
      "execution_count": null,
      "metadata": {
        "id": "b4i7jXEbSuqF",
        "outputId": "c664981a-fe39-4dd6-ef8e-50634cfb0789"
      },
      "outputs": [
        {
          "name": "stdout",
          "output_type": "stream",
          "text": [
            "torch.Size([5, 1])\n"
          ]
        }
      ],
      "source": [
        "b_a = torch.LongTensor(b_memory[:, N_STATES:N_STATES+1].astype(int)).to(device)\n",
        "print(b_a.shape)"
      ]
    },
    {
      "cell_type": "code",
      "execution_count": null,
      "metadata": {
        "id": "hZHnC2esSuqF",
        "outputId": "1c296d80-5cb0-4466-cee3-ef2c1fd1ed06"
      },
      "outputs": [
        {
          "name": "stdout",
          "output_type": "stream",
          "text": [
            "torch.Size([5, 1])\n",
            "torch.Size([5, 210])\n"
          ]
        }
      ],
      "source": [
        "b_r = torch.FloatTensor(b_memory[:, N_STATES+1:N_STATES+2]).to(device)\n",
        "b_s_ = torch.FloatTensor(b_memory[:, -N_STATES:]).to(device)\n",
        "print(b_r.shape)\n",
        "print(b_s_.shape)"
      ]
    },
    {
      "cell_type": "code",
      "execution_count": null,
      "metadata": {
        "id": "bEN6-u2CSuqF",
        "outputId": "6a308906-61fe-4df2-df89-41ee44052d8f"
      },
      "outputs": [
        {
          "name": "stdout",
          "output_type": "stream",
          "text": [
            "tensor([[-0.0022, -0.0360,  0.1145,  0.0114, -0.0873, -0.0044, -0.0500],\n",
            "        [-0.0015, -0.0141,  0.1546,  0.0118, -0.0757,  0.0061, -0.0323],\n",
            "        [ 0.0173, -0.0545,  0.1260, -0.0225, -0.0863, -0.0427, -0.0432],\n",
            "        [ 0.0898,  0.0115,  0.0661, -0.0442, -0.0605, -0.0430, -0.0348],\n",
            "        [ 0.0667, -0.0224,  0.1412, -0.0283, -0.1050, -0.0296, -0.0045]],\n",
            "       device='cuda:0', grad_fn=<AddmmBackward>) torch.Size([5, 7])\n"
          ]
        }
      ],
      "source": [
        "tmp = eval_net(b_s) #tmp = Q(s,a) for 6 actions\n",
        "print(tmp, tmp.shape)"
      ]
    },
    {
      "cell_type": "code",
      "execution_count": null,
      "metadata": {
        "id": "96u9rGhGSuqG",
        "outputId": "70dd20ae-4ef2-4389-e4f1-4945883c435e"
      },
      "outputs": [
        {
          "name": "stdout",
          "output_type": "stream",
          "text": [
            "tensor([[2],\n",
            "        [2],\n",
            "        [2],\n",
            "        [0],\n",
            "        [2]], device='cuda:0') \n",
            " tensor([[0.1145],\n",
            "        [0.1546],\n",
            "        [0.1260],\n",
            "        [0.0898],\n",
            "        [0.1412]], device='cuda:0', grad_fn=<GatherBackward>) \n",
            " torch.Size([5, 1])\n"
          ]
        }
      ],
      "source": [
        "# take max. QValue \n",
        "# torch.gather: Gathers values along an axis specified by dim using index \n",
        "tmp1 = torch.gather(tmp, dim=1, index=b_a) \n",
        "print(b_a, '\\n', tmp1, '\\n', tmp1.shape)"
      ]
    },
    {
      "cell_type": "code",
      "execution_count": null,
      "metadata": {
        "id": "O8RCP52gSuqG",
        "outputId": "74044522-bd64-4523-a39e-774a8e4f677e"
      },
      "outputs": [
        {
          "name": "stdout",
          "output_type": "stream",
          "text": [
            "tensor([[0.1145],\n",
            "        [0.1546],\n",
            "        [0.1260],\n",
            "        [0.0898],\n",
            "        [0.1412]], device='cuda:0', grad_fn=<GatherBackward>)\n"
          ]
        }
      ],
      "source": [
        "# send s to NN, and max. QValue \n",
        "q_eval = eval_net(b_s).gather(1, b_a)\n",
        "print(q_eval)"
      ]
    },
    {
      "cell_type": "code",
      "execution_count": null,
      "metadata": {
        "id": "IoDqC22HSuqG",
        "outputId": "9e269b99-2d79-46e4-a1a5-6181ba893999"
      },
      "outputs": [
        {
          "name": "stdout",
          "output_type": "stream",
          "text": [
            "tensor([[ 7.5441e-02, -9.4403e-03, -1.2026e-01,  5.2563e-03, -6.0626e-04,\n",
            "          7.1022e-03, -3.1734e-02],\n",
            "        [ 7.6038e-02, -1.1588e-02, -1.1274e-01,  1.1500e-02, -7.0926e-03,\n",
            "         -2.6147e-05, -3.2972e-02],\n",
            "        [ 5.0594e-02, -1.4637e-02, -7.9552e-02,  5.2660e-02, -3.5022e-02,\n",
            "         -4.3848e-02, -6.6712e-02],\n",
            "        [ 1.1675e-01,  2.8246e-02, -4.1408e-02, -1.9622e-02, -5.3549e-03,\n",
            "          1.0145e-02, -1.8638e-02],\n",
            "        [ 8.8568e-02,  3.2290e-02, -1.2802e-01,  5.6021e-02, -9.0759e-02,\n",
            "          3.9527e-02, -4.6172e-02]], device='cuda:0') \n",
            " torch.Size([5, 7])\n"
          ]
        }
      ],
      "source": [
        "q_next = target_net(b_s_).detach()\n",
        "print(q_next, '\\n', q_next.shape)"
      ]
    },
    {
      "cell_type": "code",
      "execution_count": null,
      "metadata": {
        "id": "6VsNtnSmSuqG",
        "outputId": "177d4aff-19dd-4a7c-a864-3bcfccc079f2"
      },
      "outputs": [
        {
          "data": {
            "text/plain": [
              "torch.return_types.max(\n",
              "values=tensor([0.0754, 0.0760, 0.0527, 0.1167, 0.0886], device='cuda:0'),\n",
              "indices=tensor([0, 0, 3, 0, 0], device='cuda:0'))"
            ]
          },
          "execution_count": 55,
          "metadata": {},
          "output_type": "execute_result"
        }
      ],
      "source": [
        "q_next.max(1)"
      ]
    },
    {
      "cell_type": "code",
      "execution_count": null,
      "metadata": {
        "id": "YUG2sG3nSuqH",
        "outputId": "93ccba1d-04f5-4061-a38f-423e6f3d215b"
      },
      "outputs": [
        {
          "data": {
            "text/plain": [
              "tensor([0.0754, 0.0760, 0.0527, 0.1167, 0.0886], device='cuda:0')"
            ]
          },
          "execution_count": 56,
          "metadata": {},
          "output_type": "execute_result"
        }
      ],
      "source": [
        "q_next.max(1)[0]"
      ]
    },
    {
      "cell_type": "code",
      "execution_count": null,
      "metadata": {
        "id": "YmVSvt8cSuqH"
      },
      "outputs": [],
      "source": [
        "GAMMA = 0.9"
      ]
    },
    {
      "cell_type": "code",
      "execution_count": null,
      "metadata": {
        "scrolled": true,
        "id": "fAiz0zn_SuqH",
        "outputId": "8fc7eb54-88e3-4b50-f637-c090183aa432"
      },
      "outputs": [
        {
          "name": "stdout",
          "output_type": "stream",
          "text": [
            "torch.Size([5, 1])\n"
          ]
        }
      ],
      "source": [
        "q_target = b_r + GAMMA * q_next.max(1)[0].view(BATCH_SIZE, 1)\n",
        "print(q_target.shape)"
      ]
    },
    {
      "cell_type": "code",
      "execution_count": null,
      "metadata": {
        "id": "1y_cIX2DSuqH",
        "outputId": "b57fd25b-5549-482d-c2c4-5f8eb585abf3"
      },
      "outputs": [
        {
          "name": "stdout",
          "output_type": "stream",
          "text": [
            "tensor(0.0041, device='cuda:0', grad_fn=<MseLossBackward>)\n"
          ]
        }
      ],
      "source": [
        "loss = loss_func(q_eval, q_target)\n",
        "print(loss)"
      ]
    },
    {
      "cell_type": "code",
      "execution_count": null,
      "metadata": {
        "id": "D0SEBtiuSuqH"
      },
      "outputs": [],
      "source": [
        "optimizer.zero_grad()\n",
        "loss.backward()\n",
        "optimizer.step()"
      ]
    },
    {
      "cell_type": "code",
      "execution_count": null,
      "metadata": {
        "id": "SP-HYDRGSuqH"
      },
      "outputs": [],
      "source": [
        "env.close()"
      ]
    }
  ],
  "metadata": {
    "colab": {
      "name": "2. NN with policy interacts with 3D Ball (MLAgent 10).ipynb",
      "provenance": [],
      "include_colab_link": true
    },
    "kernelspec": {
      "display_name": "Python 3",
      "language": "python",
      "name": "python3"
    },
    "language_info": {
      "codemirror_mode": {
        "name": "ipython",
        "version": 3
      },
      "file_extension": ".py",
      "mimetype": "text/x-python",
      "name": "python",
      "nbconvert_exporter": "python",
      "pygments_lexer": "ipython3",
      "version": "3.6.13"
    }
  },
  "nbformat": 4,
  "nbformat_minor": 0
}