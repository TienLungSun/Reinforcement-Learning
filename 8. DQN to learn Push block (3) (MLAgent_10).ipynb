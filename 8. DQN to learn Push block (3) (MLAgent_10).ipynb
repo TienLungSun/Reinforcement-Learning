{
  "cells": [
    {
      "cell_type": "markdown",
      "metadata": {
        "id": "view-in-github",
        "colab_type": "text"
      },
      "source": [
        "<a href=\"https://colab.research.google.com/github/TienLungSun/RL-Unity-ML-Agent/blob/main/8.%20DQN%20to%20learn%20Push%20block%20(3)%20(MLAgent_10).ipynb\" target=\"_parent\"><img src=\"https://colab.research.google.com/assets/colab-badge.svg\" alt=\"Open In Colab\"/></a>"
      ]
    },
    {
      "cell_type": "code",
      "execution_count": null,
      "metadata": {
        "id": "GRObB0mXmZhq"
      },
      "outputs": [],
      "source": [
        "import torch\n",
        "import torch.nn as nn\n",
        "import torch.nn.functional as F\n",
        "from torch.distributions import Normal\n",
        "import torch.optim as optim\n",
        "import numpy as np\n",
        "import matplotlib.pyplot as plt\n",
        "from mlagents_envs.environment import UnityEnvironment"
      ]
    },
    {
      "cell_type": "code",
      "execution_count": null,
      "metadata": {
        "id": "JTDJ8jn3mZh5",
        "outputId": "2903d42b-7074-42d1-baaa-9fd1da0b86da"
      },
      "outputs": [
        {
          "name": "stdout",
          "output_type": "stream",
          "text": [
            "cuda NVIDIA GeForce RTX 3060\n"
          ]
        }
      ],
      "source": [
        "if(torch.cuda.is_available()):\n",
        "    device = torch.device(\"cuda\")\n",
        "    print(device, torch.cuda.get_device_name(0))\n",
        "else: \n",
        "    device= torch.device(\"cpu\")\n",
        "    print(device)"
      ]
    },
    {
      "cell_type": "markdown",
      "metadata": {
        "id": "tjERqlj8S0YU"
      },
      "source": [
        "### DQN "
      ]
    },
    {
      "cell_type": "code",
      "execution_count": null,
      "metadata": {
        "id": "PNHCI0ZJS0YU"
      },
      "outputs": [],
      "source": [
        "N_STATES  = 210  # 105+105\n",
        "N_ACTIONS = 7  # 1 branch with 7 values, move forward/backward, rotate R/L, move R/L \n",
        "N_AGENTS = 3\n",
        "\n",
        "hidden_units = 256 #from ymal file\n",
        "\n",
        "LEARNING_RATE = 0.0003\n",
        "MEMORY_CAPACITY = 500 #10000"
      ]
    },
    {
      "cell_type": "code",
      "execution_count": null,
      "metadata": {
        "id": "FGhCm8MkmZiJ"
      },
      "outputs": [],
      "source": [
        "class Net(nn.Module):\n",
        "    def __init__(self, ):\n",
        "        super(Net, self).__init__()\n",
        "        self.layer1 = nn.Linear(N_STATES, hidden_units)\n",
        "        self.layer2 = nn.Linear(hidden_units, hidden_units)\n",
        "        self.out = nn.Linear(hidden_units, N_ACTIONS)\n",
        "\n",
        "    def forward(self, x):\n",
        "        x = F.relu(self.layer1(x))\n",
        "        x = F.relu(self.layer2(x))\n",
        "        return self.out(x)"
      ]
    },
    {
      "cell_type": "code",
      "execution_count": null,
      "metadata": {
        "id": "g8myd-uUmZiK"
      },
      "outputs": [],
      "source": [
        "eval_net = Net().to(device)"
      ]
    },
    {
      "cell_type": "code",
      "execution_count": null,
      "metadata": {
        "id": "B827GoiQmZiL"
      },
      "outputs": [],
      "source": [
        "optimizer = torch.optim.Adam(eval_net.parameters(), lr=LEARNING_RATE)\n",
        "loss_func = nn.MSELoss()"
      ]
    },
    {
      "cell_type": "code",
      "execution_count": null,
      "metadata": {
        "id": "5Dl7arXQS0YW"
      },
      "outputs": [],
      "source": [
        "target_net = Net().to(device)"
      ]
    },
    {
      "cell_type": "markdown",
      "metadata": {
        "id": "TeD9NyvKS0YX"
      },
      "source": [
        "### interact with Unity to fill the reply buffer"
      ]
    },
    {
      "cell_type": "code",
      "execution_count": null,
      "metadata": {
        "id": "-c3P29itS0YX"
      },
      "outputs": [],
      "source": [
        "def Interact_with_Unity_one_step (DecisionSteps):\n",
        "    s1 = torch.FloatTensor(DecisionSteps.obs[0])\n",
        "    s2 = torch.FloatTensor(DecisionSteps.obs[1])\n",
        "    s = torch.cat((s1, s2), 1).to(device)\n",
        "    action = eval_net(s)\n",
        "    MaxIdxOfEachAgent = torch.unsqueeze(torch.max(action, 1)[1], 1)\n",
        "    ActionIdxArray = MaxIdxOfEachAgent.cpu().data.numpy()\n",
        "    env.set_actions(behaviorName, ActionIdxArray+1) \n",
        "    env.step()\n",
        "    return s, ActionIdxArray"
      ]
    },
    {
      "cell_type": "code",
      "execution_count": null,
      "metadata": {
        "id": "Vqo9J5r_S0YY",
        "outputId": "576beebe-1812-4cca-c92f-5289731703fe"
      },
      "outputs": [
        {
          "name": "stdout",
          "output_type": "stream",
          "text": [
            "(500, 422)\n"
          ]
        }
      ],
      "source": [
        "MEMORY = np.zeros((MEMORY_CAPACITY, N_STATES * 2 + 2))  # (s, a, r, s_) \n",
        "print(MEMORY.shape)"
      ]
    },
    {
      "cell_type": "code",
      "execution_count": null,
      "metadata": {
        "id": "MsOqyv_dS0YY"
      },
      "outputs": [],
      "source": [
        "env = UnityEnvironment(file_name= None, base_port=5004)"
      ]
    },
    {
      "cell_type": "code",
      "execution_count": null,
      "metadata": {
        "id": "z4eXDmwAS0YY",
        "outputId": "fe7381f3-ce2e-4c96-8fe2-bd2ffc29199c"
      },
      "outputs": [
        {
          "name": "stdout",
          "output_type": "stream",
          "text": [
            "PushBlock?team=0\n"
          ]
        }
      ],
      "source": [
        "env.reset()\n",
        "behaviorNames = list(env.behavior_specs.keys())\n",
        "behaviorName = behaviorNames[0]\n",
        "print(behaviorName)"
      ]
    },
    {
      "cell_type": "code",
      "execution_count": null,
      "metadata": {
        "id": "1WcH_gsJS0YZ"
      },
      "outputs": [],
      "source": [
        "MemoryIdx = 0\n",
        "DecisionSteps, TerminalSteps = env.get_steps(behaviorName)\n",
        "while (MemoryIdx < MEMORY_CAPACITY):\n",
        "    if(len(DecisionSteps)==0):\n",
        "        print(\"Step\", MemoryIdx, \": no decision steps, reset!\")\n",
        "        env.reset()\n",
        "        DecisionSteps, TerminalSteps = env.get_steps(behaviorName)\n",
        "        continue\n",
        "\n",
        "    #interacts with Unity one step, but collect data only when all agents\n",
        "    #have decision steps\n",
        "    s, ActionIdxArray = Interact_with_Unity_one_step (DecisionSteps)\n",
        "    \n",
        "    NextDecisionSteps, NextTerminalSteps = env.get_steps(behaviorName)\n",
        "    if(len(DecisionSteps) != N_AGENTS or len(NextDecisionSteps) != N_AGENTS): \n",
        "        print(MemoryIdx, \"not all agents having decision steps\", \\\n",
        "              DecisionSteps.agent_id, \"next: \", NextDecisionSteps.agent_id)\n",
        "    else:\n",
        "        #after one step, if all agents have decision steps then collect data\n",
        "        #collect reward of this action from next decision and terminal steps\n",
        "        s1 = torch.FloatTensor(NextDecisionSteps.obs[0])\n",
        "        s2 = torch.FloatTensor(NextDecisionSteps.obs[1])\n",
        "        s_ = torch.cat((s1, s2), 1).to(device)\n",
        "        r = NextDecisionSteps.reward\n",
        "        for agentIdx in range(N_AGENTS):\n",
        "            transition = np.hstack((s[agentIdx].cpu().numpy(), ActionIdxArray[agentIdx], r[agentIdx], s_[agentIdx].cpu().numpy()))\n",
        "            MEMORY[MemoryIdx, :] = transition\n",
        "            MemoryIdx += 1\n",
        "            if(MemoryIdx == MEMORY_CAPACITY):\n",
        "                break\n",
        "    DecisionSteps, TerminalSteps = NextDecisionSteps, NextTerminalSteps  "
      ]
    },
    {
      "cell_type": "markdown",
      "metadata": {
        "id": "lduXoLglS0YZ"
      },
      "source": [
        "###  Start to learn. After each step, take a batch of trining data from memory. After every N steps, update targetNN using evalNN. "
      ]
    },
    {
      "cell_type": "code",
      "execution_count": null,
      "metadata": {
        "id": "vZUMcMXVS0YZ"
      },
      "outputs": [],
      "source": [
        "BATCH_SIZE = 50\n",
        "GAMMA = 0.9\n",
        "TARGET_REPLACE_ITER = 20    # target update frequency"
      ]
    },
    {
      "cell_type": "code",
      "execution_count": null,
      "metadata": {
        "id": "-N9c17yKS0YZ"
      },
      "outputs": [],
      "source": [
        "MaxStep = 100"
      ]
    },
    {
      "cell_type": "code",
      "execution_count": null,
      "metadata": {
        "id": "O-RUSbe9S0Ya",
        "outputId": "892559e2-053f-4ccb-b57d-55160630b5ab"
      },
      "outputs": [
        {
          "name": "stdout",
          "output_type": "stream",
          "text": [
            "1, 2, 3, 4, 5, 6, 7, 8, 9, 10, 11, 12, 13, 14, 15, 16, 17, 18, 19, 20, Update target Q-network\n",
            "\n",
            "21, 22, 23, 24, 25, 26, 27, 28, 29, 30, 31, 32, 33, 34, 35, 36, 37, 38, 39, 40, Update target Q-network\n",
            "\n",
            "41, 42, 43, 44, 45, 46, 47, 48, 49, 50, 51, 52, 53, 54, 55, 56, 57, 58, 59, 60, Update target Q-network\n",
            "\n",
            "61, 62, 63, 64, 65, 66, 67, 68, 69, 70, 71, 72, 73, 74, 75, 76, 77, 78, 79, 80, Update target Q-network\n",
            "\n",
            "81, 82, 83, 84, 85, 86, 87, 88, 89, 90, 91, 92, 93, 94, 95, 96, 97, 98, 99, "
          ]
        }
      ],
      "source": [
        "lossLst = []\n",
        "step = 1\n",
        "MemoryIdx = MEMORY_CAPACITY\n",
        "while (step < MaxStep):\n",
        "    print(step, end=\", \")\n",
        "    DecisionSteps, TerminalSteps = env.get_steps(behaviorName)\n",
        "    if(len(DecisionSteps)==0):\n",
        "        print(\"Step\", MemoryIdx, \": no decision steps, reset!\")\n",
        "        env.reset()\n",
        "        DecisionSteps, TerminalSteps = env.get_steps(behaviorName)\n",
        "        continue\n",
        "\n",
        "    Interact_with_Unity_one_step (DecisionSteps) \n",
        "    NextDecisionSteps, NextTerminalSteps = env.get_steps(behaviorName)\n",
        "    if(len(DecisionSteps) != N_AGENTS or len(NextDecisionSteps) != N_AGENTS): \n",
        "        print(\"Step\", step, \" not all agents having decision steps\", \\\n",
        "          DecisionSteps.agent_id, \"next: \", NextDecisionSteps.agent_id)\n",
        "    else:\n",
        "        #after one step, if all agents have decision steps then collect data\n",
        "        #collect reward of this action from next decision and terminal steps\n",
        "        s1 = torch.FloatTensor(NextDecisionSteps.obs[0])\n",
        "        s2 = torch.FloatTensor(NextDecisionSteps.obs[1])\n",
        "        s_ = torch.cat((s1, s2), 1).to(device)\n",
        "        r = NextDecisionSteps.reward\n",
        "        for agentIdx in range(N_AGENTS):\n",
        "            transition = np.hstack((s[agentIdx].cpu().numpy(), ActionIdxArray[agentIdx], r[agentIdx], s_[agentIdx].cpu().numpy()))\n",
        "            MEMORY[MemoryIdx% MEMORY_CAPACITY, :] = transition\n",
        "            MemoryIdx += 1\n",
        "\n",
        "    # target parameter update\n",
        "    if (step % TARGET_REPLACE_ITER == 0):\n",
        "        print(\"Update target Q-network\\n\")\n",
        "        target_net.load_state_dict(eval_net.state_dict())\n",
        "\n",
        "    # take one batch of training data from memory to update evalNN\n",
        "    sample_index = np.random.choice(MEMORY_CAPACITY, BATCH_SIZE)\n",
        "    b_memory = MEMORY[sample_index, :]\n",
        "    b_s = torch.FloatTensor(b_memory[:, :N_STATES]).to(device)\n",
        "    b_a = torch.LongTensor(b_memory[:, N_STATES:N_STATES+1].astype(int)).to(device)\n",
        "    b_r = torch.FloatTensor(b_memory[:, N_STATES+1:N_STATES+2]).to(device)\n",
        "    b_s_ = torch.FloatTensor(b_memory[:, -N_STATES:]).to(device)\n",
        "    q_eval = eval_net(b_s).gather(1, b_a)\n",
        "    q_next = target_net(b_s_).detach()\n",
        "    q_target = b_r + GAMMA * q_next.max(1)[0].view(BATCH_SIZE, 1)\n",
        "    loss = loss_func(q_eval, q_target)\n",
        "    lossLst.append(float(loss))\n",
        "    optimizer.zero_grad()\n",
        "    loss.backward()\n",
        "    optimizer.step()\n",
        "    step = step + 1"
      ]
    },
    {
      "cell_type": "code",
      "execution_count": null,
      "metadata": {
        "id": "fCNYkpbYS0Ya"
      },
      "outputs": [],
      "source": [
        "env.close()"
      ]
    },
    {
      "cell_type": "code",
      "execution_count": null,
      "metadata": {
        "id": "agsEQ_K3S0Ya"
      },
      "outputs": [],
      "source": [
        "import matplotlib.pyplot as plt"
      ]
    },
    {
      "cell_type": "code",
      "execution_count": null,
      "metadata": {
        "id": "cJ792pNSS0Yb",
        "outputId": "a799c082-3862-4969-856e-f971fcb4c480"
      },
      "outputs": [
        {
          "data": {
            "image/png": "[encoded data removed]",
            "text/plain": [
              "<Figure size 864x288 with 1 Axes>"
            ]
          },
          "metadata": {
            "needs_background": "light"
          },
          "output_type": "display_data"
        }
      ],
      "source": [
        "plt.figure(figsize=(12, 4))\n",
        "plt.plot(lossLst)\n",
        "plt.show()"
      ]
    },
    {
      "cell_type": "code",
      "execution_count": null,
      "metadata": {
        "id": "prAOMlCNS0Yb"
      },
      "outputs": [],
      "source": [
        ""
      ]
    }
  ],
  "metadata": {
    "colab": {
      "name": "2. NN with policy interacts with 3D Ball (MLAgent 10).ipynb",
      "provenance": [],
      "include_colab_link": true
    },
    "kernelspec": {
      "display_name": "Python 3",
      "language": "python",
      "name": "python3"
    },
    "language_info": {
      "codemirror_mode": {
        "name": "ipython",
        "version": 3
      },
      "file_extension": ".py",
      "mimetype": "text/x-python",
      "name": "python",
      "nbconvert_exporter": "python",
      "pygments_lexer": "ipython3",
      "version": "3.6.13"
    }
  },
  "nbformat": 4,
  "nbformat_minor": 0
}