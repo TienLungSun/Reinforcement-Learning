{
 "cells": [
  {
   "cell_type": "markdown",
   "metadata": {},
   "source": [
    "Reference: RL-Adventure https://github.com/higgsfield/RL-Adventure-2/blob/master/3.ppo.ipynb"
   ]
  },
  {
   "cell_type": "code",
   "execution_count": 1,
   "metadata": {
    "id": "z29hg89Qmg-S"
   },
   "outputs": [],
   "source": [
    "import torch\n",
    "import torch.nn as nn\n",
    "import torch.nn.functional as F\n",
    "import torch.optim as optim\n",
    "from torch.distributions import Normal\n",
    "import numpy as np\n",
    "import matplotlib.pyplot as plt"
   ]
  },
  {
   "cell_type": "code",
   "execution_count": 2,
   "metadata": {},
   "outputs": [],
   "source": [
    "from mlagents_envs.environment import UnityEnvironment\n",
    "from mlagents_envs.base_env import ActionTuple"
   ]
  },
  {
   "cell_type": "code",
   "execution_count": 3,
   "metadata": {
    "id": "U5TAt7Mcmg-W",
    "outputId": "6ef7273c-d02b-45b2-9512-a2e57da25817"
   },
   "outputs": [
    {
     "name": "stdout",
     "output_type": "stream",
     "text": [
      "cuda GeForce GTX 1660 SUPER\n"
     ]
    }
   ],
   "source": [
    "if(torch.cuda.is_available()):\n",
    "    device = torch.device(\"cuda\")\n",
    "    print(device, torch.cuda.get_device_name(0))\n",
    "else:\n",
    "    device= torch.device(\"cpu\")\n",
    "    print(device)"
   ]
  },
  {
   "cell_type": "markdown",
   "metadata": {},
   "source": [
    "### Actor and critic NN"
   ]
  },
  {
   "cell_type": "code",
   "execution_count": 4,
   "metadata": {},
   "outputs": [],
   "source": [
    "# (variales in CAPTICAL are global variables)\n",
    "N_STATES  = 243\n",
    "N_ACTIONS = 39\n",
    "HIDDEN_UNITS = 512"
   ]
  },
  {
   "cell_type": "code",
   "execution_count": 5,
   "metadata": {
    "id": "bEjeAPtXmg-Y"
   },
   "outputs": [],
   "source": [
    "def init_weights(m):\n",
    "    if isinstance(m, nn.Linear):\n",
    "        nn.init.normal_(m.weight, mean=0., std=0.1)\n",
    "        nn.init.constant_(m.bias, 0.1)"
   ]
  },
  {
   "cell_type": "code",
   "execution_count": 6,
   "metadata": {
    "id": "9MJKXhTgmg-Y"
   },
   "outputs": [],
   "source": [
    "class Net(nn.Module):\n",
    "    def __init__(self, ):\n",
    "        super(Net, self).__init__()\n",
    "        \n",
    "        self.critic = nn.Sequential(\n",
    "            nn.Linear(N_STATES, HIDDEN_UNITS),\n",
    "            nn.LayerNorm(HIDDEN_UNITS),\n",
    "            nn.Linear(HIDDEN_UNITS, HIDDEN_UNITS),\n",
    "            nn.LayerNorm(HIDDEN_UNITS),\n",
    "            nn.Linear(HIDDEN_UNITS, 1)\n",
    "        )\n",
    "        \n",
    "        self.actor = nn.Sequential(\n",
    "            nn.Linear(N_STATES, HIDDEN_UNITS),\n",
    "            nn.LayerNorm(HIDDEN_UNITS),\n",
    "            nn.Linear(HIDDEN_UNITS, HIDDEN_UNITS),\n",
    "            nn.LayerNorm(HIDDEN_UNITS),\n",
    "            nn.Linear(HIDDEN_UNITS, N_ACTIONS)\n",
    "        )\n",
    "        self.log_std = nn.Parameter(torch.ones(1, N_ACTIONS) * 0.0)\n",
    "        self.apply(init_weights)\n",
    "    \n",
    "    def forward(self, x):\n",
    "        value = self.critic(x)\n",
    "        mu    = self.actor(x)\n",
    "        std   = self.log_std.exp().expand_as(mu)\n",
    "        dist  = Normal(mu, std)\n",
    "        return dist, value"
   ]
  },
  {
   "cell_type": "code",
   "execution_count": 7,
   "metadata": {
    "id": "sj7O_oOUmg-Z"
   },
   "outputs": [],
   "source": [
    "NET = Net().to(device)"
   ]
  },
  {
   "cell_type": "code",
   "execution_count": 8,
   "metadata": {},
   "outputs": [],
   "source": [
    "LEARNING_RATE = 0.0003\n",
    "OPTIMIZER = optim.Adam(NET.parameters(), lr=LEARNING_RATE )"
   ]
  },
  {
   "cell_type": "markdown",
   "metadata": {},
   "source": [
    "### Test: Actor-Critics NN interacting with Unity"
   ]
  },
  {
   "cell_type": "code",
   "execution_count": 9,
   "metadata": {},
   "outputs": [],
   "source": [
    "ENV = UnityEnvironment(file_name= None, base_port=5004)"
   ]
  },
  {
   "cell_type": "code",
   "execution_count": 10,
   "metadata": {},
   "outputs": [
    {
     "name": "stdout",
     "output_type": "stream",
     "text": [
      "Walker?team=0\n"
     ]
    }
   ],
   "source": [
    "ENV.reset()\n",
    "behavior_names = list(ENV.behavior_specs.keys())\n",
    "BEHAVIOR_NAME = behavior_names[0]\n",
    "print(BEHAVIOR_NAME)"
   ]
  },
  {
   "cell_type": "code",
   "execution_count": 11,
   "metadata": {},
   "outputs": [],
   "source": [
    "DecisionSteps, TerminalSteps = ENV.get_steps(BEHAVIOR_NAME)"
   ]
  },
  {
   "cell_type": "code",
   "execution_count": 12,
   "metadata": {},
   "outputs": [
    {
     "name": "stdout",
     "output_type": "stream",
     "text": [
      "(10, 243)\n"
     ]
    }
   ],
   "source": [
    "s = DecisionSteps.obs[0]\n",
    "print(s.shape)"
   ]
  },
  {
   "cell_type": "code",
   "execution_count": 13,
   "metadata": {},
   "outputs": [
    {
     "name": "stdout",
     "output_type": "stream",
     "text": [
      "Normal(loc: torch.Size([10, 39]), scale: torch.Size([10, 39])) \n",
      " tensor([[1.7525],\n",
      "        [1.3020],\n",
      "        [1.8764],\n",
      "        [1.7034],\n",
      "        [1.7539],\n",
      "        [1.6710],\n",
      "        [2.0807],\n",
      "        [1.8870],\n",
      "        [2.0875],\n",
      "        [0.3530]], device='cuda:0', grad_fn=<AddmmBackward0>)\n"
     ]
    }
   ],
   "source": [
    "s = torch.FloatTensor(s)       \n",
    "dist, value = NET(s.to(device))\n",
    "print(dist, \"\\n\", value)"
   ]
  },
  {
   "cell_type": "code",
   "execution_count": 14,
   "metadata": {},
   "outputs": [
    {
     "name": "stdout",
     "output_type": "stream",
     "text": [
      "tensor([[-0.9380, -2.7641, -0.6294,  1.9791,  1.2407, -1.3509, -0.9109, -1.9831,\n",
      "          3.7667,  0.8306, -1.9467, -1.6690, -3.2711,  0.0184,  2.8337,  2.0580,\n",
      "         -2.7193,  0.4982, -2.0121, -2.2045,  0.8556, -0.9744,  1.3541, -2.2523,\n",
      "          3.1774,  0.1733, -1.1508, -0.2490,  1.0795,  3.1678, -1.2401,  2.3537,\n",
      "          1.3906,  0.0341, -0.3109, -6.1943,  2.8592, -1.7465, -1.9488],\n",
      "        [ 1.6272, -0.7344, -1.5027,  4.3552, -0.3052, -1.4030,  3.0113,  0.7138,\n",
      "          2.7246,  3.0524,  1.2059,  1.3404, -2.7189, -0.3873,  1.7334, -2.1341,\n",
      "         -2.4745,  0.0732,  0.9696, -0.7626,  3.3580, -1.2621,  0.7931, -1.1350,\n",
      "          0.5355,  2.8415, -2.3722,  0.0333,  2.0301,  1.0356, -0.3242,  1.7679,\n",
      "          1.4561, -1.4792, -3.0903, -2.5798,  4.9630, -0.4615, -4.3254],\n",
      "        [-1.5545,  0.8662, -2.7014,  2.2875, -0.2089, -0.8912,  0.6527,  0.2810,\n",
      "          0.0528, -0.0460, -1.0514, -1.0024, -2.1966, -0.4515, -0.0266,  3.6249,\n",
      "         -3.4321,  0.4266,  1.2281, -1.0693,  2.1622, -2.0834,  0.3923, -1.3494,\n",
      "          2.4269,  5.3772, -4.2723,  2.9410,  0.0129,  1.9273, -1.3183,  2.8526,\n",
      "          2.1110, -1.6569, -3.3645, -2.9757,  3.0193,  2.4750, -3.4044],\n",
      "        [ 0.1675, -4.1391, -3.7133,  4.2407,  0.4294, -1.1541,  0.4520, -1.3420,\n",
      "          3.2807,  0.4233,  2.7259, -0.2669, -2.8227, -0.0700,  1.9292,  2.1218,\n",
      "         -2.0909,  0.4125,  0.6018, -0.3117,  1.1609, -2.0099,  1.5970,  0.2713,\n",
      "          4.6671,  1.4908, -4.2008,  2.0201,  1.3592,  1.2181,  0.2019,  4.3571,\n",
      "          2.7073,  0.1849, -1.2073, -5.0742,  2.4561, -0.4315, -3.7051],\n",
      "        [ 2.3259, -0.4907, -0.9506,  2.6817, -0.4698, -2.0388,  1.0802, -0.4620,\n",
      "          1.6735,  1.0219,  2.1212, -1.4256, -5.6754, -0.5564,  3.7142,  2.1913,\n",
      "         -3.5708,  2.6152, -0.3655, -4.7573,  1.4980, -2.7122, -0.3022, -1.4948,\n",
      "          3.0244,  3.0188, -4.4398,  1.6548,  1.3426,  1.2676, -3.0365,  4.1286,\n",
      "          3.6537,  0.4791, -0.8105, -1.7392,  2.6018,  0.4990, -1.8699],\n",
      "        [-0.5560, -1.6915, -2.2952,  1.3410, -0.2511, -0.7988, -1.6108,  0.8579,\n",
      "          3.2895,  0.2543, -2.0608, -1.5050, -2.6254, -0.5829,  4.2761,  0.5400,\n",
      "         -4.1065,  0.3328,  2.2932, -2.6437,  1.0081, -2.1451,  0.8719,  0.7410,\n",
      "          2.0836,  2.3925, -3.0550,  2.1943,  1.1321,  1.5458,  1.4568,  4.0913,\n",
      "          2.7986,  2.0803, -0.6009, -4.7897,  1.8199, -1.1519, -2.5546],\n",
      "        [-0.1688,  0.0644, -1.2931,  2.9689, -1.7144, -1.1660,  0.1671, -2.2115,\n",
      "          2.4612,  0.4952,  2.9576, -2.5287, -4.4664, -0.3490,  3.3006,  3.4936,\n",
      "         -3.7318,  0.7888, -0.5458, -1.5569,  1.5169,  0.3298,  0.5305,  0.9235,\n",
      "          1.8462,  1.9359, -0.1671,  3.5117,  1.0785,  1.7627, -1.1116,  3.7478,\n",
      "          0.8453,  1.0634, -2.2995, -3.3982,  2.9740, -0.9867, -2.7780],\n",
      "        [-0.6488, -1.9665, -3.1954,  2.8022,  0.1529, -0.7881,  1.6459, -1.7911,\n",
      "          3.2606, -0.1081,  1.5262, -2.8148, -1.4381, -0.4811,  0.7170,  2.8502,\n",
      "         -4.3345,  0.2306,  0.2214, -3.8708,  3.6835, -1.4297, -0.1083, -1.0590,\n",
      "          1.0906,  0.9731, -3.9904,  2.5722,  1.5743,  1.4609, -1.0426,  2.7623,\n",
      "          2.7778, -1.7935, -0.2972, -3.4901,  2.4029,  0.6373, -1.5280],\n",
      "        [ 0.4480, -0.7521, -0.0504, -0.0505,  0.6256, -2.0626,  0.0641, -0.7815,\n",
      "          2.1507, -1.0720,  1.5543, -2.0371, -3.5843, -1.9400,  2.9510,  2.7615,\n",
      "         -2.0914,  3.4678, -1.9880, -2.7836,  2.7242, -0.0954,  0.6326, -0.3872,\n",
      "          2.1310,  2.9008, -3.7953,  0.6812, -1.0430,  1.9691, -0.3437,  2.0830,\n",
      "          2.7232,  1.2273, -0.9963, -3.4695,  2.5113, -0.4708, -4.3789],\n",
      "        [ 2.7992, -2.0890, -2.9866,  3.2485, -1.9208, -4.0380,  1.9745,  1.6428,\n",
      "          3.3492,  3.6204, -0.6714,  0.3952, -0.7470,  0.1354,  1.0574, -4.3747,\n",
      "         -3.0459, -2.8508,  1.2497, -0.8889,  2.1480,  0.4722, -0.8295, -0.4793,\n",
      "          2.3171,  1.9828, -2.7796,  0.4315, -1.1534,  0.8524, -1.8232,  2.5346,\n",
      "          0.7701, -0.7354, -1.4491, -1.6159,  4.4855,  1.1335, -1.0044]],\n",
      "       device='cuda:0') \n",
      " tensor([[-1.0626, -1.2471, -1.3017, -0.9259, -3.2938, -0.9264, -1.2430, -1.9088,\n",
      "         -2.4357, -1.3079, -2.3612, -1.5223, -1.1274, -0.9399, -0.9192, -1.6485,\n",
      "         -1.1100, -0.9400, -4.4735, -0.9855, -2.1074, -1.3699, -0.9261, -1.8865,\n",
      "         -1.0826, -3.0404, -1.8197, -2.0177, -0.9911, -1.7512, -0.9255, -1.0596,\n",
      "         -0.9441, -0.9401, -1.1508, -4.3353, -0.9561, -1.8353, -1.2950],\n",
      "        [-1.1422, -1.0235, -0.9219, -2.1140, -1.0183, -1.4082, -2.6815, -0.9252,\n",
      "         -1.4966, -2.4485, -1.7539, -1.3315, -1.0274, -0.9199, -1.2125, -1.3998,\n",
      "         -1.3064, -0.9280, -1.0653, -0.9907, -1.3996, -1.0832, -1.0021, -0.9248,\n",
      "         -3.0959, -0.9217, -0.9791, -0.9367, -1.8056, -1.0906, -1.1760, -1.7765,\n",
      "         -1.1374, -2.3707, -1.1513, -0.9767, -1.7947, -1.1190, -3.0288],\n",
      "        [-3.0296, -1.5603, -1.9190, -0.9902, -0.9638, -1.1868, -0.9199, -0.9303,\n",
      "         -1.4925, -0.9189, -3.5776, -1.0903, -1.4184, -0.9700, -2.9181, -2.0501,\n",
      "         -0.9190, -0.9535, -1.6850, -1.2642, -0.9190, -0.9222, -0.9355, -0.9203,\n",
      "         -0.9211, -2.5093, -1.7941, -3.7407, -1.1417, -0.9322, -0.9195, -1.4302,\n",
      "         -0.9226, -2.6413, -1.2075, -0.9203, -0.9540, -2.8448, -1.9128],\n",
      "        [-1.0326, -3.4429, -3.3735, -3.7334, -1.8259, -0.9251, -1.0440, -1.3647,\n",
      "         -1.8678, -1.0034, -5.2641, -0.9232, -0.9748, -0.9674, -1.1788, -2.2540,\n",
      "         -1.5680, -0.9380, -0.9190, -1.7168, -1.6909, -0.9308, -0.9919, -1.4776,\n",
      "         -2.8749, -1.2102, -2.6109, -1.4951, -1.1247, -1.1509, -1.7694, -1.8961,\n",
      "         -2.4966, -0.9277, -0.9190, -2.1209, -0.9423, -0.9220, -1.2074],\n",
      "        [-2.4891, -1.0103, -1.0636, -0.9831, -0.9347, -0.9190, -0.9314, -0.9273,\n",
      "         -1.0546, -0.9631, -2.3562, -2.8281, -3.0777, -0.9784, -1.8372, -0.9662,\n",
      "         -1.1264, -2.6496, -1.3140, -1.8657, -1.1254, -0.9576, -1.0737, -0.9872,\n",
      "         -1.6375, -0.9591, -1.0743, -1.1715, -1.2428, -0.9412, -2.5193, -1.7754,\n",
      "         -0.9886, -1.3663, -0.9758, -1.7191, -1.0340, -0.9439, -1.5213],\n",
      "        [-0.9601, -1.0033, -1.1668, -1.1670, -1.1683, -1.0920, -2.3332, -2.0076,\n",
      "         -1.4612, -0.9208, -2.1191, -1.1881, -0.9194, -1.2299, -1.9826, -0.9192,\n",
      "         -1.0964, -0.9620, -2.0446, -1.0982, -1.9505, -0.9243, -0.9436, -2.4310,\n",
      "         -1.0189, -0.9412, -0.9768, -1.1225, -0.9978, -0.9331, -4.3537, -1.8885,\n",
      "         -2.0346, -2.8955, -0.9361, -1.6473, -1.2667, -1.1919, -0.9192],\n",
      "        [-1.0367, -1.8116, -0.9202, -1.7704, -1.3082, -0.9377, -1.0856, -1.9907,\n",
      "         -1.2847, -2.0981, -3.3818, -1.4439, -1.8921, -0.9443, -0.9304, -1.1116,\n",
      "         -1.0237, -0.9717, -1.2402, -1.0955, -1.1241, -3.2616, -1.2878, -2.5528,\n",
      "         -1.0935, -1.2192, -3.5931, -3.9036, -1.0917, -1.0236, -0.9199, -1.0199,\n",
      "         -1.3788, -1.1790, -1.4195, -0.9228, -1.0803, -1.2394, -0.9244],\n",
      "        [-1.0985, -1.0814, -2.3832, -0.9717, -1.3880, -1.2744, -1.7890, -1.3725,\n",
      "         -1.4455, -0.9436, -1.7403, -0.9240, -2.8966, -0.9190, -3.3284, -0.9710,\n",
      "         -0.9788, -1.1575, -0.9819, -1.2326, -1.9568, -1.2873, -1.3136, -1.0182,\n",
      "         -1.4130, -2.7780, -1.0720, -1.0013, -1.4507, -0.9535, -0.9324, -0.9232,\n",
      "         -0.9219, -2.1724, -1.0815, -0.9247, -0.9839, -1.1630, -0.9203],\n",
      "        [-1.1560, -0.9206, -1.5781, -3.0816, -1.7685, -1.2868, -0.9270, -0.9830,\n",
      "         -1.2705, -0.9343, -0.9751, -0.9594, -0.9784, -1.9749, -0.9455, -0.9695,\n",
      "         -1.7101, -3.8654, -2.9813, -1.1257, -1.1165, -2.5110, -1.0301, -1.1447,\n",
      "         -0.9606, -0.9709, -1.5571, -0.9257, -2.0920, -0.9625, -1.2133, -2.1211,\n",
      "         -1.0993, -1.3331, -1.3602, -0.9445, -0.9446, -1.1125, -2.9286],\n",
      "        [-1.1299, -1.1795, -1.6816, -0.9874, -1.8045, -1.2380, -1.0134, -1.0803,\n",
      "         -1.6303, -0.9192, -1.1349, -0.9293, -1.2578, -1.1166, -2.0860, -1.0227,\n",
      "         -0.9904, -2.8182, -0.9698, -0.9618, -0.9227, -3.8058, -0.9249, -1.3720,\n",
      "         -0.9738, -1.0116, -0.9919, -1.0423, -2.8653, -0.9958, -1.2896, -1.1805,\n",
      "         -0.9192, -0.9740, -1.0022, -1.0195, -1.0892, -1.2488, -0.9570]],\n",
      "       device='cuda:0', grad_fn=<SubBackward0>)\n"
     ]
    }
   ],
   "source": [
    "a = dist.sample() \n",
    "log_prob = dist.log_prob(a)\n",
    "print(a, \"\\n\", log_prob)"
   ]
  },
  {
   "cell_type": "code",
   "execution_count": 15,
   "metadata": {},
   "outputs": [],
   "source": [
    "a = a.cpu().detach().numpy()\n",
    "a = ActionTuple(np.array(a, dtype=np.float32))\n",
    "ENV.set_actions(BEHAVIOR_NAME, a)   \n",
    "ENV.step()\n",
    "a = a._continuous #convert from ActionTuple to np.array\n",
    "a = torch.FloatTensor(a) # convert from np.array to Tensor"
   ]
  },
  {
   "cell_type": "code",
   "execution_count": 16,
   "metadata": {},
   "outputs": [],
   "source": [
    "ENV.close()"
   ]
  },
  {
   "cell_type": "markdown",
   "metadata": {},
   "source": [
    "### Interacts with Unity to collect training data "
   ]
  },
  {
   "cell_type": "code",
   "execution_count": 17,
   "metadata": {},
   "outputs": [],
   "source": [
    "def Interact_with_Unity_one_step (DecisionSteps):\n",
    "    # ENV and NET are global variables        \n",
    "    s = DecisionSteps.obs[0]  \n",
    "    s = torch.FloatTensor(s)       \n",
    "    dist, value = NET(s.to(device))\n",
    "    a = dist.sample() \n",
    "    log_prob = dist.log_prob(a)\n",
    "    \n",
    "    a = a.cpu().detach().numpy()\n",
    "    a = ActionTuple(np.array(a, dtype=np.float32))\n",
    "    ENV.set_actions(BEHAVIOR_NAME, a)   \n",
    "    ENV.step()\n",
    "    a = a._continuous #convert from ActionTuple to np.array\n",
    "    a = torch.FloatTensor(a) # convert from np.array to Tensor\n",
    "    return s, value, a, log_prob"
   ]
  },
  {
   "cell_type": "code",
   "execution_count": 18,
   "metadata": {},
   "outputs": [],
   "source": [
    "def Collect_REWARDS_and_MASKS (step, AgentSteps, flag): \n",
    "    #flag=1:decision, 0: terminal steps\n",
    "    #REWARDS, MASKS, NEXT_STATES are gloable variables\n",
    "    r = AgentSteps.reward\n",
    "    r = torch.FloatTensor(r).unsqueeze(1)\n",
    "    s = torch.FloatTensor(AgentSteps.obs[0])\n",
    "    s = torch.FloatTensor(s).to(device) \n",
    "    for idx in range(len(AgentSteps)):\n",
    "        AgentID = AgentSteps.agent_id[idx]\n",
    "        REWARDS[step][AgentID]=r[idx]\n",
    "        MASKS[step][AgentID]= flag\n",
    "        NEXT_STATES[step][AgentID]=s[idx]"
   ]
  },
  {
   "cell_type": "code",
   "execution_count": 19,
   "metadata": {},
   "outputs": [],
   "source": [
    "def collect_training_data (print_message):  \n",
    "    # Interact with Unity INTERACTION_STEPS to collect training data\n",
    "    # The total number of training data collected (buffer size) is INTERACTION_STEPS*N_AGENTS \n",
    "    #ENV, BEHAVIOR_NAME are gloabl variables\n",
    "    #STATES, ACTIONS, LOG_PROBS, VALUES, REWARDS, MASKS, NEXT_STATES are global variables (tensor array)\n",
    "    if(print_message):\n",
    "        print(\"Collecting \", INTERACTION_STEPS, \" training steps from \", N_AGENTS, \" agents\", end=\": \")\n",
    "    step = 0  \n",
    "    DecisionSteps, TerminalSteps = ENV.get_steps(BEHAVIOR_NAME)\n",
    "    while(step < INTERACTION_STEPS): #try to run TIME_HORIZON good steps\n",
    "        #if we have no decision agents,then continue next loop without increase step\n",
    "        if(len(DecisionSteps) == 0): \n",
    "            ENV.reset() \n",
    "            DecisionSteps, TerminalSteps = ENV.get_steps(BEHAVIOR_NAME)\n",
    "            continue #continue next while loop without increase step\n",
    "        \n",
    "        # Interacts with Unity one step\n",
    "        s, value, a, log_prob = Interact_with_Unity_one_step (DecisionSteps)\n",
    "        NextDecisionSteps, NextTerminalSteps = ENV.get_steps(BEHAVIOR_NAME)\n",
    "\n",
    "        #if this or next decision step misses some agents, then do not collect data\n",
    "        if(len(DecisionSteps)!= N_AGENTS or len(NextDecisionSteps)!= N_AGENTS):\n",
    "            DecisionSteps, TerminalSteps = NextDecisionSteps, NextTerminalSteps\n",
    "            continue      #continue next while loop without increase step\n",
    "        \n",
    "        #else this and next decision steps includes all agents, collect (s, a, r, s1)\n",
    "        for idx in range(len(DecisionSteps)):\n",
    "            #find decision agents and record their state, value and ACTIONS\n",
    "            AgentID = DecisionSteps.agent_id[idx]\n",
    "            STATES[step][AgentID]=s[idx]\n",
    "            VALUES[step][AgentID]=value[idx]\n",
    "            ACTIONS[step][AgentID]=a[idx]\n",
    "            LOG_PROBS[step][AgentID]=log_prob[idx]\n",
    "\n",
    "        #collect reward of this action from next decision and terminal steps\n",
    "        if(len(NextTerminalSteps) >0):\n",
    "            #if next step has terminal agents, then collect terminal agents first\n",
    "            Collect_REWARDS_and_MASKS(step, NextTerminalSteps, 0)\n",
    "        else:  #else collect r and next state from decision steps\n",
    "            Collect_REWARDS_and_MASKS(step, NextDecisionSteps, 1)\n",
    "        \n",
    "        if(print_message and (step % 500)==0):\n",
    "            print(step, end=\",\")\n",
    "        step = step + 1\n",
    "        DecisionSteps, TerminalSteps = NextDecisionSteps, NextTerminalSteps\n",
    "    print()"
   ]
  },
  {
   "cell_type": "code",
   "execution_count": 20,
   "metadata": {},
   "outputs": [],
   "source": [
    "def compute_gae(next_value):\n",
    "    value1 = VALUES + [next_value.cpu()]\n",
    "    gae = 0\n",
    "    returns = []\n",
    "    for step in reversed(range(INTERACTION_STEPS )):\n",
    "        delta = REWARDS[step] + GAMMA*value1[step + 1]*MASKS[step]-value1[step]\n",
    "        gae = delta + GAMMA*LAMBD*MASKS[step]*gae\n",
    "        returns.insert(0, gae + VALUES[step])\n",
    "    return returns"
   ]
  },
  {
   "cell_type": "markdown",
   "metadata": {},
   "source": [
    "### Test interaction with Unity to collect training data"
   ]
  },
  {
   "cell_type": "code",
   "execution_count": 21,
   "metadata": {},
   "outputs": [],
   "source": [
    "ENV = UnityEnvironment(file_name= None, base_port=5004)"
   ]
  },
  {
   "cell_type": "code",
   "execution_count": 22,
   "metadata": {},
   "outputs": [
    {
     "name": "stdout",
     "output_type": "stream",
     "text": [
      "Walker?team=0\n"
     ]
    }
   ],
   "source": [
    "ENV.reset()\n",
    "behavior_names = list(ENV.behavior_specs.keys())\n",
    "BEHAVIOR_NAME = behavior_names[0]\n",
    "print(BEHAVIOR_NAME)"
   ]
  },
  {
   "cell_type": "code",
   "execution_count": 23,
   "metadata": {},
   "outputs": [],
   "source": [
    "# tensor arrays to store training data (s,a,r,s1) from N_AGENTS performing INTERACTION_STEPS\n",
    "N_AGENTS = 10  #The number of training scenes in Unity \n",
    "\n",
    "INTERACTION_STEPS = 254  #(Walker.yaml 2048) buffer_size=N_AGENTS * INTERACTION_STEPS=20480\n",
    "\n",
    "a = torch.FloatTensor([[0]]*N_AGENTS ) \n",
    "b = torch.FloatTensor([[0]*N_ACTIONS]*N_AGENTS ) \n",
    "c = torch.FloatTensor([[0]*N_STATES]*N_AGENTS ) \n",
    "\n",
    "VALUES =REWARDS = MASKS = [a]*INTERACTION_STEPS\n",
    "LOG_PROBS = ACTIONS = [b]*INTERACTION_STEPS\n",
    "STATES = NEXT_STATES = [c]*INTERACTION_STEPS"
   ]
  },
  {
   "cell_type": "code",
   "execution_count": 24,
   "metadata": {},
   "outputs": [
    {
     "name": "stdout",
     "output_type": "stream",
     "text": [
      "Collecting  254  training steps from  10  agents: 0,\n"
     ]
    }
   ],
   "source": [
    "collect_training_data(print_message=True)"
   ]
  },
  {
   "cell_type": "code",
   "execution_count": 25,
   "metadata": {},
   "outputs": [
    {
     "name": "stdout",
     "output_type": "stream",
     "text": [
      "254 torch.Size([10, 39])\n",
      "254 torch.Size([10, 1])\n",
      "254 torch.Size([10, 1])\n",
      "254 torch.Size([10, 1])\n",
      "254 torch.Size([10, 243])\n",
      "254 torch.Size([10, 39])\n",
      "254 torch.Size([10, 243])\n"
     ]
    }
   ],
   "source": [
    "print(len(LOG_PROBS), LOG_PROBS[0].shape)\n",
    "print(len(VALUES), VALUES[0].shape)\n",
    "print(len(REWARDS), REWARDS[0].shape)\n",
    "print(len(MASKS), MASKS[0].shape)\n",
    "print(len(STATES), STATES[0].shape)\n",
    "print(len(ACTIONS), ACTIONS[0].shape)\n",
    "print(len(NEXT_STATES), NEXT_STATES[0].shape)"
   ]
  },
  {
   "cell_type": "code",
   "execution_count": 26,
   "metadata": {},
   "outputs": [],
   "source": [
    "# send last next state to calculate value\n",
    "_, next_value = NET(NEXT_STATES[-1].to(device)) "
   ]
  },
  {
   "cell_type": "code",
   "execution_count": 27,
   "metadata": {},
   "outputs": [],
   "source": [
    "GAMMA = 0.995\n",
    "LAMBD = 0.95"
   ]
  },
  {
   "cell_type": "code",
   "execution_count": 28,
   "metadata": {},
   "outputs": [],
   "source": [
    "RETURNS = compute_gae(next_value)"
   ]
  },
  {
   "cell_type": "code",
   "execution_count": 29,
   "metadata": {},
   "outputs": [],
   "source": [
    "MERGED_RETURNS   = torch.cat(RETURNS).detach()\n",
    "MERGED_LOG_PROBS = torch.cat(LOG_PROBS).detach()\n",
    "MERGED_VALUES    = torch.cat(VALUES).detach()\n",
    "MERGED_STATES    = torch.cat(STATES) \n",
    "MERGED_NEXT_STATES   = torch.cat(NEXT_STATES) \n",
    "MERGED_ACTIONS   = torch.cat(ACTIONS)\n",
    "MERGED_ADVANTAGES = MERGED_RETURNS - MERGED_VALUES"
   ]
  },
  {
   "cell_type": "code",
   "execution_count": 30,
   "metadata": {},
   "outputs": [
    {
     "name": "stdout",
     "output_type": "stream",
     "text": [
      "2540 torch.Size([1])\n",
      "2540 torch.Size([39])\n",
      "2540 torch.Size([1])\n",
      "2540 torch.Size([243])\n",
      "2540 torch.Size([243])\n",
      "2540 torch.Size([39])\n",
      "2540 torch.Size([1])\n"
     ]
    }
   ],
   "source": [
    "print(len(MERGED_RETURNS), MERGED_RETURNS[0].shape)\n",
    "print(len(MERGED_LOG_PROBS), MERGED_LOG_PROBS[0].shape)\n",
    "print(len(MERGED_VALUES), MERGED_VALUES[0].shape)\n",
    "print(len(MERGED_STATES), MERGED_STATES[0].shape)\n",
    "print(len(MERGED_NEXT_STATES), MERGED_NEXT_STATES[0].shape)\n",
    "print(len(MERGED_ACTIONS), MERGED_ACTIONS[0].shape)\n",
    "print(len(MERGED_ADVANTAGES), MERGED_ADVANTAGES[0].shape)"
   ]
  },
  {
   "cell_type": "code",
   "execution_count": 31,
   "metadata": {},
   "outputs": [],
   "source": [
    "ENV.close()"
   ]
  },
  {
   "cell_type": "markdown",
   "metadata": {},
   "source": [
    "### PPO Optimization"
   ]
  },
  {
   "cell_type": "code",
   "execution_count": 32,
   "metadata": {},
   "outputs": [],
   "source": [
    "def ppo_iter():\n",
    "    buffer_size = MERGED_STATES.size(0)\n",
    "    for _ in range(buffer_size// BATCH_SIZE ):\n",
    "        rand_ids = np.random.randint(0, buffer_size, BATCH_SIZE )\n",
    "        yield MERGED_STATES[rand_ids, :], MERGED_ACTIONS[rand_ids, :], MERGED_NEXT_STATES[rand_ids, :],\\\n",
    "              MERGED_LOG_PROBS[rand_ids, :], MERGED_RETURNS[rand_ids, :], MERGED_ADVANTAGES[rand_ids, :]"
   ]
  },
  {
   "cell_type": "code",
   "execution_count": 33,
   "metadata": {},
   "outputs": [],
   "source": [
    "def ppo_update():\n",
    "    #print(\"epoch:\")\n",
    "    for epoch in range(N_EPOCH):\n",
    "        #print(epoch, end = \", \")\n",
    "        for b_s, b_a, b_s_, b_old_LOG_PROBS, b_return, b_advantage in ppo_iter():\n",
    "            dist, value = NET(b_s.to(device))       \n",
    "            critic_loss = (b_return.to(device) - value).pow(2).mean()\n",
    "            entropy = dist.entropy().mean()\n",
    "            b_a_new = dist.sample()\n",
    "            b_new_LOG_PROBS = dist.log_prob(b_a_new)\n",
    "            ratio = (b_new_LOG_PROBS - b_old_LOG_PROBS.to(device)).exp()\n",
    "            surr1 = ratio * b_advantage.to(device)\n",
    "            surr2 = torch.clamp(ratio, 1.0-EPSILON, 1.0+EPSILON) * b_advantage.to(device)\n",
    "            actor_loss  = - torch.min(surr1, surr2).mean()\n",
    "            loss = 0.5 * critic_loss + actor_loss - 0.001 * entropy\n",
    "            OPTIMIZER.zero_grad()\n",
    "            loss.backward()\n",
    "            OPTIMIZER.step()\n",
    "    return float(critic_loss), float(actor_loss)"
   ]
  },
  {
   "cell_type": "markdown",
   "metadata": {},
   "source": [
    "### Try one training iteration"
   ]
  },
  {
   "cell_type": "code",
   "execution_count": 34,
   "metadata": {
    "id": "x2GNW0jsmg-Z",
    "outputId": "5a9937db-f4e6-4ff5-f4f0-35ebedb68d61"
   },
   "outputs": [],
   "source": [
    "ENV = UnityEnvironment(file_name= None, base_port=5004)"
   ]
  },
  {
   "cell_type": "code",
   "execution_count": 35,
   "metadata": {
    "id": "_SeNL04Fmg-b"
   },
   "outputs": [
    {
     "name": "stdout",
     "output_type": "stream",
     "text": [
      "Walker?team=0\n"
     ]
    }
   ],
   "source": [
    "ENV.reset()\n",
    "behavior_names = list(ENV.behavior_specs.keys())\n",
    "BEHAVIOR_NAME = behavior_names[0]\n",
    "print(BEHAVIOR_NAME)"
   ]
  },
  {
   "cell_type": "code",
   "execution_count": 36,
   "metadata": {},
   "outputs": [
    {
     "name": "stdout",
     "output_type": "stream",
     "text": [
      "Collecting  254  training steps from  10  agents: 0,\n"
     ]
    }
   ],
   "source": [
    "collect_training_data(print_message=True)"
   ]
  },
  {
   "cell_type": "code",
   "execution_count": 37,
   "metadata": {},
   "outputs": [],
   "source": [
    "# send last next state to calculate value\n",
    "_, next_value = NET(NEXT_STATES[-1].to(device)) "
   ]
  },
  {
   "cell_type": "code",
   "execution_count": 38,
   "metadata": {},
   "outputs": [],
   "source": [
    "RETURNS = compute_gae(next_value)"
   ]
  },
  {
   "cell_type": "code",
   "execution_count": 39,
   "metadata": {},
   "outputs": [],
   "source": [
    "MERGED_RETURNS   = torch.cat(RETURNS).detach()\n",
    "MERGED_LOG_PROBS = torch.cat(LOG_PROBS).detach()\n",
    "MERGED_VALUES    = torch.cat(VALUES).detach()\n",
    "MERGED_STATES    = torch.cat(STATES) \n",
    "MERGED_NEXT_STATES   = torch.cat(NEXT_STATES) \n",
    "MERGED_ACTIONS   = torch.cat(ACTIONS)\n",
    "MERGED_ADVANTAGES = MERGED_RETURNS - MERGED_VALUES"
   ]
  },
  {
   "cell_type": "code",
   "execution_count": 40,
   "metadata": {},
   "outputs": [],
   "source": [
    "BATCH_SIZE = 254         #Walker.yaml 2048\n",
    "BETA = 0.005\n",
    "EPSILON = 0.2\n",
    "N_EPOCH = 3"
   ]
  },
  {
   "cell_type": "code",
   "execution_count": 41,
   "metadata": {},
   "outputs": [
    {
     "name": "stdout",
     "output_type": "stream",
     "text": [
      "10.913178443908691 -15.266915321350098\n"
     ]
    }
   ],
   "source": [
    "critic_loss, actor_loss = ppo_update()\n",
    "print(critic_loss, actor_loss)"
   ]
  },
  {
   "cell_type": "code",
   "execution_count": 42,
   "metadata": {},
   "outputs": [],
   "source": [
    "ENV.close()"
   ]
  },
  {
   "cell_type": "markdown",
   "metadata": {},
   "source": [
    "# Interact with Unity for N steps"
   ]
  },
  {
   "cell_type": "code",
   "execution_count": 43,
   "metadata": {},
   "outputs": [],
   "source": [
    "MAX_STEPS = 30000    #Walker.yaml 30M\n",
    "SUMMARY_FREQ = 3000  #Walker.yaml 30K\n",
    "TIME_HORIZON = 1000  #I do not use this parameter in my porgram"
   ]
  },
  {
   "cell_type": "code",
   "execution_count": 44,
   "metadata": {},
   "outputs": [],
   "source": [
    "ENV = UnityEnvironment(file_name= None, base_port=5004)"
   ]
  },
  {
   "cell_type": "code",
   "execution_count": 45,
   "metadata": {},
   "outputs": [],
   "source": [
    "ENV.reset()\n",
    "BEHAVIOR_NAME = list(ENV.behavior_specs.keys())\n",
    "BEHAVIOR_NAME = BEHAVIOR_NAME[0]"
   ]
  },
  {
   "cell_type": "code",
   "execution_count": 46,
   "metadata": {},
   "outputs": [
    {
     "name": "stdout",
     "output_type": "stream",
     "text": [
      "Collecting  254  training steps from  10  agents: 0,\n",
      "Compute GAE of these training data set\n",
      "Optimize NN with PPO\n",
      "Collecting  254  training steps from  10  agents: 0,\n",
      "Compute GAE of these training data set\n",
      "Optimize NN with PPO\n",
      "Collecting  254  training steps from  10  agents: 0,\n",
      "Compute GAE of these training data set\n",
      "Optimize NN with PPO\n",
      "Already train  5080  steps\n",
      "Critic loss =  0.94  Actor loss =  -16.25\n",
      "Collecting  254  training steps from  10  agents: 0,\n",
      "Compute GAE of these training data set\n",
      "Optimize NN with PPO\n",
      "Already train  7620  steps\n",
      "Critic loss =  0.3  Actor loss =  -16.1\n",
      "Collecting  254  training steps from  10  agents: 0,\n",
      "Compute GAE of these training data set\n",
      "Optimize NN with PPO\n",
      "Already train  10160  steps\n",
      "Critic loss =  0.37  Actor loss =  -16.59\n",
      "Collecting  254  training steps from  10  agents: 0,\n",
      "Compute GAE of these training data set\n",
      "Optimize NN with PPO\n",
      "Already train  12700  steps\n",
      "Critic loss =  0.11  Actor loss =  -16.25\n",
      "Collecting  254  training steps from  10  agents: 0,\n",
      "Compute GAE of these training data set\n",
      "Optimize NN with PPO\n",
      "Already train  15240  steps\n",
      "Critic loss =  0.15  Actor loss =  -16.26\n",
      "Collecting  254  training steps from  10  agents: 0,\n",
      "Compute GAE of these training data set\n",
      "Optimize NN with PPO\n",
      "Collecting  254  training steps from  10  agents: 0,\n",
      "Compute GAE of these training data set\n",
      "Optimize NN with PPO\n",
      "Already train  20320  steps\n",
      "Critic loss =  0.11  Actor loss =  -16.38\n",
      "Collecting  254  training steps from  10  agents: 0,\n",
      "Compute GAE of these training data set\n",
      "Optimize NN with PPO\n",
      "Already train  22860  steps\n",
      "Critic loss =  0.15  Actor loss =  -16.43\n",
      "Collecting  254  training steps from  10  agents: 0,\n",
      "Compute GAE of these training data set\n",
      "Optimize NN with PPO\n",
      "Already train  25400  steps\n",
      "Critic loss =  0.09  Actor loss =  -16.27\n",
      "Collecting  254  training steps from  10  agents: 0,\n",
      "Compute GAE of these training data set\n",
      "Optimize NN with PPO\n",
      "Already train  27940  steps\n",
      "Critic loss =  0.11  Actor loss =  -16.42\n"
     ]
    }
   ],
   "source": [
    "ActorLossLst = []\n",
    "CriticLossLst = []\n",
    "ForwardLossLst = []\n",
    "steps  = 0 \n",
    "summary = SUMMARY_FREQ\n",
    "\n",
    "while (steps < MAX_STEPS):\n",
    "    #print(\"Collecting \", INTERACTION_STEPS, \" training steps from \", N_AGENTS, \" agents\", end=\": \")\n",
    "    collect_training_data(print_message=True)\n",
    "    _, next_value = NET(NEXT_STATES[-1].to(device)) \n",
    "    \n",
    "    print(\"Compute GAE of these training data set\")\n",
    "    RETURNS = compute_gae(next_value)\n",
    "    MERGED_RETURNS   = torch.cat(RETURNS).detach()\n",
    "    MERGED_LOG_PROBS = torch.cat(LOG_PROBS).detach()\n",
    "    MERGED_VALUES    = torch.cat(VALUES).detach()\n",
    "    MERGED_STATES    = torch.cat(STATES) \n",
    "    MERGED_NEXT_STATES    = torch.cat(NEXT_STATES) \n",
    "    MERGED_ACTIONS   = torch.cat(ACTIONS)\n",
    "    MERGED_ADVANTAGES = MERGED_RETURNS - MERGED_VALUES\n",
    "    \n",
    "    print(\"Optimize NN with PPO\")\n",
    "    critic_loss, actor_loss = ppo_update()\n",
    "    CriticLossLst.append(critic_loss)\n",
    "    ActorLossLst.append(actor_loss)\n",
    "    if(steps > summary):\n",
    "        print(\"Already train \", steps, \" steps\") \n",
    "        print(\"Critic loss = \", round(critic_loss, 2), \" Actor loss = \", round(actor_loss, 2))\n",
    "        summary += SUMMARY_FREQ\n",
    "\n",
    "    steps += INTERACTION_STEPS*N_AGENTS"
   ]
  },
  {
   "cell_type": "code",
   "execution_count": 47,
   "metadata": {},
   "outputs": [],
   "source": [
    "ENV.close()"
   ]
  },
  {
   "cell_type": "code",
   "execution_count": 48,
   "metadata": {},
   "outputs": [
    {
     "data": {
      "image/png": "[encoded data removed]",
      "text/plain": [
       "<Figure size 1296x432 with 2 Axes>"
      ]
     },
     "metadata": {
      "needs_background": "light"
     },
     "output_type": "display_data"
    }
   ],
   "source": [
    "fig=plt.figure(figsize=(18, 6))\n",
    "fig.add_subplot(1, 2, 1)  # 1 row, 2 columns\n",
    "plt.plot(CriticLossLst)\n",
    "\n",
    "fig.add_subplot(1, 2, 2) \n",
    "plt.plot(ActorLossLst)\n",
    "\n",
    "plt.show()"
   ]
  },
  {
   "cell_type": "code",
   "execution_count": null,
   "metadata": {},
   "outputs": [],
   "source": []
  }
 ],
 "metadata": {
  "colab": {
   "name": "3. NN with policy interacts with 3D Ball to collect training data (MLAgent 10).ipynb",
   "provenance": []
  },
  "kernelspec": {
   "display_name": "Python 3",
   "language": "python",
   "name": "python3"
  },
  "language_info": {
   "codemirror_mode": {
    "name": "ipython",
    "version": 3
   },
   "file_extension": ".py",
   "mimetype": "text/x-python",
   "name": "python",
   "nbconvert_exporter": "python",
   "pygments_lexer": "ipython3",
   "version": "3.6.13"
  }
 },
 "nbformat": 4,
 "nbformat_minor": 1
}
