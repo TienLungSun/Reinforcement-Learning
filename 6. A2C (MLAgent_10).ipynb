{
  "nbformat": 4,
  "nbformat_minor": 0,
  "metadata": {
    "colab": {
      "name": "3. NN with policy interacts with 3D Ball to collect training data (MLAgent 10).ipynb",
      "provenance": [],
      "include_colab_link": true
    },
    "kernelspec": {
      "display_name": "Python 3",
      "language": "python",
      "name": "python3"
    },
    "language_info": {
      "codemirror_mode": {
        "name": "ipython",
        "version": 3
      },
      "file_extension": ".py",
      "mimetype": "text/x-python",
      "name": "python",
      "nbconvert_exporter": "python",
      "pygments_lexer": "ipython3",
      "version": "3.6.13"
    }
  },
  "cells": [
    {
      "cell_type": "markdown",
      "metadata": {
        "id": "view-in-github",
        "colab_type": "text"
      },
      "source": [
        "<a href=\"https://colab.research.google.com/github/TienLungSun/Intelligent-Robot/blob/main/LearnPPO-AC/6.%20A2C%20(MLAgent_10).ipynb\" target=\"_parent\"><img src=\"https://colab.research.google.com/assets/colab-badge.svg\" alt=\"Open In Colab\"/></a>"
      ]
    },
    {
      "cell_type": "code",
      "metadata": {
        "id": "z29hg89Qmg-S"
      },
      "source": [
        "import torch\n",
        "import torch.nn as nn\n",
        "import torch.nn.functional as F\n",
        "import torch.optim as optim\n",
        "from torch.distributions import Normal\n",
        "import numpy as np\n",
        "import matplotlib.pyplot as plt\n",
        "from mlagents_envs.environment import UnityEnvironment"
      ],
      "execution_count": null,
      "outputs": []
    },
    {
      "cell_type": "code",
      "metadata": {
        "id": "U5TAt7Mcmg-W",
        "outputId": "6ef7273c-d02b-45b2-9512-a2e57da25817"
      },
      "source": [
        "if(torch.cuda.is_available()):\n",
        "    device = torch.device(\"cuda\")\n",
        "    print(device, torch.cuda.get_device_name(0))\n",
        "else:\n",
        "    device= torch.device(\"cpu\")\n",
        "    print(device)"
      ],
      "execution_count": null,
      "outputs": [
        {
          "name": "stdout",
          "output_type": "stream",
          "text": [
            "cuda NVIDIA GeForce RTX 3060\n"
          ]
        }
      ]
    },
    {
      "cell_type": "markdown",
      "metadata": {
        "id": "92EA-pu_Dh_5"
      },
      "source": [
        "### Training parameters (in Captical letters)"
      ]
    },
    {
      "cell_type": "code",
      "metadata": {
        "id": "0rHdXcP-mg-X"
      },
      "source": [
        "N_STATES  = 8\n",
        "N_ACTIONS =2\n",
        "\n",
        "N_AGENTS = 3   #My Unity scene has three training environment\n",
        "\n",
        "BATCH_SIZE = 64  \n",
        "BUFFER_SIZE = 12000\n",
        "LEARNING_RATE = 0.0003\n",
        "BETA = 0.001\n",
        "EPSILON = 0.2\n",
        "LAMBD = 0.99\n",
        "N_EPOCH = 3\n",
        "\n",
        "GAMMA = 0.99\n",
        "\n",
        "MAX_STEPS = 5000 #50000\n",
        "TIME_HORIZON = 50 #1000 "
      ],
      "execution_count": null,
      "outputs": []
    },
    {
      "cell_type": "code",
      "metadata": {
        "id": "bEjeAPtXmg-Y"
      },
      "source": [
        "def init_weights(m):\n",
        "    if isinstance(m, nn.Linear):\n",
        "        nn.init.normal_(m.weight, mean=0., std=0.1)\n",
        "        nn.init.constant_(m.bias, 0.1)"
      ],
      "execution_count": null,
      "outputs": []
    },
    {
      "cell_type": "code",
      "metadata": {
        "id": "9MJKXhTgmg-Y"
      },
      "source": [
        "class Net(nn.Module):\n",
        "    def __init__(self, ):\n",
        "        super(Net, self).__init__()\n",
        "        \n",
        "        self.critic = nn.Sequential(\n",
        "            nn.Linear(N_STATES, 128),\n",
        "            nn.LayerNorm(128),\n",
        "            nn.Linear(128, 128),\n",
        "            nn.LayerNorm(128),\n",
        "            nn.Linear(128, 1)\n",
        "        )\n",
        "        \n",
        "        self.actor = nn.Sequential(\n",
        "            nn.Linear(N_STATES, 128),\n",
        "            nn.LayerNorm(128),\n",
        "            nn.Linear(128, 128),\n",
        "            nn.LayerNorm(128),\n",
        "            nn.Linear(128, N_ACTIONS)\n",
        "        )\n",
        "        self.log_std = nn.Parameter(torch.ones(1, N_ACTIONS) * 0.0)\n",
        "        self.apply(init_weights)\n",
        "    \n",
        "    def forward(self, x):\n",
        "        value = self.critic(x)\n",
        "        mu    = self.actor(x)\n",
        "        std   = self.log_std.exp().expand_as(mu)\n",
        "        dist  = Normal(mu, std)\n",
        "        return dist, value"
      ],
      "execution_count": null,
      "outputs": []
    },
    {
      "cell_type": "code",
      "metadata": {
        "id": "sj7O_oOUmg-Z"
      },
      "source": [
        "net = Net().to(device)"
      ],
      "execution_count": null,
      "outputs": []
    },
    {
      "cell_type": "code",
      "metadata": {
        "id": "jL1aqmDaDh_8"
      },
      "source": [
        "optimizer = optim.Adam(net.parameters(), lr=LEARNING_RATE )"
      ],
      "execution_count": null,
      "outputs": []
    },
    {
      "cell_type": "markdown",
      "metadata": {
        "id": "yEsINDHZDh_8"
      },
      "source": [
        "### function to interacts with Unity NoSteps"
      ]
    },
    {
      "cell_type": "code",
      "metadata": {
        "id": "HyAOG01eDh_9"
      },
      "source": [
        "def collect_training_data (NoAgents, NoSteps, NoStates, NoActions, env, net):\n",
        "    # collect (s,a,r,s1) from 20 good interactions with Unity\n",
        "    a = torch.FloatTensor([[0]]*NoAgents) #create NoAgents by 1 tensor\n",
        "    b = torch.FloatTensor([[0]*NoActions]*NoAgents) \n",
        "    c = torch.FloatTensor([[0]*NoStates]*NoAgents) \n",
        "    values =rewards = masks = [a]*NoSteps\n",
        "    log_probs = actions = [b]*NoSteps\n",
        "    states =[c]*NoSteps\n",
        "    next_state = c\n",
        "\n",
        "    step = 0  #index 0\n",
        "    DecisionSteps, TerminalSteps = env.get_steps(behaviorName)\n",
        "    while(step < NoSteps): #try to run 20 good steps\n",
        "        if(len(DecisionSteps) == 0): #we have no decision agents\n",
        "            env.reset() \n",
        "            DecisionSteps, TerminalSteps = env.get_steps(behaviorName)\n",
        "            #continue next while loop without increase step\n",
        "        else:  # we have decision agents\n",
        "            lst = list(DecisionSteps.agent_id) + list(TerminalSteps.agent_id)\n",
        "            if(len(list(set(lst))) != NoAgents): \n",
        "                #if this step misses some agents, then only interacts with Unity \n",
        "                #but do not collect data\n",
        "                s = DecisionSteps.obs[0]  \n",
        "                s = torch.FloatTensor(s).to(device)    \n",
        "                dist, value = net(s)\n",
        "                a = dist.sample() \n",
        "                env.set_actions(behaviorName, a.cpu().detach().numpy() )   \n",
        "                env.step()\n",
        "                DecisionSteps, TerminalSteps = env.get_steps(behaviorName)\n",
        "                #continue next while loop without increase step\n",
        "            else: \n",
        "                #this step includes all agents, collect (s, a, r, s1)\n",
        "                s = DecisionSteps.obs[0]  \n",
        "                s = torch.FloatTensor(s).to(device)         \n",
        "                dist, value = net(s)\n",
        "                a = dist.sample()\n",
        "                log_prob = dist.log_prob(a)\n",
        "                for idx in range(len(DecisionSteps)):\n",
        "                    #find decision agents and record their state, value and actions\n",
        "                    AgentID = DecisionSteps.agent_id[idx]\n",
        "                    states[step][AgentID]=s[idx]\n",
        "                    values[step][AgentID]=value[idx]\n",
        "                    actions[step][AgentID]=a[idx]\n",
        "                    log_probs[step][AgentID]=log_prob[idx]\n",
        "                env.set_actions(behaviorName, a.cpu().detach().numpy() )   \n",
        "                env.step()\n",
        "                DecisionSteps, TerminalSteps = env.get_steps(behaviorName)\n",
        "                #if next step misses some agents, then do not update step\n",
        "                lst = list(DecisionSteps.agent_id) + list(TerminalSteps.agent_id)\n",
        "                if(len(list(set(lst))) != NoAgents):\n",
        "                    continue #skip this step, run next while loop without increase step index\n",
        "                else:\n",
        "                    #collect reward of this action from next decision and terminal steps\n",
        "                    if(len(TerminalSteps) >0):\n",
        "                        #if next step has terminal agents, then collect terminal agents first\n",
        "                        r = TerminalSteps.reward\n",
        "                        r = torch.FloatTensor(r).unsqueeze(1)\n",
        "                        s = TerminalSteps.obs[0]  \n",
        "                        s = torch.FloatTensor(s).to(device) \n",
        "                        for idx in range(len(TerminalSteps)):\n",
        "                            AgentID = TerminalSteps.agent_id[idx]\n",
        "                            rewards[step][AgentID]=r[idx]\n",
        "                            masks[step][AgentID]= 0\n",
        "                            next_state[AgentID]=s[idx]\n",
        "                    #collect from decision steps\n",
        "                    r = DecisionSteps.reward \n",
        "                    r = torch.FloatTensor(r).unsqueeze(1)\n",
        "                    s = DecisionSteps.obs[0]  \n",
        "                    s = torch.FloatTensor(s).to(device) \n",
        "                    for idx in range(len(DecisionSteps)):\n",
        "                        AgentID = DecisionSteps.agent_id[idx] \n",
        "                        if(rewards[step][AgentID] == None): #this agent is not in terminal step\n",
        "                            rewards[step][AgentID]= r[idx]\n",
        "                            masks[step][AgentID]= 1\n",
        "                            next_state[AgentID]=s[idx]\n",
        "                    step = step + 1 #increase step and run next while\n",
        "    return  states, actions, log_probs, values, rewards, masks, next_state"
      ],
      "execution_count": null,
      "outputs": []
    },
    {
      "cell_type": "markdown",
      "metadata": {
        "id": "DwSselWbDh_-"
      },
      "source": [
        "### GAE"
      ]
    },
    {
      "cell_type": "code",
      "metadata": {
        "id": "KSCNym-4Dh_-"
      },
      "source": [
        "def compute_gae(NoSteps, next_value, rewards, masks, values, gamma, tau):\n",
        "    values = values + [next_value.cpu()]\n",
        "    gae = 0\n",
        "    returns = []\n",
        "    for step in reversed(range(NoSteps)):\n",
        "        delta = rewards[step] + gamma * values[step + 1] * masks[step] - values[step]\n",
        "        gae = delta + gamma * tau * masks[step] * gae\n",
        "        returns.insert(0, gae + values[step])\n",
        "    return returns"
      ],
      "execution_count": null,
      "outputs": []
    },
    {
      "cell_type": "markdown",
      "metadata": {
        "id": "kWn73JT6Dh_-"
      },
      "source": [
        "### PPO optimization"
      ]
    },
    {
      "cell_type": "code",
      "metadata": {
        "id": "uuDgJC8tDh__"
      },
      "source": [
        "def ppo_iter(mini_batch_size, states, actions, log_probs, returns, advantages):\n",
        "    batch_size = states.size(0)\n",
        "    for _ in range(batch_size // mini_batch_size):\n",
        "        rand_ids = np.random.randint(0, batch_size, mini_batch_size)\n",
        "        yield states[rand_ids, :], actions[rand_ids, :], log_probs[rand_ids, :], returns[rand_ids, :], advantages[rand_ids, :]"
      ],
      "execution_count": null,
      "outputs": []
    },
    {
      "cell_type": "code",
      "metadata": {
        "id": "3y41wmszDh__"
      },
      "source": [
        "def ppo_update(ppo_epochs, mini_batch_size, states, actions, log_probs, returns, advantages, clip_param=0.2):\n",
        "    print(\"epoch:\")\n",
        "    for epoch in range(ppo_epochs):\n",
        "        print(epoch, end = \", \")\n",
        "        for batch_state, batch_action, batch_old_log_probs, batch_return, batch_advantage in ppo_iter(mini_batch_size, states, actions, log_probs, returns, advantages):\n",
        "            dist, value = net(batch_state.to(device))\n",
        "            critic_loss = (batch_return.to(device) - value).pow(2).mean()\n",
        "            entropy = dist.entropy().mean()\n",
        "            batch_action = dist.sample()\n",
        "            batch_new_log_probs = dist.log_prob(batch_action)\n",
        "            ratio = (batch_new_log_probs - batch_old_log_probs.to(device)).exp()\n",
        "            surr1 = ratio * batch_advantage.to(device)\n",
        "            surr2 = torch.clamp(ratio, 1.0 - clip_param, 1.0 + clip_param) * batch_advantage.to(device)\n",
        "            actor_loss  = - torch.min(surr1, surr2).mean()\n",
        "            loss = 0.5 * critic_loss + actor_loss - 0.001 * entropy\n",
        "            optimizer.zero_grad()\n",
        "            loss.backward()\n",
        "            optimizer.step()\n",
        "    return float(critic_loss), float(actor_loss)"
      ],
      "execution_count": null,
      "outputs": []
    },
    {
      "cell_type": "markdown",
      "metadata": {
        "id": "pUWxUWiXDh__"
      },
      "source": [
        "### Try one training iteration"
      ]
    },
    {
      "cell_type": "code",
      "metadata": {
        "id": "x2GNW0jsmg-Z"
      },
      "source": [
        "env = UnityEnvironment(file_name= None, base_port=5004)"
      ],
      "execution_count": null,
      "outputs": []
    },
    {
      "cell_type": "code",
      "metadata": {
        "id": "_SeNL04Fmg-b",
        "outputId": "db1ecbe7-f278-4de5-e768-2a804389a35d"
      },
      "source": [
        "env.reset()\n",
        "behaviorNames = list(env.behavior_specs.keys())\n",
        "behaviorName = behaviorNames[0]\n",
        "print(behaviorName)"
      ],
      "execution_count": null,
      "outputs": [
        {
          "name": "stdout",
          "output_type": "stream",
          "text": [
            "3DBall?team=0\n"
          ]
        }
      ]
    },
    {
      "cell_type": "code",
      "metadata": {
        "id": "oZ0WB47JDiAA",
        "outputId": "05338931-4788-446f-8439-65a73bfc7d99"
      },
      "source": [
        "states, actions, log_probs, values, rewards, masks, next_state = collect_training_data (N_AGENTS, TIME_HORIZON, N_STATES, N_ACTIONS, env, net)\n",
        "print(len(log_probs), log_probs[0].shape)\n",
        "print(len(values), values[0].shape)\n",
        "print(len(rewards), rewards[0].shape)\n",
        "print(len(masks), masks[0].shape)\n",
        "print(len(states), states[0].shape)\n",
        "print(len(actions), actions[0].shape)\n",
        "print(next_state.shape)"
      ],
      "execution_count": null,
      "outputs": [
        {
          "name": "stdout",
          "output_type": "stream",
          "text": [
            "50 torch.Size([3, 2])\n",
            "50 torch.Size([3, 1])\n",
            "50 torch.Size([3, 1])\n",
            "50 torch.Size([3, 1])\n",
            "50 torch.Size([3, 8])\n",
            "50 torch.Size([3, 2])\n",
            "torch.Size([3, 8])\n"
          ]
        }
      ]
    },
    {
      "cell_type": "code",
      "metadata": {
        "id": "uG1NdxNVDiAA"
      },
      "source": [
        "_, next_value = net(next_state.to(device))"
      ],
      "execution_count": null,
      "outputs": []
    },
    {
      "cell_type": "code",
      "metadata": {
        "id": "Q6MWLqjRDiAA"
      },
      "source": [
        "returns = compute_gae(TIME_HORIZON, next_value, rewards, masks, values, GAMMA, LAMBD)"
      ],
      "execution_count": null,
      "outputs": []
    },
    {
      "cell_type": "code",
      "metadata": {
        "id": "AKJXBxIFDiAA"
      },
      "source": [
        "returns   = torch.cat(returns).detach()\n",
        "log_probs = torch.cat(log_probs).detach()\n",
        "values    = torch.cat(values).detach()\n",
        "states    = torch.cat(states) \n",
        "actions   = torch.cat(actions)\n",
        "advantages = returns - values"
      ],
      "execution_count": null,
      "outputs": []
    },
    {
      "cell_type": "code",
      "metadata": {
        "id": "5s8XbwKGDiAB",
        "outputId": "8d45a06e-afd6-4dba-bd94-7fab189c7030"
      },
      "source": [
        "print(len(returns), returns[0].shape)\n",
        "print(len(log_probs), log_probs[0].shape)\n",
        "print(len(values), values[0].shape)\n",
        "print(len(states), states[0].shape)\n",
        "print(len(actions), actions[0].shape)\n",
        "print(len(advantages), advantages[0].shape)"
      ],
      "execution_count": null,
      "outputs": [
        {
          "name": "stdout",
          "output_type": "stream",
          "text": [
            "150 torch.Size([1])\n",
            "150 torch.Size([2])\n",
            "150 torch.Size([1])\n",
            "150 torch.Size([8])\n",
            "150 torch.Size([2])\n",
            "150 torch.Size([1])\n"
          ]
        }
      ]
    },
    {
      "cell_type": "code",
      "metadata": {
        "id": "f2AKtfulDiAB",
        "outputId": "75f1614a-350a-4a52-8f03-6482c58005dd"
      },
      "source": [
        "critic_loss, actor_loss = ppo_update(N_EPOCH, BATCH_SIZE, states, actions, log_probs, returns, advantages, clip_param=0.2)\n",
        "print(critic_loss, actor_loss)"
      ],
      "execution_count": null,
      "outputs": [
        {
          "name": "stdout",
          "output_type": "stream",
          "text": [
            "epoch:\n",
            "0, 1, 2, 0.01515818852931261 -0.1055479496717453\n"
          ]
        }
      ]
    },
    {
      "cell_type": "code",
      "metadata": {
        "id": "kz0Y9DixDiAB"
      },
      "source": [
        "env.close()"
      ],
      "execution_count": null,
      "outputs": []
    },
    {
      "cell_type": "markdown",
      "metadata": {
        "id": "j0CKKLi5DiAB"
      },
      "source": [
        "# run PPO optimization multiple iterations"
      ]
    },
    {
      "cell_type": "code",
      "metadata": {
        "id": "i3FLaPWnDiAB"
      },
      "source": [
        "BATCH_SIZE = 64  \n",
        "BUFFER_SIZE = 12000\n",
        "N_EPOCH = 3\n",
        "\n",
        "BETA = 0.001\n",
        "EPSILON = 0.2\n",
        "LAMBD = 0.99\n",
        "GAMMA = 0.99\n",
        "\n",
        "MAX_STEPS = 500 #50000\n",
        "TIME_HORIZON = 50 #1000 "
      ],
      "execution_count": null,
      "outputs": []
    },
    {
      "cell_type": "code",
      "metadata": {
        "id": "dkTGv0lYDiAB"
      },
      "source": [
        "env = UnityEnvironment(file_name= None, base_port=5004)"
      ],
      "execution_count": null,
      "outputs": []
    },
    {
      "cell_type": "code",
      "metadata": {
        "id": "ddvH3V-xDiAC",
        "outputId": "050a8613-9c64-46f7-bdcc-82251ffce2db"
      },
      "source": [
        "env.reset()\n",
        "behaviorNames = list(env.behavior_specs.keys())\n",
        "behaviorName = behaviorNames[0]\n",
        "print(behaviorName)"
      ],
      "execution_count": null,
      "outputs": [
        {
          "name": "stdout",
          "output_type": "stream",
          "text": [
            "3DBall?team=0\n"
          ]
        }
      ]
    },
    {
      "cell_type": "code",
      "metadata": {
        "id": "cCliTDIVDiAC",
        "outputId": "662c28a6-3ed5-419c-b5ae-905b847475e2"
      },
      "source": [
        "ActorLossLst = []\n",
        "CriticLossLst = []\n",
        "frame_idx  = 0 \n",
        "\n",
        "while (frame_idx < MAX_STEPS):\n",
        "    print(\"\\nframe idx = \", frame_idx)\n",
        "    print(\"Interacts with Unity to collect training data\")\n",
        "    states, actions, log_probs, values, rewards, masks, next_state = collect_training_data (N_AGENTS, TIME_HORIZON, N_STATES, N_ACTIONS, env, net)\n",
        "    _, next_value = net(next_state.to(device)) \n",
        "    \n",
        "    print(\"Compute GAE of these training data set\")\n",
        "    returns = compute_gae(TIME_HORIZON, next_value, rewards, masks, values, GAMMA, LAMBD)\n",
        "\n",
        "    returns   = torch.cat(returns).detach()\n",
        "    log_probs = torch.cat(log_probs).detach()\n",
        "    values    = torch.cat(values).detach()\n",
        "    states    = torch.cat(states) \n",
        "    actions   = torch.cat(actions)\n",
        "    advantages = returns - values\n",
        "    \n",
        "    print(\"Optimize NN with PPO\")\n",
        "    critic_loss, actor_loss = ppo_update(N_EPOCH, BATCH_SIZE, states, actions, log_probs, returns, advantages, clip_param=0.2)\n",
        "    CriticLossLst.append(critic_loss)\n",
        "    ActorLossLst.append(actor_loss)\n",
        "\n",
        "    frame_idx += TIME_HORIZON"
      ],
      "execution_count": null,
      "outputs": [
        {
          "name": "stdout",
          "output_type": "stream",
          "text": [
            "\n",
            "frame idx =  0\n",
            "Interacts with Unity to collect training data\n",
            "Compute GAE of these training data set\n",
            "Optimize NN with PPO\n",
            "epoch:\n",
            "0, 1, 2, \n",
            "frame idx =  50\n",
            "Interacts with Unity to collect training data\n",
            "Compute GAE of these training data set\n",
            "Optimize NN with PPO\n",
            "epoch:\n",
            "0, 1, 2, \n",
            "frame idx =  100\n",
            "Interacts with Unity to collect training data\n",
            "Compute GAE of these training data set\n",
            "Optimize NN with PPO\n",
            "epoch:\n",
            "0, 1, 2, \n",
            "frame idx =  150\n",
            "Interacts with Unity to collect training data\n",
            "Compute GAE of these training data set\n",
            "Optimize NN with PPO\n",
            "epoch:\n",
            "0, 1, 2, \n",
            "frame idx =  200\n",
            "Interacts with Unity to collect training data\n",
            "Compute GAE of these training data set\n",
            "Optimize NN with PPO\n",
            "epoch:\n",
            "0, 1, 2, \n",
            "frame idx =  250\n",
            "Interacts with Unity to collect training data\n",
            "Compute GAE of these training data set\n",
            "Optimize NN with PPO\n",
            "epoch:\n",
            "0, 1, 2, \n",
            "frame idx =  300\n",
            "Interacts with Unity to collect training data\n",
            "Compute GAE of these training data set\n",
            "Optimize NN with PPO\n",
            "epoch:\n",
            "0, 1, 2, \n",
            "frame idx =  350\n",
            "Interacts with Unity to collect training data\n",
            "Compute GAE of these training data set\n",
            "Optimize NN with PPO\n",
            "epoch:\n",
            "0, 1, 2, \n",
            "frame idx =  400\n",
            "Interacts with Unity to collect training data\n",
            "Compute GAE of these training data set\n",
            "Optimize NN with PPO\n",
            "epoch:\n",
            "0, 1, 2, \n",
            "frame idx =  450\n",
            "Interacts with Unity to collect training data\n",
            "Compute GAE of these training data set\n",
            "Optimize NN with PPO\n",
            "epoch:\n",
            "0, 1, 2, "
          ]
        }
      ]
    },
    {
      "cell_type": "code",
      "metadata": {
        "id": "obtTiPnPDiAC"
      },
      "source": [
        "env.close()"
      ],
      "execution_count": null,
      "outputs": []
    },
    {
      "cell_type": "code",
      "metadata": {
        "id": "_lP94B3NDiAC",
        "outputId": "a7f027e2-a29a-49d2-b193-f777927c89a3"
      },
      "source": [
        "fig=plt.figure(figsize=(18, 6))\n",
        "fig.add_subplot(1, 2, 1)  # 1 row, 2 columns\n",
        "plt.plot(CriticLossLst)\n",
        "\n",
        "fig.add_subplot(1, 2, 2) \n",
        "plt.plot(ActorLossLst)\n",
        "\n",
        "plt.show()"
      ],
      "execution_count": null,
      "outputs": [
        {
          "data": {
            "image/png": "[encoded data removed]",
            "text/plain": [
              "<Figure size 1296x432 with 2 Axes>"
            ]
          },
          "metadata": {
            "needs_background": "light"
          },
          "output_type": "display_data"
        }
      ]
    },
    {
      "cell_type": "code",
      "metadata": {
        "id": "4-MbOKfxDiAC"
      },
      "source": [
        ""
      ],
      "execution_count": null,
      "outputs": []
    }
  ]
}